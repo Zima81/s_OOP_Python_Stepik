{
 "cells": [
  {
   "metadata": {},
   "cell_type": "markdown",
   "source": "### Подвиг 3. Объявите класс с именем Clock и определите в нем следующие переменные и методы",
   "id": "1aafabc9d0580f84"
  },
  {
   "metadata": {
    "ExecuteTime": {
     "end_time": "2024-10-16T18:55:53.656475Z",
     "start_time": "2024-10-16T18:55:53.653224Z"
    }
   },
   "cell_type": "code",
   "source": "import datetime",
   "id": "f5ed61c7bfcb8425",
   "outputs": [],
   "execution_count": 5
  },
  {
   "metadata": {
    "ExecuteTime": {
     "end_time": "2024-10-16T18:58:11.237413Z",
     "start_time": "2024-10-16T18:58:11.232302Z"
    }
   },
   "cell_type": "code",
   "source": [
    "class Clock:\n",
    "    \n",
    "    def __time(self):\n",
    "        now = datetime.datetime.now() \n",
    "        self.time = now.strftime('%H:%M:%S') "
   ],
   "id": "4a04ed101ad8f5ce",
   "outputs": [],
   "execution_count": 6
  },
  {
   "metadata": {
    "ExecuteTime": {
     "end_time": "2024-10-16T18:58:27.388381Z",
     "start_time": "2024-10-16T18:58:27.383438Z"
    }
   },
   "cell_type": "code",
   "source": "pt = Clock()",
   "id": "d0ad015c17c49f5d",
   "outputs": [],
   "execution_count": 7
  },
  {
   "metadata": {
    "ExecuteTime": {
     "end_time": "2024-10-16T18:59:34.085595Z",
     "start_time": "2024-10-16T18:59:34.080162Z"
    }
   },
   "cell_type": "code",
   "source": "print(pt._Clock__time)",
   "id": "4a5b3e3a54c2b43f",
   "outputs": [
    {
     "name": "stdout",
     "output_type": "stream",
     "text": [
      "<bound method Clock.__time of <__main__.Clock object at 0x783f961b6a70>>\n"
     ]
    }
   ],
   "execution_count": 12
  },
  {
   "metadata": {
    "ExecuteTime": {
     "end_time": "2024-10-16T19:00:08.161509Z",
     "start_time": "2024-10-16T19:00:08.156148Z"
    }
   },
   "cell_type": "code",
   "source": [
    "now = datetime.datetime.now() \n",
    "time = now.strftime('%H:%M:%S') "
   ],
   "id": "1d532f5f930f64a5",
   "outputs": [],
   "execution_count": 13
  },
  {
   "metadata": {
    "ExecuteTime": {
     "end_time": "2024-10-16T19:00:10.485990Z",
     "start_time": "2024-10-16T19:00:10.480524Z"
    }
   },
   "cell_type": "code",
   "source": "time",
   "id": "cfbb88c5b47791ab",
   "outputs": [
    {
     "data": {
      "text/plain": [
       "'22:00:08'"
      ]
     },
     "execution_count": 14,
     "metadata": {},
     "output_type": "execute_result"
    }
   ],
   "execution_count": 14
  },
  {
   "metadata": {},
   "cell_type": "code",
   "outputs": [],
   "execution_count": null,
   "source": "",
   "id": "e4e08385eb77b741"
  }
 ],
 "metadata": {
  "kernelspec": {
   "display_name": "Python 3",
   "language": "python",
   "name": "python3"
  },
  "language_info": {
   "codemirror_mode": {
    "name": "ipython",
    "version": 2
   },
   "file_extension": ".py",
   "mimetype": "text/x-python",
   "name": "python",
   "nbconvert_exporter": "python",
   "pygments_lexer": "ipython2",
   "version": "2.7.6"
  }
 },
 "nbformat": 4,
 "nbformat_minor": 5
}
