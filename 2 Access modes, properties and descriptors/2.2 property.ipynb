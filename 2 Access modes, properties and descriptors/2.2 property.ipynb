{
 "cells": [
  {
   "metadata": {},
   "cell_type": "markdown",
   "source": "## Свойства property.",
   "id": "f87be83a4cbc7277"
  },
  {
   "metadata": {
    "ExecuteTime": {
     "end_time": "2024-11-13T09:31:41.424696Z",
     "start_time": "2024-11-13T09:31:41.416160Z"
    }
   },
   "cell_type": "code",
   "source": [
    "class Point:\n",
    "    def __init__(self, name, old):\n",
    "        self.__name = name\n",
    "        self.__old = old\n",
    "\n",
    "    def get_old(self):\n",
    "        return self.__old\n",
    "\n",
    "    def set_old(self, old):\n",
    "        self.__old = old\n",
    "        \n",
    "    # time code 3:11\n",
    "    old = property(get_old, set_old)"
   ],
   "id": "initial_id",
   "outputs": [],
   "execution_count": 2
  },
  {
   "metadata": {
    "ExecuteTime": {
     "end_time": "2024-11-12T18:50:10.450608Z",
     "start_time": "2024-11-12T18:50:10.445609Z"
    }
   },
   "cell_type": "code",
   "source": [
    "pt = Point('Tom', 23)\n",
    "print(pt.get_old())\n",
    "pt.set_old(50)\n",
    "print(pt.get_old())"
   ],
   "id": "e73447370b3ac7b",
   "outputs": [
    {
     "name": "stdout",
     "output_type": "stream",
     "text": [
      "23\n",
      "50\n"
     ]
    }
   ],
   "execution_count": 26
  },
  {
   "metadata": {},
   "cell_type": "markdown",
   "source": "time code 3:11",
   "id": "832873e6f484bbcf"
  },
  {
   "metadata": {
    "ExecuteTime": {
     "end_time": "2024-11-12T18:50:11.513669Z",
     "start_time": "2024-11-12T18:50:11.508270Z"
    }
   },
   "cell_type": "code",
   "source": [
    "print(pt.old, pt.__dict__)  # Вызывает get_old\n",
    "pt.old = 100  # Вызывает set_old\n",
    "print(pt.old, pt.__dict__)   # *.__dict__ выводит все атрибуты экз. класса"
   ],
   "id": "a71a9617312877fa",
   "outputs": [
    {
     "name": "stdout",
     "output_type": "stream",
     "text": [
      "50 {'_Point__name': 'Tom', '_Point__old': 50}\n",
      "100 {'_Point__name': 'Tom', '_Point__old': 100}\n"
     ]
    }
   ],
   "execution_count": 27
  },
  {
   "metadata": {
    "ExecuteTime": {
     "end_time": "2024-11-13T09:31:34.847448Z",
     "start_time": "2024-11-13T09:31:34.841335Z"
    }
   },
   "cell_type": "code",
   "source": "x = property()",
   "id": "9e92405033b27908",
   "outputs": [],
   "execution_count": 1
  },
  {
   "metadata": {
    "ExecuteTime": {
     "end_time": "2024-11-13T10:08:00.069302Z",
     "start_time": "2024-11-13T10:08:00.037255Z"
    }
   },
   "cell_type": "code",
   "source": [
    "# Декораторы свойства property()\n",
    "x.setter()\n",
    "x.getter()\n",
    "x.deleter()"
   ],
   "id": "f55aebdc4a21b00b",
   "outputs": [
    {
     "ename": "TypeError",
     "evalue": "property.setter() takes exactly one argument (0 given)",
     "output_type": "error",
     "traceback": [
      "\u001B[0;31m---------------------------------------------------------------------------\u001B[0m",
      "\u001B[0;31mTypeError\u001B[0m                                 Traceback (most recent call last)",
      "Cell \u001B[0;32mIn[5], line 2\u001B[0m\n\u001B[1;32m      1\u001B[0m \u001B[38;5;66;03m# Декораторы свойства property()\u001B[39;00m\n\u001B[0;32m----> 2\u001B[0m \u001B[43mx\u001B[49m\u001B[38;5;241;43m.\u001B[39;49m\u001B[43msetter\u001B[49m\u001B[43m(\u001B[49m\u001B[43m)\u001B[49m\n\u001B[1;32m      3\u001B[0m x\u001B[38;5;241m.\u001B[39mgetter()\n\u001B[1;32m      4\u001B[0m x\u001B[38;5;241m.\u001B[39mdeleter()\n",
      "\u001B[0;31mTypeError\u001B[0m: property.setter() takes exactly one argument (0 given)"
     ]
    }
   ],
   "execution_count": 5
  },
  {
   "metadata": {
    "ExecuteTime": {
     "end_time": "2024-11-13T10:11:28.537843Z",
     "start_time": "2024-11-13T10:11:28.529555Z"
    }
   },
   "cell_type": "code",
   "source": [
    "class Point:\n",
    "    def __init__(self, name, old):\n",
    "        self.__name = name\n",
    "        self.__old = old\n",
    "\n",
    "    def get_old(self):\n",
    "        return self.__old\n",
    "\n",
    "    def set_old(self, old):\n",
    "        self.__old = old\n",
    "        \n",
    "    \"\"\"\n",
    "    old = property(get_old, set_old)\n",
    "    Переписать с использованиям декораторов\n",
    "    \"\"\"\n",
    "    old = property()\n",
    "    old = old.getter(get_old)\n",
    "    old = old.setter(set_old)"
   ],
   "id": "a6b1537cd16baf6",
   "outputs": [],
   "execution_count": 6
  },
  {
   "metadata": {
    "ExecuteTime": {
     "end_time": "2024-11-13T10:11:42.113294Z",
     "start_time": "2024-11-13T10:11:42.108437Z"
    }
   },
   "cell_type": "code",
   "source": "pt = Point('Tom', 10)",
   "id": "e60d50e8f9de677c",
   "outputs": [],
   "execution_count": 7
  },
  {
   "metadata": {
    "ExecuteTime": {
     "end_time": "2024-11-13T10:12:09.618471Z",
     "start_time": "2024-11-13T10:12:09.612702Z"
    }
   },
   "cell_type": "code",
   "source": [
    "print(pt.old)\n",
    "pt.old = 20\n",
    "print(pt.old)"
   ],
   "id": "6a55950fcbf64299",
   "outputs": [
    {
     "name": "stdout",
     "output_type": "stream",
     "text": [
      "10\n",
      "20\n"
     ]
    }
   ],
   "execution_count": 8
  },
  {
   "metadata": {
    "ExecuteTime": {
     "end_time": "2024-11-13T10:20:20.930783Z",
     "start_time": "2024-11-13T10:20:20.926062Z"
    }
   },
   "cell_type": "code",
   "source": [
    "\"\"\"\n",
    "    old = property()\n",
    "    old = old.getter(get_old)\n",
    "    old = old.setter(set_old)\n",
    "    \n",
    "    т.к. данная запись представляет дублирование её переписывают ...\n",
    "\"\"\"\n",
    "class Point:\n",
    "    def __init__(self, name, old):\n",
    "        self.__name = name\n",
    "        self.__old = old\n",
    "    \n",
    "    @property             # создаётся property.getter()\n",
    "    def get_old(self):\n",
    "        return self.__old\n",
    "    \n",
    "    @get_old.setter           # создаётся property.setter()\n",
    "    def get_old(self, old):\n",
    "        self.__old = old\n",
    "        \n",
    "    @get_old.deleter           # создаётся property.deleter()\n",
    "    def get_old(self):\n",
    "        del self.__old\n",
    "    \n",
    "    \"\"\"\n",
    "    Именно так и записывается property\n",
    "    \"\"\""
   ],
   "id": "8ae73c72584fe4d1",
   "outputs": [],
   "execution_count": 9
  },
  {
   "metadata": {
    "ExecuteTime": {
     "end_time": "2024-11-13T10:22:22.886466Z",
     "start_time": "2024-11-13T10:22:22.880001Z"
    }
   },
   "cell_type": "code",
   "source": [
    "pt2 = Point('Tom', 10)\n",
    "print(pt2.get_old, '\\n', pt2.__dict__, '\\n\\n')\n",
    "pt2.get_old = 20\n",
    "print(pt2.get_old, '\\n', pt2.__dict__, '\\n\\n')\n",
    "del pt2.get_old\n",
    "print(pt2.__dict__)"
   ],
   "id": "f4719399e36c97e0",
   "outputs": [
    {
     "name": "stdout",
     "output_type": "stream",
     "text": [
      "10 \n",
      " {'_Point__name': 'Tom', '_Point__old': 10} \n",
      "\n",
      "\n",
      "20 \n",
      " {'_Point__name': 'Tom', '_Point__old': 20} \n",
      "\n",
      "\n",
      "{'_Point__name': 'Tom'}\n"
     ]
    }
   ],
   "execution_count": 10
  },
  {
   "metadata": {},
   "cell_type": "code",
   "outputs": [],
   "execution_count": null,
   "source": "",
   "id": "4a6689d74f795233"
  }
 ],
 "metadata": {
  "kernelspec": {
   "display_name": "Python 3",
   "language": "python",
   "name": "python3"
  },
  "language_info": {
   "codemirror_mode": {
    "name": "ipython",
    "version": 2
   },
   "file_extension": ".py",
   "mimetype": "text/x-python",
   "name": "python",
   "nbconvert_exporter": "python",
   "pygments_lexer": "ipython2",
   "version": "2.7.6"
  }
 },
 "nbformat": 4,
 "nbformat_minor": 5
}
