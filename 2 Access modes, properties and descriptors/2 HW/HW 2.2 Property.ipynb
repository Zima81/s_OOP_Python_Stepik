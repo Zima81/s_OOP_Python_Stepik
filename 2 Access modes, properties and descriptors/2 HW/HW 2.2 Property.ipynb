{
 "cells": [
  {
   "metadata": {},
   "cell_type": "markdown",
   "source": [
    "## Подвиг 4\n",
    "Объявите в программе класс Car, в котором реализуйте объект-свойство с именем model для записи и считывания информации о модели автомобиля из локальной приватной переменной __model."
   ],
   "id": "81a326b063cf067d"
  },
  {
   "metadata": {
    "ExecuteTime": {
     "end_time": "2024-11-13T14:29:02.565428Z",
     "start_time": "2024-11-13T14:29:02.558303Z"
    }
   },
   "cell_type": "code",
   "source": [
    "class Car:\n",
    "    def __init__(self, model = None):\n",
    "        self.__model = model\n",
    "    \n",
    "    @property\n",
    "    def model(self):\n",
    "        return self.__model\n",
    "    \n",
    "    @model.setter\n",
    "    def model(self, model):\n",
    "        if isinstance(model, str) and 2 <=  len(model) <= 100:\n",
    "                self.__model = model"
   ],
   "id": "a1b60b04c6127006",
   "outputs": [],
   "execution_count": 15
  },
  {
   "metadata": {
    "ExecuteTime": {
     "end_time": "2024-11-13T14:29:07.759282Z",
     "start_time": "2024-11-13T14:29:07.754916Z"
    }
   },
   "cell_type": "code",
   "source": "car = Car()",
   "id": "7b628a881cfa26a1",
   "outputs": [],
   "execution_count": 19
  },
  {
   "metadata": {
    "ExecuteTime": {
     "end_time": "2024-11-13T14:29:08.019253Z",
     "start_time": "2024-11-13T14:29:08.013705Z"
    }
   },
   "cell_type": "code",
   "source": "car.model = 'aa'",
   "id": "327a5d73b7e34bd7",
   "outputs": [],
   "execution_count": 20
  },
  {
   "metadata": {
    "ExecuteTime": {
     "end_time": "2024-11-13T14:33:24.236844Z",
     "start_time": "2024-11-13T14:33:24.230821Z"
    }
   },
   "cell_type": "code",
   "source": "print(car.model)",
   "id": "49e4e7d2178ce5d4",
   "outputs": [
    {
     "name": "stdout",
     "output_type": "stream",
     "text": [
      "aa\n"
     ]
    }
   ],
   "execution_count": 22
  },
  {
   "metadata": {},
   "cell_type": "markdown",
   "source": [
    "## Подвиг 5. \n",
    "Объявите в программе класс WindowDlg"
   ],
   "id": "3f765061e0474b8f"
  },
  {
   "metadata": {
    "ExecuteTime": {
     "end_time": "2024-11-13T15:24:40.797901Z",
     "start_time": "2024-11-13T15:24:40.785647Z"
    }
   },
   "cell_type": "code",
   "source": [
    "class WindowDlg:\n",
    "    def __init__(self, title=None, width=None, height=None):\n",
    "        self.__title = str(title).strip()\n",
    "        self.__width = int(width)\n",
    "        self.__height = int(height)\n",
    "    \n",
    "    @property\n",
    "    def width(self):\n",
    "        return self.__width\n",
    "    @width.setter\n",
    "    def width(self, width):\n",
    "        if self.__check_type(width):\n",
    "            if self.__width != width:\n",
    "                self.__width = width\n",
    "                self.show()\n",
    "            else:\n",
    "                self.__width = width\n",
    "        \n",
    "    \n",
    "    @property\n",
    "    def height(self):\n",
    "        return self.__height\n",
    "    @height.setter\n",
    "    def height(self, height):\n",
    "        if self.__check_type(height):\n",
    "            if self.__height != height:\n",
    "                self.__height = height\n",
    "                self.show()\n",
    "            else:\n",
    "                self.__height = height\n",
    "        \n",
    "    \n",
    "    @classmethod\n",
    "    def __check_type(cls, data_w_h):\n",
    "        \"\"\"Проверка переданное значение является целым числом в диапазоне [0; 10000] \"\"\"\n",
    "        if isinstance(data_w_h, int) and 0 <= data_w_h <= 10000:\n",
    "            return data_w_h\n",
    "    \n",
    "    def show(self):\n",
    "        \"\"\" Для отображения окна на экране (выводит в консоль строку в формате: \"<Заголовок>: <ширина>, <высота>\"\"\"\n",
    "        print(f\"{self.__title}:{self.__width}, {self.__height}\")"
   ],
   "id": "791ca86b9331dee8",
   "outputs": [],
   "execution_count": 45
  },
  {
   "metadata": {
    "ExecuteTime": {
     "end_time": "2024-11-13T15:24:41.688217Z",
     "start_time": "2024-11-13T15:24:41.683450Z"
    }
   },
   "cell_type": "code",
   "source": "wnd = WindowDlg('заголовок окна', 10, 100)",
   "id": "add531ac4c1bd554",
   "outputs": [],
   "execution_count": 46
  },
  {
   "metadata": {
    "ExecuteTime": {
     "end_time": "2024-11-13T15:25:11.190529Z",
     "start_time": "2024-11-13T15:25:11.184651Z"
    }
   },
   "cell_type": "code",
   "source": "wnd.width = 20",
   "id": "8de06d6663a587d",
   "outputs": [
    {
     "name": "stdout",
     "output_type": "stream",
     "text": [
      "заголовок окна:20, 100\n"
     ]
    }
   ],
   "execution_count": 48
  },
  {
   "metadata": {},
   "cell_type": "markdown",
   "source": [
    "## Подвиг 6. \n",
    "Реализуйте односвязный список"
   ],
   "id": "b6377a6f683c8d17"
  },
  {
   "metadata": {
    "ExecuteTime": {
     "end_time": "2024-11-13T15:24:34.086262Z",
     "start_time": "2024-11-13T15:24:34.058287Z"
    }
   },
   "cell_type": "code",
   "source": "",
   "id": "2488c46520adf790",
   "outputs": [
    {
     "ename": "AttributeError",
     "evalue": "'int' object has no attribute 'show'",
     "output_type": "error",
     "traceback": [
      "\u001B[0;31m---------------------------------------------------------------------------\u001B[0m",
      "\u001B[0;31mAttributeError\u001B[0m                            Traceback (most recent call last)",
      "Cell \u001B[0;32mIn[44], line 1\u001B[0m\n\u001B[0;32m----> 1\u001B[0m \u001B[43mwnd\u001B[49m\u001B[38;5;241;43m.\u001B[39;49m\u001B[43mshow\u001B[49m()\n",
      "\u001B[0;31mAttributeError\u001B[0m: 'int' object has no attribute 'show'"
     ]
    }
   ],
   "execution_count": 44
  },
  {
   "metadata": {},
   "cell_type": "markdown",
   "source": [
    "## Подвиг 7. \n",
    "Объявите класс RadiusVector2D"
   ],
   "id": "cd5ed7786a8598fa"
  },
  {
   "metadata": {
    "ExecuteTime": {
     "end_time": "2024-11-13T16:34:58.220583Z",
     "start_time": "2024-11-13T16:34:58.208732Z"
    }
   },
   "cell_type": "code",
   "source": [
    "class RadiusVector2D:\n",
    "    MIN_COORD = -100\n",
    "    MAX_COORD = 1024    \n",
    "    def __init__(self, x=0, y=0):\n",
    "        self.__x = self.__y = 0\n",
    "        if self.__check(x):\n",
    "            self.__x = x\n",
    "        else:\n",
    "            self.__x = self.__x\n",
    "        if self.__check(y):            \n",
    "            self.__y = y\n",
    "        else:\n",
    "            self.__y = self.__y\n",
    "        \n",
    "    @property\n",
    "    def x(self):\n",
    "        return self.__x\n",
    "    @x.setter\n",
    "    def x(self, x):\n",
    "        if self.__check(x):\n",
    "            self.__x = x\n",
    "        else:\n",
    "            self.__x = self.__x\n",
    "        \n",
    "        \n",
    "    @property\n",
    "    def y(self):\n",
    "        return self.__y\n",
    "    @y.setter\n",
    "    def y(self, y):\n",
    "        if self.__check(y):            \n",
    "            self.__y = y\n",
    "        else:\n",
    "            self.__y = self.__y\n",
    "        \n",
    "        \n",
    "        \n",
    "    @classmethod\n",
    "    def __check(cls, data):\n",
    "        if isinstance(data, (int, float)) and cls.MIN_COORD <= data <= cls.MAX_COORD:\n",
    "            return data\n",
    "        \n",
    "    @staticmethod\n",
    "    def norm2(vector):\n",
    "        return vector.x * vector.x + vector.y * vector.y"
   ],
   "id": "f37ac6a41f84b716",
   "outputs": [],
   "execution_count": 87
  },
  {
   "metadata": {
    "ExecuteTime": {
     "end_time": "2024-11-13T16:34:59.046536Z",
     "start_time": "2024-11-13T16:34:59.041304Z"
    }
   },
   "cell_type": "code",
   "source": "r1 = RadiusVector2D()",
   "id": "e44f06a443376acc",
   "outputs": [],
   "execution_count": 88
  },
  {
   "metadata": {
    "ExecuteTime": {
     "end_time": "2024-11-13T16:15:17.251991Z",
     "start_time": "2024-11-13T16:15:17.247403Z"
    }
   },
   "cell_type": "code",
   "source": "r1.x = 2",
   "id": "c83a03001a8edefd",
   "outputs": [],
   "execution_count": 78
  },
  {
   "metadata": {
    "ExecuteTime": {
     "end_time": "2024-11-13T16:35:00.316659Z",
     "start_time": "2024-11-13T16:35:00.310911Z"
    }
   },
   "cell_type": "code",
   "source": "print(r1.x)",
   "id": "c17af8c00e62a9c8",
   "outputs": [
    {
     "name": "stdout",
     "output_type": "stream",
     "text": [
      "0\n"
     ]
    }
   ],
   "execution_count": 89
  },
  {
   "metadata": {
    "ExecuteTime": {
     "end_time": "2024-11-13T16:15:25.394641Z",
     "start_time": "2024-11-13T16:15:25.387726Z"
    }
   },
   "cell_type": "code",
   "source": "r1.__dict__",
   "id": "20e9fdd95d9001a1",
   "outputs": [
    {
     "data": {
      "text/plain": [
       "{'_RadiusVector2D__x': 2}"
      ]
     },
     "execution_count": 80,
     "metadata": {},
     "output_type": "execute_result"
    }
   ],
   "execution_count": 80
  },
  {
   "metadata": {},
   "cell_type": "markdown",
   "source": "## Подвиг 9",
   "id": "e0ebedf133fa1d96"
  },
  {
   "metadata": {
    "ExecuteTime": {
     "end_time": "2024-11-22T13:44:17.381831Z",
     "start_time": "2024-11-22T13:44:17.378282Z"
    }
   },
   "cell_type": "code",
   "source": "from math import sqrt",
   "id": "281fd77aa53adfb9",
   "outputs": [],
   "execution_count": 146
  },
  {
   "metadata": {
    "ExecuteTime": {
     "end_time": "2024-11-22T13:44:17.687223Z",
     "start_time": "2024-11-22T13:44:17.683559Z"
    }
   },
   "cell_type": "code",
   "source": [
    "class LineTo:\n",
    "    def __init__(self, x, y):\n",
    "        self.x = x\n",
    "        self.y = y"
   ],
   "id": "1c15c601485780b2",
   "outputs": [],
   "execution_count": 147
  },
  {
   "metadata": {
    "ExecuteTime": {
     "end_time": "2024-11-22T13:45:25.555529Z",
     "start_time": "2024-11-22T13:45:25.550529Z"
    }
   },
   "cell_type": "code",
   "source": [
    "class PathLines:\n",
    "    def __init__(self, *args):\n",
    "        self.__lines = [LineTo(0, 0)] + [li for li in args]\n",
    "        \n",
    "    def get_path(self):\n",
    "        return self.__lines[1:]\n",
    "    \n",
    "    def get_length(self):\n",
    "        \"\"\" L = sqrt((x1-x0)^2 + (y1-y0)^2) \"\"\"\n",
    "        lx = [li.x for li in self.__lines[::-1]]\n",
    "        ly = [li.y for li in self.__lines[::-1]]\n",
    "        sum_l = 0\n",
    "        for ind in range(len(lx[:-1])):\n",
    "            x = lx[ind] - lx[ind+1]\n",
    "            y = ly[ind] - ly[ind+1]\n",
    "            l = sqrt(x**2 + y**2)\n",
    "            sum_l += l\n",
    "        return sum_l\n",
    "    \n",
    "    def add_line(self, line):\n",
    "        \"\"\"добавление нового линейного сегмента (объекта класса LineTo) в конец маршрута\"\"\"\n",
    "        self.__lines.append(line)        "
   ],
   "id": "723a5145a9a7b187",
   "outputs": [],
   "execution_count": 156
  },
  {
   "metadata": {
    "ExecuteTime": {
     "end_time": "2024-11-22T13:45:25.887956Z",
     "start_time": "2024-11-22T13:45:25.885441Z"
    }
   },
   "cell_type": "code",
   "source": [
    "p = PathLines(LineTo(1, 2))\n",
    "print(p.get_length())  # 2.23606797749979"
   ],
   "id": "82e82f80e9c16439",
   "outputs": [
    {
     "name": "stdout",
     "output_type": "stream",
     "text": [
      "2.23606797749979\n"
     ]
    }
   ],
   "execution_count": 157
  },
  {
   "metadata": {
    "ExecuteTime": {
     "end_time": "2024-11-22T13:45:31.437461Z",
     "start_time": "2024-11-22T13:45:31.432956Z"
    }
   },
   "cell_type": "code",
   "source": [
    "p.add_line(LineTo(10, 20))\n",
    "p.add_line(LineTo(5, 17))\n",
    "print(p.get_length())  # 28.191631669843197"
   ],
   "id": "895eb5cac5003042",
   "outputs": [
    {
     "name": "stdout",
     "output_type": "stream",
     "text": [
      "28.1916316698432\n"
     ]
    }
   ],
   "execution_count": 158
  },
  {
   "metadata": {
    "ExecuteTime": {
     "end_time": "2024-11-22T13:45:46.721747Z",
     "start_time": "2024-11-22T13:45:46.718729Z"
    }
   },
   "cell_type": "code",
   "source": [
    "m = p.get_path()\n",
    "print(all(isinstance(i, LineTo) for i in m) and len(m) == 3)  # True\n",
    "\n",
    "h = PathLines(LineTo(4, 8), LineTo(-10, 30), LineTo(14, 2))\n",
    "print(h.get_length())  # 71.8992593599813\n",
    "\n",
    "k = PathLines()\n",
    "print(k.get_length())  # 0\n",
    "print(k.get_path())  # []"
   ],
   "id": "d5e4306f961f93ba",
   "outputs": [
    {
     "name": "stdout",
     "output_type": "stream",
     "text": [
      "True\n",
      "71.8992593599813\n",
      "0\n",
      "[]\n"
     ]
    }
   ],
   "execution_count": 159
  },
  {
   "metadata": {},
   "cell_type": "code",
   "outputs": [],
   "execution_count": null,
   "source": "",
   "id": "5f36e13d27ffcf15"
  }
 ],
 "metadata": {
  "kernelspec": {
   "display_name": "Python 3",
   "language": "python",
   "name": "python3"
  },
  "language_info": {
   "codemirror_mode": {
    "name": "ipython",
    "version": 2
   },
   "file_extension": ".py",
   "mimetype": "text/x-python",
   "name": "python",
   "nbconvert_exporter": "python",
   "pygments_lexer": "ipython2",
   "version": "2.7.6"
  }
 },
 "nbformat": 4,
 "nbformat_minor": 5
}
