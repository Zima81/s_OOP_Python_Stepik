{
 "cells": [
  {
   "metadata": {},
   "cell_type": "markdown",
   "source": [
    "## Подвиг 4\n",
    "Объявите в программе класс Car, в котором реализуйте объект-свойство с именем model для записи и считывания информации о модели автомобиля из локальной приватной переменной __model."
   ],
   "id": "81a326b063cf067d"
  },
  {
   "metadata": {
    "ExecuteTime": {
     "end_time": "2024-11-13T14:29:02.565428Z",
     "start_time": "2024-11-13T14:29:02.558303Z"
    }
   },
   "cell_type": "code",
   "source": [
    "class Car:\n",
    "    def __init__(self, model = None):\n",
    "        self.__model = model\n",
    "    \n",
    "    @property\n",
    "    def model(self):\n",
    "        return self.__model\n",
    "    \n",
    "    @model.setter\n",
    "    def model(self, model):\n",
    "        if isinstance(model, str) and 2 <=  len(model) <= 100:\n",
    "                self.__model = model"
   ],
   "id": "a1b60b04c6127006",
   "outputs": [],
   "execution_count": 15
  },
  {
   "metadata": {
    "ExecuteTime": {
     "end_time": "2024-11-13T14:29:07.759282Z",
     "start_time": "2024-11-13T14:29:07.754916Z"
    }
   },
   "cell_type": "code",
   "source": "car = Car()",
   "id": "7b628a881cfa26a1",
   "outputs": [],
   "execution_count": 19
  },
  {
   "metadata": {
    "ExecuteTime": {
     "end_time": "2024-11-13T14:29:08.019253Z",
     "start_time": "2024-11-13T14:29:08.013705Z"
    }
   },
   "cell_type": "code",
   "source": "car.model = 'aa'",
   "id": "327a5d73b7e34bd7",
   "outputs": [],
   "execution_count": 20
  },
  {
   "metadata": {
    "ExecuteTime": {
     "end_time": "2024-11-13T14:33:24.236844Z",
     "start_time": "2024-11-13T14:33:24.230821Z"
    }
   },
   "cell_type": "code",
   "source": "print(car.model)",
   "id": "49e4e7d2178ce5d4",
   "outputs": [
    {
     "name": "stdout",
     "output_type": "stream",
     "text": [
      "aa\n"
     ]
    }
   ],
   "execution_count": 22
  },
  {
   "metadata": {},
   "cell_type": "markdown",
   "source": [
    "## Подвиг 5. \n",
    "Объявите в программе класс WindowDlg"
   ],
   "id": "3f765061e0474b8f"
  },
  {
   "metadata": {
    "ExecuteTime": {
     "end_time": "2024-11-13T15:24:40.797901Z",
     "start_time": "2024-11-13T15:24:40.785647Z"
    }
   },
   "cell_type": "code",
   "source": [
    "class WindowDlg:\n",
    "    def __init__(self, title=None, width=None, height=None):\n",
    "        self.__title = str(title).strip()\n",
    "        self.__width = int(width)\n",
    "        self.__height = int(height)\n",
    "    \n",
    "    @property\n",
    "    def width(self):\n",
    "        return self.__width\n",
    "    @width.setter\n",
    "    def width(self, width):\n",
    "        if self.__check_type(width):\n",
    "            if self.__width != width:\n",
    "                self.__width = width\n",
    "                self.show()\n",
    "            else:\n",
    "                self.__width = width\n",
    "        \n",
    "    \n",
    "    @property\n",
    "    def height(self):\n",
    "        return self.__height\n",
    "    @height.setter\n",
    "    def height(self, height):\n",
    "        if self.__check_type(height):\n",
    "            if self.__height != height:\n",
    "                self.__height = height\n",
    "                self.show()\n",
    "            else:\n",
    "                self.__height = height\n",
    "        \n",
    "    \n",
    "    @classmethod\n",
    "    def __check_type(cls, data_w_h):\n",
    "        \"\"\"Проверка переданное значение является целым числом в диапазоне [0; 10000] \"\"\"\n",
    "        if isinstance(data_w_h, int) and 0 <= data_w_h <= 10000:\n",
    "            return data_w_h\n",
    "    \n",
    "    def show(self):\n",
    "        \"\"\" Для отображения окна на экране (выводит в консоль строку в формате: \"<Заголовок>: <ширина>, <высота>\"\"\"\n",
    "        print(f\"{self.__title}:{self.__width}, {self.__height}\")"
   ],
   "id": "791ca86b9331dee8",
   "outputs": [],
   "execution_count": 45
  },
  {
   "metadata": {
    "ExecuteTime": {
     "end_time": "2024-11-13T15:24:41.688217Z",
     "start_time": "2024-11-13T15:24:41.683450Z"
    }
   },
   "cell_type": "code",
   "source": "wnd = WindowDlg('заголовок окна', 10, 100)",
   "id": "add531ac4c1bd554",
   "outputs": [],
   "execution_count": 46
  },
  {
   "metadata": {
    "ExecuteTime": {
     "end_time": "2024-11-13T15:25:11.190529Z",
     "start_time": "2024-11-13T15:25:11.184651Z"
    }
   },
   "cell_type": "code",
   "source": "wnd.width = 20",
   "id": "8de06d6663a587d",
   "outputs": [
    {
     "name": "stdout",
     "output_type": "stream",
     "text": [
      "заголовок окна:20, 100\n"
     ]
    }
   ],
   "execution_count": 48
  },
  {
   "metadata": {},
   "cell_type": "markdown",
   "source": [
    "## Подвиг 6. \n",
    "Реализуйте односвязный список"
   ],
   "id": "b6377a6f683c8d17"
  },
  {
   "metadata": {
    "ExecuteTime": {
     "end_time": "2024-11-13T15:24:34.086262Z",
     "start_time": "2024-11-13T15:24:34.058287Z"
    }
   },
   "cell_type": "code",
   "source": "",
   "id": "2488c46520adf790",
   "outputs": [
    {
     "ename": "AttributeError",
     "evalue": "'int' object has no attribute 'show'",
     "output_type": "error",
     "traceback": [
      "\u001B[0;31m---------------------------------------------------------------------------\u001B[0m",
      "\u001B[0;31mAttributeError\u001B[0m                            Traceback (most recent call last)",
      "Cell \u001B[0;32mIn[44], line 1\u001B[0m\n\u001B[0;32m----> 1\u001B[0m \u001B[43mwnd\u001B[49m\u001B[38;5;241;43m.\u001B[39;49m\u001B[43mshow\u001B[49m()\n",
      "\u001B[0;31mAttributeError\u001B[0m: 'int' object has no attribute 'show'"
     ]
    }
   ],
   "execution_count": 44
  },
  {
   "metadata": {},
   "cell_type": "markdown",
   "source": [
    "## Подвиг 7. \n",
    "Объявите класс RadiusVector2D"
   ],
   "id": "cd5ed7786a8598fa"
  },
  {
   "metadata": {
    "ExecuteTime": {
     "end_time": "2024-11-13T16:34:58.220583Z",
     "start_time": "2024-11-13T16:34:58.208732Z"
    }
   },
   "cell_type": "code",
   "source": [
    "class RadiusVector2D:\n",
    "    MIN_COORD = -100\n",
    "    MAX_COORD = 1024    \n",
    "    def __init__(self, x=0, y=0):\n",
    "        self.__x = self.__y = 0\n",
    "        if self.__check(x):\n",
    "            self.__x = x\n",
    "        else:\n",
    "            self.__x = self.__x\n",
    "        if self.__check(y):            \n",
    "            self.__y = y\n",
    "        else:\n",
    "            self.__y = self.__y\n",
    "        \n",
    "    @property\n",
    "    def x(self):\n",
    "        return self.__x\n",
    "    @x.setter\n",
    "    def x(self, x):\n",
    "        if self.__check(x):\n",
    "            self.__x = x\n",
    "        else:\n",
    "            self.__x = self.__x\n",
    "        \n",
    "        \n",
    "    @property\n",
    "    def y(self):\n",
    "        return self.__y\n",
    "    @y.setter\n",
    "    def y(self, y):\n",
    "        if self.__check(y):            \n",
    "            self.__y = y\n",
    "        else:\n",
    "            self.__y = self.__y\n",
    "        \n",
    "        \n",
    "        \n",
    "    @classmethod\n",
    "    def __check(cls, data):\n",
    "        if isinstance(data, (int, float)) and cls.MIN_COORD <= data <= cls.MAX_COORD:\n",
    "            return data\n",
    "        \n",
    "    @staticmethod\n",
    "    def norm2(vector):\n",
    "        return vector.x * vector.x + vector.y * vector.y"
   ],
   "id": "f37ac6a41f84b716",
   "outputs": [],
   "execution_count": 87
  },
  {
   "metadata": {
    "ExecuteTime": {
     "end_time": "2024-11-13T16:34:59.046536Z",
     "start_time": "2024-11-13T16:34:59.041304Z"
    }
   },
   "cell_type": "code",
   "source": "r1 = RadiusVector2D()",
   "id": "e44f06a443376acc",
   "outputs": [],
   "execution_count": 88
  },
  {
   "metadata": {
    "ExecuteTime": {
     "end_time": "2024-11-13T16:15:17.251991Z",
     "start_time": "2024-11-13T16:15:17.247403Z"
    }
   },
   "cell_type": "code",
   "source": "r1.x = 2",
   "id": "c83a03001a8edefd",
   "outputs": [],
   "execution_count": 78
  },
  {
   "metadata": {
    "ExecuteTime": {
     "end_time": "2024-11-13T16:35:00.316659Z",
     "start_time": "2024-11-13T16:35:00.310911Z"
    }
   },
   "cell_type": "code",
   "source": "print(r1.x)",
   "id": "c17af8c00e62a9c8",
   "outputs": [
    {
     "name": "stdout",
     "output_type": "stream",
     "text": [
      "0\n"
     ]
    }
   ],
   "execution_count": 89
  },
  {
   "metadata": {
    "ExecuteTime": {
     "end_time": "2024-11-13T16:15:25.394641Z",
     "start_time": "2024-11-13T16:15:25.387726Z"
    }
   },
   "cell_type": "code",
   "source": "r1.__dict__",
   "id": "20e9fdd95d9001a1",
   "outputs": [
    {
     "data": {
      "text/plain": [
       "{'_RadiusVector2D__x': 2}"
      ]
     },
     "execution_count": 80,
     "metadata": {},
     "output_type": "execute_result"
    }
   ],
   "execution_count": 80
  },
  {
   "metadata": {},
   "cell_type": "code",
   "outputs": [],
   "execution_count": null,
   "source": "",
   "id": "8e9f0517ead6f36a"
  }
 ],
 "metadata": {
  "kernelspec": {
   "display_name": "Python 3",
   "language": "python",
   "name": "python3"
  },
  "language_info": {
   "codemirror_mode": {
    "name": "ipython",
    "version": 2
   },
   "file_extension": ".py",
   "mimetype": "text/x-python",
   "name": "python",
   "nbconvert_exporter": "python",
   "pygments_lexer": "ipython2",
   "version": "2.7.6"
  }
 },
 "nbformat": 4,
 "nbformat_minor": 5
}
