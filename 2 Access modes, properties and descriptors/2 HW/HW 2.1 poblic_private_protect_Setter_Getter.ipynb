{
 "cells": [
  {
   "metadata": {},
   "cell_type": "markdown",
   "source": "### Подвиг 3. Объявите класс с именем Clock и определите в нем следующие переменные и методы",
   "id": "1aafabc9d0580f84"
  },
  {
   "metadata": {
    "ExecuteTime": {
     "end_time": "2024-10-16T18:55:53.656475Z",
     "start_time": "2024-10-16T18:55:53.653224Z"
    }
   },
   "cell_type": "code",
   "source": "import datetime",
   "id": "f5ed61c7bfcb8425",
   "outputs": [],
   "execution_count": 5
  },
  {
   "metadata": {
    "ExecuteTime": {
     "end_time": "2024-10-16T18:58:11.237413Z",
     "start_time": "2024-10-16T18:58:11.232302Z"
    }
   },
   "cell_type": "code",
   "source": [
    "class Clock:\n",
    "    \n",
    "    def __time(self):\n",
    "        now = datetime.datetime.now() \n",
    "        self.time = now.strftime('%H:%M:%S') "
   ],
   "id": "4a04ed101ad8f5ce",
   "outputs": [],
   "execution_count": 6
  },
  {
   "metadata": {
    "ExecuteTime": {
     "end_time": "2024-10-16T18:58:27.388381Z",
     "start_time": "2024-10-16T18:58:27.383438Z"
    }
   },
   "cell_type": "code",
   "source": "pt = Clock()",
   "id": "d0ad015c17c49f5d",
   "outputs": [],
   "execution_count": 7
  },
  {
   "metadata": {
    "ExecuteTime": {
     "end_time": "2024-10-16T18:59:34.085595Z",
     "start_time": "2024-10-16T18:59:34.080162Z"
    }
   },
   "cell_type": "code",
   "source": "print(pt._Clock__time)",
   "id": "4a5b3e3a54c2b43f",
   "outputs": [
    {
     "name": "stdout",
     "output_type": "stream",
     "text": [
      "<bound method Clock.__time of <__main__.Clock object at 0x783f961b6a70>>\n"
     ]
    }
   ],
   "execution_count": 12
  },
  {
   "metadata": {
    "ExecuteTime": {
     "end_time": "2024-10-16T19:00:08.161509Z",
     "start_time": "2024-10-16T19:00:08.156148Z"
    }
   },
   "cell_type": "code",
   "source": [
    "now = datetime.datetime.now() \n",
    "time = now.strftime('%H:%M:%S') "
   ],
   "id": "1d532f5f930f64a5",
   "outputs": [],
   "execution_count": 13
  },
  {
   "metadata": {
    "ExecuteTime": {
     "end_time": "2024-10-16T19:00:10.485990Z",
     "start_time": "2024-10-16T19:00:10.480524Z"
    }
   },
   "cell_type": "code",
   "source": "time",
   "id": "cfbb88c5b47791ab",
   "outputs": [
    {
     "data": {
      "text/plain": [
       "'22:00:08'"
      ]
     },
     "execution_count": 14,
     "metadata": {},
     "output_type": "execute_result"
    }
   ],
   "execution_count": 14
  },
  {
   "metadata": {},
   "cell_type": "markdown",
   "source": [
    "### Подвиг 4. Объявите класс с именем Money и определите в нем следующие переменные и методы:\n",
    "- приватная локальная переменная money (целочисленная) для хранения количества денег (своя для каждого объекта класса Money);\n",
    "- публичный метод set_money(money) для передачи нового значения приватной локальной переменной money (изменение выполняется только если метод check_money(money) возвращает значение True);\n",
    "- публичный метод get_money() для получения текущего объема средств (денег);\n",
    "- публичный метод add_money(mn) для прибавления средств из объекта mn класса Money к средствам текущего объекта;\n",
    "- приватный метод класса check_money(money) для проверки корректности объема средств в параметре money (возвращает True, если значение корректно и False - в противном случае).\n",
    "\n",
    "Проверка корректности выполняется по критерию: параметр money должен быть целым числом, больше или равным нулю.\n",
    "\n",
    "Пример использования класса Money (эти строчки в программе не писать):\n",
    "\n",
    "<br>mn_1 = Money(10)\n",
    "<br>mn_2 = Money(20)\n",
    "<br>mn_1.set_money(100)\n",
    "<br>mn_2.add_money(mn_1)\n",
    "<br>m1 = mn_1.get_money()    # 100\n",
    "<br>m2 = mn_2.get_money()    # 120"
   ],
   "id": "e43bc47afd1250da"
  },
  {
   "metadata": {
    "ExecuteTime": {
     "end_time": "2024-10-23T19:23:31.984938Z",
     "start_time": "2024-10-23T19:23:31.975677Z"
    }
   },
   "cell_type": "code",
   "source": [
    "class Money:\n",
    "    __money = 0\n",
    "    def __init__(self, money):\n",
    "        if self.__check_money(money):\n",
    "            self.__money = money\n",
    "    \n",
    "    def set_money(self, money):\n",
    "        if self.__check_money(money):\n",
    "            self.__money = money\n",
    "    \n",
    "    def get_money(self):\n",
    "        return self.__money\n",
    "    \n",
    "    def add_money(self, mn):\n",
    "        self.__money += mn.get_money()\n",
    "    @classmethod\n",
    "    def __check_money(cls, money):\n",
    "        return type(money) is int and money >= 0"
   ],
   "id": "f11e8c291b841bb8",
   "outputs": [],
   "execution_count": 13
  },
  {
   "metadata": {
    "ExecuteTime": {
     "end_time": "2024-10-23T19:23:32.738176Z",
     "start_time": "2024-10-23T19:23:32.730207Z"
    }
   },
   "cell_type": "code",
   "source": [
    "mn_1 = Money(10)\n",
    "mn_2 = Money(20)\n",
    "mn_1.set_money(100)\n",
    "mn_2.add_money(mn_1)\n",
    "m1 = mn_1.get_money() # 100\n",
    "m1"
   ],
   "id": "95f507e190bcfcab",
   "outputs": [
    {
     "data": {
      "text/plain": [
       "100"
      ]
     },
     "execution_count": 14,
     "metadata": {},
     "output_type": "execute_result"
    }
   ],
   "execution_count": 14
  },
  {
   "metadata": {
    "ExecuteTime": {
     "end_time": "2024-10-23T19:23:34.966245Z",
     "start_time": "2024-10-23T19:23:34.959136Z"
    }
   },
   "cell_type": "code",
   "source": [
    "m2 = mn_2.get_money() # 120\n",
    "m2"
   ],
   "id": "6a5e6ca1651ad2cc",
   "outputs": [
    {
     "data": {
      "text/plain": [
       "120"
      ]
     },
     "execution_count": 15,
     "metadata": {},
     "output_type": "execute_result"
    }
   ],
   "execution_count": 15
  },
  {
   "metadata": {},
   "cell_type": "code",
   "outputs": [],
   "execution_count": null,
   "source": "",
   "id": "d83ace66aab1d814"
  }
 ],
 "metadata": {
  "kernelspec": {
   "display_name": "Python 3",
   "language": "python",
   "name": "python3"
  },
  "language_info": {
   "codemirror_mode": {
    "name": "ipython",
    "version": 2
   },
   "file_extension": ".py",
   "mimetype": "text/x-python",
   "name": "python",
   "nbconvert_exporter": "python",
   "pygments_lexer": "ipython2",
   "version": "2.7.6"
  }
 },
 "nbformat": 4,
 "nbformat_minor": 5
}
