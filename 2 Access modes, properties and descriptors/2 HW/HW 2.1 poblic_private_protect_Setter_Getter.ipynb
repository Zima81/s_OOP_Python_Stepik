{
 "cells": [
  {
   "metadata": {},
   "cell_type": "markdown",
   "source": "### Подвиг 3. Объявите класс с именем Clock и определите в нем следующие переменные и методы",
   "id": "1aafabc9d0580f84"
  },
  {
   "metadata": {
    "ExecuteTime": {
     "end_time": "2024-10-16T18:55:53.656475Z",
     "start_time": "2024-10-16T18:55:53.653224Z"
    }
   },
   "cell_type": "code",
   "source": "import datetime",
   "id": "f5ed61c7bfcb8425",
   "outputs": [],
   "execution_count": 5
  },
  {
   "metadata": {
    "ExecuteTime": {
     "end_time": "2024-10-16T18:58:11.237413Z",
     "start_time": "2024-10-16T18:58:11.232302Z"
    }
   },
   "cell_type": "code",
   "source": [
    "class Clock:\n",
    "    \n",
    "    def __time(self):\n",
    "        now = datetime.datetime.now() \n",
    "        self.time = now.strftime('%H:%M:%S') "
   ],
   "id": "4a04ed101ad8f5ce",
   "outputs": [],
   "execution_count": 6
  },
  {
   "metadata": {
    "ExecuteTime": {
     "end_time": "2024-10-16T18:58:27.388381Z",
     "start_time": "2024-10-16T18:58:27.383438Z"
    }
   },
   "cell_type": "code",
   "source": "pt = Clock()",
   "id": "d0ad015c17c49f5d",
   "outputs": [],
   "execution_count": 7
  },
  {
   "metadata": {
    "ExecuteTime": {
     "end_time": "2024-10-16T18:59:34.085595Z",
     "start_time": "2024-10-16T18:59:34.080162Z"
    }
   },
   "cell_type": "code",
   "source": "print(pt._Clock__time)",
   "id": "4a5b3e3a54c2b43f",
   "outputs": [
    {
     "name": "stdout",
     "output_type": "stream",
     "text": [
      "<bound method Clock.__time of <__main__.Clock object at 0x783f961b6a70>>\n"
     ]
    }
   ],
   "execution_count": 12
  },
  {
   "metadata": {
    "ExecuteTime": {
     "end_time": "2024-10-16T19:00:08.161509Z",
     "start_time": "2024-10-16T19:00:08.156148Z"
    }
   },
   "cell_type": "code",
   "source": [
    "now = datetime.datetime.now() \n",
    "time = now.strftime('%H:%M:%S') "
   ],
   "id": "1d532f5f930f64a5",
   "outputs": [],
   "execution_count": 13
  },
  {
   "metadata": {
    "ExecuteTime": {
     "end_time": "2024-10-16T19:00:10.485990Z",
     "start_time": "2024-10-16T19:00:10.480524Z"
    }
   },
   "cell_type": "code",
   "source": "time",
   "id": "cfbb88c5b47791ab",
   "outputs": [
    {
     "data": {
      "text/plain": [
       "'22:00:08'"
      ]
     },
     "execution_count": 14,
     "metadata": {},
     "output_type": "execute_result"
    }
   ],
   "execution_count": 14
  },
  {
   "metadata": {},
   "cell_type": "markdown",
   "source": [
    "### Подвиг 4. Объявите класс с именем Money и определите в нем следующие переменные и методы:\n",
    "- приватная локальная переменная money (целочисленная) для хранения количества денег (своя для каждого объекта класса Money);\n",
    "- публичный метод set_money(money) для передачи нового значения приватной локальной переменной money (изменение выполняется только если метод check_money(money) возвращает значение True);\n",
    "- публичный метод get_money() для получения текущего объема средств (денег);\n",
    "- публичный метод add_money(mn) для прибавления средств из объекта mn класса Money к средствам текущего объекта;\n",
    "- приватный метод класса check_money(money) для проверки корректности объема средств в параметре money (возвращает True, если значение корректно и False - в противном случае).\n",
    "\n",
    "Проверка корректности выполняется по критерию: параметр money должен быть целым числом, больше или равным нулю.\n",
    "\n",
    "Пример использования класса Money (эти строчки в программе не писать):\n",
    "\n",
    "<br>mn_1 = Money(10)\n",
    "<br>mn_2 = Money(20)\n",
    "<br>mn_1.set_money(100)\n",
    "<br>mn_2.add_money(mn_1)\n",
    "<br>m1 = mn_1.get_money()    # 100\n",
    "<br>m2 = mn_2.get_money()    # 120"
   ],
   "id": "e43bc47afd1250da"
  },
  {
   "metadata": {
    "ExecuteTime": {
     "end_time": "2024-10-23T19:23:31.984938Z",
     "start_time": "2024-10-23T19:23:31.975677Z"
    }
   },
   "cell_type": "code",
   "source": [
    "class Money:\n",
    "    __money = 0\n",
    "    def __init__(self, money):\n",
    "        if self.__check_money(money):\n",
    "            self.__money = money\n",
    "    \n",
    "    def set_money(self, money):\n",
    "        if self.__check_money(money):\n",
    "            self.__money = money\n",
    "    \n",
    "    def get_money(self):\n",
    "        return self.__money\n",
    "    \n",
    "    def add_money(self, mn):\n",
    "        self.__money += mn.get_money()\n",
    "    @classmethod\n",
    "    def __check_money(cls, money):\n",
    "        return type(money) is int and money >= 0"
   ],
   "id": "f11e8c291b841bb8",
   "outputs": [],
   "execution_count": 13
  },
  {
   "metadata": {
    "ExecuteTime": {
     "end_time": "2024-10-23T19:23:32.738176Z",
     "start_time": "2024-10-23T19:23:32.730207Z"
    }
   },
   "cell_type": "code",
   "source": [
    "mn_1 = Money(10)\n",
    "mn_2 = Money(20)\n",
    "mn_1.set_money(100)\n",
    "mn_2.add_money(mn_1)\n",
    "m1 = mn_1.get_money() # 100\n",
    "m1"
   ],
   "id": "95f507e190bcfcab",
   "outputs": [
    {
     "data": {
      "text/plain": [
       "100"
      ]
     },
     "execution_count": 14,
     "metadata": {},
     "output_type": "execute_result"
    }
   ],
   "execution_count": 14
  },
  {
   "metadata": {
    "ExecuteTime": {
     "end_time": "2024-10-23T19:23:34.966245Z",
     "start_time": "2024-10-23T19:23:34.959136Z"
    }
   },
   "cell_type": "code",
   "source": [
    "m2 = mn_2.get_money() # 120\n",
    "m2"
   ],
   "id": "6a5e6ca1651ad2cc",
   "outputs": [
    {
     "data": {
      "text/plain": [
       "120"
      ]
     },
     "execution_count": 15,
     "metadata": {},
     "output_type": "execute_result"
    }
   ],
   "execution_count": 15
  },
  {
   "metadata": {},
   "cell_type": "markdown",
   "source": [
    "### Подвиг 6. Объявите класс Book со следующим набором сеттеров и геттеров:\n",
    "<br><b>set_title(self, title)</b> - запись в локальное приватное свойство __title объектов класса Book значения title;\n",
    "<br><b>set_author(self, author)</b> - запись в локальное приватное свойство __author объектов класса Book значения \n",
    "author;\n",
    "<br><b>set_price(self, price)</b> - запись в локальное приватное свойство __price объектов класса Book значения price;\n",
    "<br><b>get_title(self)</b> - получение значения локального приватного свойства __title объектов класса Book;\n",
    "<br><b>get_author(self)</b> - получение значения локального приватного свойства __author объектов класса Book;\n",
    "<br><b>get_price(self)</b> - получение значения локального приватного свойства __price объектов класса Book;"
   ],
   "id": "b4ac1889460df9e0"
  },
  {
   "metadata": {
    "ExecuteTime": {
     "end_time": "2024-11-06T08:53:19.628436Z",
     "start_time": "2024-11-06T08:53:19.624711Z"
    }
   },
   "cell_type": "code",
   "source": [
    "class Book:\n",
    "    __author = None\n",
    "    __title = None\n",
    "    __price = None\n",
    "    def __init__(self, author, title, price):\n",
    "        self.__author = str(author)\n",
    "        self.__title = str(title)\n",
    "        self.__price = int(price)\n",
    "        \n",
    "    def set_title(self, title):\n",
    "        self.__title = title\n",
    "        \n",
    "    def set_author(self, author):\n",
    "        self.__author = author\n",
    "        \n",
    "    def set_price(self, price):\n",
    "        self.__price = price\n",
    "    \n",
    "    def get_title(self):\n",
    "        return self.__title\n",
    "    \n",
    "    def get_author(self):\n",
    "        return self.__author\n",
    "    \n",
    "    def get_price(self):\n",
    "        return self.__price"
   ],
   "id": "a0096adf19878d2b",
   "outputs": [],
   "execution_count": 4
  },
  {
   "metadata": {},
   "cell_type": "markdown",
   "source": [
    "### Подвиг 7. Объявите класс Line для описания линии на плоскости, объекты которого предполагается создавать командой:\n",
    "\n",
    "line = Line(x1, y1, x2, y2)\n",
    "\n",
    "При этом в объекте line должны создаваться следующие приватные локальные свойства:\n",
    "\n",
    "<br>__x1, __y1 - начальная координата;\n",
    "<br>__x2, __y2 - конечная координата.\n",
    "\n",
    "В самом классе Line должны быть реализованы следующие сеттеры и геттеры:\n",
    "\n",
    "<br><b>set_coords(self, x1, y1, x2, y2)</b> - для изменения координат линии;\n",
    "<br><b>get_coords(self)</b> - для получения кортежа из текущих координат линии.\n",
    "\n",
    "А также метод:\n",
    "\n",
    "<br><b>draw(self)</b> - для отображения в консоли списка текущих координат линии (в одну строчку через пробел).\n",
    "\n",
    "P.S. В программе требуется объявить только класс. Ничего на экран выводить не нужно."
   ],
   "id": "2f2cacc01b6db83a"
  },
  {
   "metadata": {
    "ExecuteTime": {
     "end_time": "2024-11-06T09:20:34.867040Z",
     "start_time": "2024-11-06T09:20:34.862851Z"
    }
   },
   "cell_type": "code",
   "source": [
    "class Line:\n",
    "    def __init__(self, x1, y1, x2, y2):\n",
    "        self.__x1 = x1\n",
    "        self.__y1 = y1\n",
    "        self.__x2 = x2\n",
    "        self.__y2 = y2\n",
    "        \n",
    "    def set_coords(self, x1, y1, x2, y2):\n",
    "        self.__x1 = x1\n",
    "        self.__y1 = y1\n",
    "        self.__x2 = x2\n",
    "        self.__y2 = y2\n",
    "        \n",
    "    def get_coords(self):\n",
    "        tup = (self.__x1, self.__y1, self.__x2, self.__y2)\n",
    "        return tup\n",
    "    \n",
    "    def draw(self):\n",
    "        print(self.__x1, self.__y1, self.__x2, self.__y2)"
   ],
   "id": "49edfd3c9c7f8650",
   "outputs": [],
   "execution_count": 11
  },
  {
   "metadata": {
    "ExecuteTime": {
     "end_time": "2024-11-06T09:20:53.171246Z",
     "start_time": "2024-11-06T09:20:53.168115Z"
    }
   },
   "cell_type": "code",
   "source": "tr = Line(100, 200, 300, 400)",
   "id": "29c83d1c3cf7a855",
   "outputs": [],
   "execution_count": 15
  },
  {
   "metadata": {
    "ExecuteTime": {
     "end_time": "2024-11-06T09:20:36.523634Z",
     "start_time": "2024-11-06T09:20:36.519745Z"
    }
   },
   "cell_type": "code",
   "source": "ans = tr.get_coords()",
   "id": "ca89a2befafacec4",
   "outputs": [],
   "execution_count": 13
  },
  {
   "metadata": {
    "ExecuteTime": {
     "end_time": "2024-11-06T09:20:54.706068Z",
     "start_time": "2024-11-06T09:20:54.702303Z"
    }
   },
   "cell_type": "code",
   "source": "tr.draw()",
   "id": "71597abb1c520b56",
   "outputs": [
    {
     "name": "stdout",
     "output_type": "stream",
     "text": [
      "100 200 300 400\n"
     ]
    }
   ],
   "execution_count": 16
  },
  {
   "metadata": {},
   "cell_type": "markdown",
   "source": "### Подвиг 8. Объявите в программе два класса Point и Rectangle. Объекты первого класса должны создаваться командой:",
   "id": "c3fc988255ecc2f0"
  },
  {
   "metadata": {
    "ExecuteTime": {
     "end_time": "2024-11-06T12:03:11.138532Z",
     "start_time": "2024-11-06T12:03:11.134435Z"
    }
   },
   "cell_type": "code",
   "source": [
    "class Point:\n",
    "    def __init__(self, x, y):\n",
    "        self.__x, self.__y = x, y    \n",
    "    \n",
    "    def get_coords(self):\n",
    "        return  self.__x, self.__y\n",
    "\n",
    "class Rectangle:\n",
    "    def __init__(self, x1, y1, x2=None, y2=None):\n",
    "        if isinstance(x1, Point) and isinstance(y1, Point):\n",
    "            self.__sp = x1\n",
    "            self.__ep = y1\n",
    "        else:\n",
    "            self.__sp = Point(x1, y1)\n",
    "            self.__ep = Point(x2, y2)\n",
    "              \n",
    "    def set_coords(self, sp, ep):\n",
    "        self.__sp = sp\n",
    "        self.__ep = ep\n",
    "    \n",
    "    def get_coords(self):\n",
    "        return self.__sp, self.__ep\n",
    "    \n",
    "    def draw(self):\n",
    "        return print(f\"Прямоугольник с координатами: {self.__sp.get_coords()} {self.__ep.get_coords()}\")"
   ],
   "id": "f33e539c830b7fa2",
   "outputs": [],
   "execution_count": 106
  },
  {
   "metadata": {
    "ExecuteTime": {
     "end_time": "2024-11-06T12:03:11.533180Z",
     "start_time": "2024-11-06T12:03:11.531415Z"
    }
   },
   "cell_type": "code",
   "source": "rect = Rectangle(0, 0, 20, 34)",
   "id": "6651707624857973",
   "outputs": [],
   "execution_count": 107
  },
  {
   "metadata": {
    "ExecuteTime": {
     "end_time": "2024-11-06T12:03:12.035623Z",
     "start_time": "2024-11-06T12:03:12.031884Z"
    }
   },
   "cell_type": "code",
   "source": [
    "r = Rectangle(1, 2.6, 3.3, 4)\n",
    "r.set_coords(Point(1, 2), Point(3, 4))\n",
    "sp, ep = r.get_coords()\n",
    "a, b = sp.get_coords()\n",
    "c, d = ep.get_coords()\n",
    "assert a == 1 and b == 2 and c == 3 and d == 4 # метод get_coords вернул неверные значения координат"
   ],
   "id": "d33fc7b933d80155",
   "outputs": [],
   "execution_count": 108
  },
  {
   "metadata": {
    "ExecuteTime": {
     "end_time": "2024-11-06T12:04:34.778293Z",
     "start_time": "2024-11-06T12:04:34.774417Z"
    }
   },
   "cell_type": "code",
   "source": [
    "r = Rectangle(Point(1, 2), Point(3, 4))\n",
    "sp, ep = r.get_coords()\n",
    "a, b = sp.get_coords()\n",
    "c, d = ep.get_coords()\n",
    "assert a == 1 and b == 2 and c == 3 and d == 4"
   ],
   "id": "12dd8af0bd0df2e4",
   "outputs": [],
   "execution_count": 112
  },
  {
   "metadata": {
    "ExecuteTime": {
     "end_time": "2024-11-06T12:05:05.754314Z",
     "start_time": "2024-11-06T12:05:05.750520Z"
    }
   },
   "cell_type": "code",
   "source": "assert isinstance(r._Rectangle__sp, Point) and isinstance(r._Rectangle__ep, Point)",
   "id": "9eae96a7dd723572",
   "outputs": [],
   "execution_count": 114
  },
  {
   "metadata": {},
   "cell_type": "markdown",
   "source": [
    "### Большой подвиг 9. Необходимо реализовать связный список\n",
    " когда объекты класса ObjList связаны с соседними через приватные свойства __next и __prev"
   ],
   "id": "37ffea0b69d70ac"
  },
  {
   "metadata": {
    "ExecuteTime": {
     "end_time": "2024-11-06T13:31:02.875507Z",
     "start_time": "2024-11-06T13:31:02.871538Z"
    }
   },
   "cell_type": "code",
   "source": [
    "class LinkedList:\n",
    "    __head = None\n",
    "    __tail = None\n",
    "    def add_obj(self, obj):\n",
    "        \"\"\"Добавление нового объекта obj класса ObjList в конец связного списка;\"\"\"\n",
    "        self.obj = obj\n",
    "    def remove_obj(self): \n",
    "        \"\"\"Удаление последнего объекта из связного списка;\"\"\"\n",
    "        self.obj = None\n",
    "    def get_data(self): \n",
    "        \"\"\"Получение списка из строк локального свойства __data всех объектов связного списка.\"\"\"\n",
    "        "
   ],
   "id": "9e0587e6b93d1b8d",
   "outputs": [],
   "execution_count": 115
  },
  {
   "metadata": {},
   "cell_type": "code",
   "outputs": [],
   "execution_count": null,
   "source": [
    "class ObjList:\n",
    "    __next  = None #ссылка на следующий объект связного списка (если следующего объекта нет, то __next = None);\n",
    "    __prev = None #ссылка на предыдущий объект связного списка (если предыдущего объекта нет, то __prev = None);\n",
    "    __data = None #строка с данными.\n",
    "    def __init__(self, data):\n",
    "        self.__data = data\n",
    "        \n",
    "    def set_next(self, obj):\n",
    "        \"\"\"Изменение приватного свойства __next на значение obj\"\"\"\n",
    "    def set_prev(self, obj):\n",
    "        \"\"\"Изменение приватного свойства __prev на значение obj\"\"\"\n",
    "    def get_next(self):\n",
    "        \"\"\"Получение значения приватного свойства __next\"\"\"\n",
    "    def get_prev(self):\n",
    "        \"\"\"Получение значения приватного свойства __prev\"\"\"\n",
    "    def set_data(self, data):\n",
    "        \"\"\"Изменение приватного свойства __data на значение data\"\"\"\n",
    "    def get_data(self):\n",
    "        \"\"\"Получение значения приватного свойства __data\"\"\""
   ],
   "id": "b0a4a2d0acfdacb"
  },
  {
   "metadata": {},
   "cell_type": "markdown",
   "source": [
    "### Подвиг 10 (на повторение)\n",
    " Объявите класс EmailValidator для проверки корректности email-адреса. Необходимо запретить создание объектов этого класса: при создании экземпляров должно возвращаться значение None, например:\n",
    "\n",
    "em = EmailValidator() # None"
   ],
   "id": "e3a73f8493be91ee"
  },
  {
   "metadata": {
    "ExecuteTime": {
     "end_time": "2024-11-07T11:52:25.939107Z",
     "start_time": "2024-11-07T11:52:25.934984Z"
    }
   },
   "cell_type": "code",
   "source": [
    "import re\n",
    "import random\n",
    "\n",
    "\n",
    "class EmailValidator:\n",
    "    def __new__(cls, *args, **kwargs):\n",
    "        return None\n",
    "    \n",
    "    @classmethod\n",
    "    def get_random_email(cls): \n",
    "        \"\"\"для генерации случайного email-адреса по формату: xxxxxxx...xxx@gmail.com\"\"\"\n",
    "        str1 = '123456789'\n",
    "        str2 = 'qwertyuiopasdfghjklzxcvbnm'        \n",
    "        str_all = list(str1 + str2)\n",
    "        email_str = ''.join([random.choice(str_all) for _ in range(12)])\n",
    "        email = email_str + '@gmail.com'\n",
    "        return email\n",
    "        \n",
    "    @classmethod    \n",
    "    def check_email(cls, email):\n",
    "        if cls.__is_email_str(email):\n",
    "            email_pattern = r'^[a-zA-Z0-9._]+@[a-zA-Z0-9.-]+\\.[a-zA-Z]{2,}$'\n",
    "            return re.match(email_pattern, email) is not None and not '..' in email\n",
    "        else:\n",
    "            return cls.__is_email_str(email)\n",
    "    \n",
    "    @staticmethod\n",
    "    def __is_email_str(email):\n",
    "        return type(email) == str"
   ],
   "id": "ce1ed3b594bffad2",
   "outputs": [],
   "execution_count": 103
  },
  {
   "metadata": {
    "ExecuteTime": {
     "end_time": "2024-11-07T11:43:17.959974Z",
     "start_time": "2024-11-07T11:43:17.955235Z"
    }
   },
   "cell_type": "code",
   "source": "EmailValidator() is None",
   "id": "c968fa04a40ee194",
   "outputs": [
    {
     "data": {
      "text/plain": [
       "True"
      ]
     },
     "execution_count": 93,
     "metadata": {},
     "output_type": "execute_result"
    }
   ],
   "execution_count": 93
  },
  {
   "metadata": {
    "ExecuteTime": {
     "end_time": "2024-11-07T11:36:28.062547Z",
     "start_time": "2024-11-07T11:36:28.060078Z"
    }
   },
   "cell_type": "code",
   "source": [
    "em = EmailValidator()\n",
    "em"
   ],
   "id": "83ef4e0c7d7b99c",
   "outputs": [
    {
     "data": {
      "text/plain": [
       "<__main__.EmailValidator at 0x21b62cbb0e0>"
      ]
     },
     "execution_count": 89,
     "metadata": {},
     "output_type": "execute_result"
    }
   ],
   "execution_count": 89
  },
  {
   "metadata": {
    "ExecuteTime": {
     "end_time": "2024-11-07T11:52:35.534491Z",
     "start_time": "2024-11-07T11:52:35.529548Z"
    }
   },
   "cell_type": "code",
   "source": "EmailValidator._EmailValidator__is_email_str('abc')",
   "id": "615a4fb03787c60a",
   "outputs": [
    {
     "data": {
      "text/plain": [
       "True"
      ]
     },
     "execution_count": 104,
     "metadata": {},
     "output_type": "execute_result"
    }
   ],
   "execution_count": 104
  },
  {
   "metadata": {},
   "cell_type": "code",
   "outputs": [],
   "execution_count": null,
   "source": "",
   "id": "8abd2f97fadb2a6c"
  },
  {
   "metadata": {},
   "cell_type": "code",
   "outputs": [],
   "execution_count": null,
   "source": "",
   "id": "ea8ed5d0922a6dc2"
  },
  {
   "metadata": {},
   "cell_type": "code",
   "outputs": [],
   "execution_count": null,
   "source": "",
   "id": "4299d73baa950edf"
  },
  {
   "metadata": {},
   "cell_type": "code",
   "outputs": [],
   "execution_count": null,
   "source": "",
   "id": "8aadc80113a07541"
  },
  {
   "metadata": {},
   "cell_type": "code",
   "outputs": [],
   "execution_count": null,
   "source": "",
   "id": "3770c6a157e59c9b"
  },
  {
   "metadata": {},
   "cell_type": "code",
   "outputs": [],
   "execution_count": null,
   "source": "",
   "id": "6facaeacd5a50c95"
  }
 ],
 "metadata": {
  "kernelspec": {
   "display_name": "Python 3",
   "language": "python",
   "name": "python3"
  },
  "language_info": {
   "codemirror_mode": {
    "name": "ipython",
    "version": 2
   },
   "file_extension": ".py",
   "mimetype": "text/x-python",
   "name": "python",
   "nbconvert_exporter": "python",
   "pygments_lexer": "ipython2",
   "version": "2.7.6"
  }
 },
 "nbformat": 4,
 "nbformat_minor": 5
}
