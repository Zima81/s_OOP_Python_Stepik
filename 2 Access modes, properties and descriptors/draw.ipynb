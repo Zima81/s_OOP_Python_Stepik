{
 "cells": [
  {
   "cell_type": "code",
   "id": "initial_id",
   "metadata": {
    "collapsed": true,
    "ExecuteTime": {
     "end_time": "2024-10-16T08:31:46.944486Z",
     "start_time": "2024-10-16T08:31:46.937735Z"
    }
   },
   "source": [
    "class Point:\n",
    "    def prot(self, a, b):\n",
    "        self._a = a\n",
    "        self._b = b\n",
    "    \n",
    "    def set_coord(self, x, y):\n",
    "        self.__x = x\n",
    "        self.__y = y\n",
    "\n",
    "    def get_coord(self):\n",
    "        return self.__x, self.__y"
   ],
   "outputs": [],
   "execution_count": 5
  },
  {
   "metadata": {
    "ExecuteTime": {
     "end_time": "2024-10-16T08:31:48.968732Z",
     "start_time": "2024-10-16T08:31:48.962615Z"
    }
   },
   "cell_type": "code",
   "source": "pt = Point()",
   "id": "9382ceff6035a5c3",
   "outputs": [],
   "execution_count": 6
  },
  {
   "metadata": {
    "ExecuteTime": {
     "end_time": "2024-10-16T08:31:50.110749Z",
     "start_time": "2024-10-16T08:31:50.102615Z"
    }
   },
   "cell_type": "code",
   "source": "pt.set_coord(10, 20)",
   "id": "c901c7d0cd676f3a",
   "outputs": [],
   "execution_count": 7
  },
  {
   "metadata": {
    "ExecuteTime": {
     "end_time": "2024-10-16T08:32:00.201247Z",
     "start_time": "2024-10-16T08:32:00.193025Z"
    }
   },
   "cell_type": "code",
   "source": "pt.prot(1, 2)",
   "id": "48aba03a68c3e216",
   "outputs": [],
   "execution_count": 8
  },
  {
   "metadata": {
    "ExecuteTime": {
     "end_time": "2024-10-16T08:32:19.409498Z",
     "start_time": "2024-10-16T08:32:19.403551Z"
    }
   },
   "cell_type": "code",
   "source": "pt._a = 1000",
   "id": "861f57b434a382cd",
   "outputs": [],
   "execution_count": 10
  },
  {
   "metadata": {
    "ExecuteTime": {
     "end_time": "2024-10-16T08:33:24.780663Z",
     "start_time": "2024-10-16T08:33:24.765327Z"
    }
   },
   "cell_type": "code",
   "source": "from accessify import private, protected",
   "id": "d53dd23d4fcd6656",
   "outputs": [
    {
     "data": {
      "text/plain": [
       "10"
      ]
     },
     "execution_count": 15,
     "metadata": {},
     "output_type": "execute_result"
    }
   ],
   "execution_count": 15
  },
  {
   "metadata": {
    "ExecuteTime": {
     "end_time": "2024-10-16T11:40:41.290714Z",
     "start_time": "2024-10-16T11:40:41.282207Z"
    }
   },
   "cell_type": "code",
   "source": [
    "class Point:\n",
    "    def prot(self, a, b):\n",
    "        self._a = a\n",
    "        self._b = b\n",
    "    \n",
    "    @classmethod        \n",
    "    def __check_value(cls, x):\n",
    "        return type(x) in (int, float)            \n",
    "    \n",
    "    def set_coord(self, x, y):\n",
    "        self.__x = self.__y = 0\n",
    "        if self.__check_value(x) and self.__check_value(y):\n",
    "            self.__x = x\n",
    "            self.__y = y\n",
    "        else:\n",
    "            raise ValueError('Координаты должны быть числами')\n",
    "\n",
    "    def get_coord(self):\n",
    "        return self.__x, self.__y"
   ],
   "id": "f63fd672858de83e",
   "outputs": [],
   "execution_count": 18
  },
  {
   "metadata": {
    "ExecuteTime": {
     "end_time": "2024-10-16T11:40:42.498865Z",
     "start_time": "2024-10-16T11:40:42.492166Z"
    }
   },
   "cell_type": "code",
   "source": "pt = Point()",
   "id": "43335d3ea1f6f9b3",
   "outputs": [],
   "execution_count": 19
  },
  {
   "metadata": {
    "ExecuteTime": {
     "end_time": "2024-10-16T11:41:06.972492Z",
     "start_time": "2024-10-16T11:41:06.961663Z"
    }
   },
   "cell_type": "code",
   "source": "pt.set_coord(1, 2)",
   "id": "aaae4a32b66cadb3",
   "outputs": [],
   "execution_count": 21
  },
  {
   "metadata": {
    "ExecuteTime": {
     "end_time": "2024-10-16T11:41:24.725011Z",
     "start_time": "2024-10-16T11:41:24.721337Z"
    }
   },
   "cell_type": "code",
   "source": "print(dir(pt)",
   "id": "47c0bc3402b3d89c",
   "outputs": [
    {
     "name": "stdout",
     "output_type": "stream",
     "text": [
      "['_Point__check_value', '_Point__x', '_Point__y', '__class__', '__delattr__', '__dict__', '__dir__', '__doc__', '__eq__', '__format__', '__ge__', '__getattribute__', '__getstate__', '__gt__', '__hash__', '__init__', '__init_subclass__', '__le__', '__lt__', '__module__', '__ne__', '__new__', '__reduce__', '__reduce_ex__', '__repr__', '__setattr__', '__sizeof__', '__str__', '__subclasshook__', '__weakref__', 'get_coord', 'prot', 'set_coord']\n"
     ]
    }
   ],
   "execution_count": 23
  },
  {
   "metadata": {
    "ExecuteTime": {
     "end_time": "2024-10-16T11:41:38.107351Z",
     "start_time": "2024-10-16T11:41:38.101084Z"
    }
   },
   "cell_type": "code",
   "source": "pt._Point__x",
   "id": "a0c382782290876a",
   "outputs": [
    {
     "data": {
      "text/plain": [
       "1"
      ]
     },
     "execution_count": 24,
     "metadata": {},
     "output_type": "execute_result"
    }
   ],
   "execution_count": 24
  },
  {
   "metadata": {
    "ExecuteTime": {
     "end_time": "2024-10-16T12:21:03.290285Z",
     "start_time": "2024-10-16T12:21:03.284766Z"
    }
   },
   "cell_type": "code",
   "source": "from accessify import private, protected",
   "id": "13ed86b94beed10f",
   "outputs": [],
   "execution_count": 1
  },
  {
   "metadata": {
    "ExecuteTime": {
     "end_time": "2024-10-16T12:47:29.420614Z",
     "start_time": "2024-10-16T12:47:29.412464Z"
    }
   },
   "cell_type": "code",
   "source": [
    "class Point3:\n",
    "    def metod(self, x):\n",
    "        self.x = x\n",
    "    \n",
    "    \n",
    "    def test_private(self, x):\n",
    "        self.__x = x        \n",
    "    \n",
    "    @private\n",
    "    def test_private2(self, x):\n",
    "        self.__x = x "
   ],
   "id": "9de98f8aa58b1311",
   "outputs": [],
   "execution_count": 32
  },
  {
   "metadata": {
    "ExecuteTime": {
     "end_time": "2024-10-16T12:47:30.022465Z",
     "start_time": "2024-10-16T12:47:30.017450Z"
    }
   },
   "cell_type": "code",
   "source": "pt = Point3()",
   "id": "91fc9bee37c6a7f2",
   "outputs": [],
   "execution_count": 33
  },
  {
   "metadata": {
    "ExecuteTime": {
     "end_time": "2024-10-16T12:47:30.392590Z",
     "start_time": "2024-10-16T12:47:30.382429Z"
    }
   },
   "cell_type": "code",
   "source": "pt.metod(3)",
   "id": "3388329efddc78a4",
   "outputs": [],
   "execution_count": 34
  },
  {
   "metadata": {
    "ExecuteTime": {
     "end_time": "2024-10-16T12:47:30.862398Z",
     "start_time": "2024-10-16T12:47:30.842449Z"
    }
   },
   "cell_type": "code",
   "source": "pt.x",
   "id": "1ac15ae01b0f495",
   "outputs": [
    {
     "data": {
      "text/plain": [
       "3"
      ]
     },
     "execution_count": 35,
     "metadata": {},
     "output_type": "execute_result"
    }
   ],
   "execution_count": 35
  },
  {
   "metadata": {
    "ExecuteTime": {
     "end_time": "2024-10-16T12:47:31.246549Z",
     "start_time": "2024-10-16T12:47:31.242427Z"
    }
   },
   "cell_type": "code",
   "source": "pt.test_private(3)",
   "id": "71f58727c23d0bcb",
   "outputs": [],
   "execution_count": 36
  },
  {
   "metadata": {
    "ExecuteTime": {
     "end_time": "2024-10-16T12:47:32.837245Z",
     "start_time": "2024-10-16T12:47:32.832237Z"
    }
   },
   "cell_type": "code",
   "source": "print(dir(pt))",
   "id": "f509705882ec030d",
   "outputs": [
    {
     "name": "stdout",
     "output_type": "stream",
     "text": [
      "['_Point3__x', '__class__', '__delattr__', '__dict__', '__dir__', '__doc__', '__eq__', '__format__', '__ge__', '__getattribute__', '__getstate__', '__gt__', '__hash__', '__init__', '__init_subclass__', '__le__', '__lt__', '__module__', '__ne__', '__new__', '__reduce__', '__reduce_ex__', '__repr__', '__setattr__', '__sizeof__', '__str__', '__subclasshook__', '__weakref__', 'metod', 'test_private', 'test_private2', 'x']\n"
     ]
    }
   ],
   "execution_count": 37
  },
  {
   "metadata": {
    "ExecuteTime": {
     "end_time": "2024-10-16T12:47:33.265089Z",
     "start_time": "2024-10-16T12:47:33.257512Z"
    }
   },
   "cell_type": "code",
   "source": "pt._Point3__x",
   "id": "809a2c008834bdfd",
   "outputs": [
    {
     "data": {
      "text/plain": [
       "3"
      ]
     },
     "execution_count": 38,
     "metadata": {},
     "output_type": "execute_result"
    }
   ],
   "execution_count": 38
  },
  {
   "metadata": {
    "ExecuteTime": {
     "end_time": "2024-10-16T12:47:46.239798Z",
     "start_time": "2024-10-16T12:47:46.222542Z"
    }
   },
   "cell_type": "code",
   "source": "pt.test_private2(3)",
   "id": "e49dcd83e40fac17",
   "outputs": [
    {
     "ename": "InaccessibleDueToItsProtectionLevelException",
     "evalue": "Point3.test_private2() is inaccessible due to its protection level",
     "output_type": "error",
     "traceback": [
      "\u001B[1;31m---------------------------------------------------------------------------\u001B[0m",
      "\u001B[1;31mInaccessibleDueToItsProtectionLevelException\u001B[0mTraceback (most recent call last)",
      "Cell \u001B[1;32mIn[39], line 1\u001B[0m\n\u001B[1;32m----> 1\u001B[0m \u001B[43mpt\u001B[49m\u001B[38;5;241;43m.\u001B[39;49m\u001B[43mtest_private2\u001B[49m\u001B[43m(\u001B[49m\u001B[38;5;241;43m3\u001B[39;49m\u001B[43m)\u001B[49m\n",
      "File \u001B[1;32mD:\\Stud\\OOP_Stepik\\.venv\\Lib\\site-packages\\accessify\\access.py:75\u001B[0m, in \u001B[0;36mprivate.<locals>.private_wrapper\u001B[1;34m(*args, **kwargs)\u001B[0m\n\u001B[0;32m     72\u001B[0m     method_caller_class \u001B[38;5;241m=\u001B[39m get_method_class_by_frame(frame\u001B[38;5;241m=\u001B[39mmethod_caller_frame)\n\u001B[0;32m     74\u001B[0m     \u001B[38;5;28;01mif\u001B[39;00m instance_class \u001B[38;5;129;01mis\u001B[39;00m \u001B[38;5;129;01mnot\u001B[39;00m method_caller_class:\n\u001B[1;32m---> 75\u001B[0m         \u001B[38;5;28;01mraise\u001B[39;00m InaccessibleDueToItsProtectionLevelException(\n\u001B[0;32m     76\u001B[0m             INACCESSIBLE_DUE_TO_ITS_PROTECTION_LEVEL_EXCEPTION_MESSAGE\u001B[38;5;241m.\u001B[39mformat(\n\u001B[0;32m     77\u001B[0m                 class_name\u001B[38;5;241m=\u001B[39minstance_class\u001B[38;5;241m.\u001B[39m\u001B[38;5;18m__name__\u001B[39m, class_method_name\u001B[38;5;241m=\u001B[39mmethod\u001B[38;5;241m.\u001B[39m\u001B[38;5;18m__name__\u001B[39m,\n\u001B[0;32m     78\u001B[0m             ),\n\u001B[0;32m     79\u001B[0m         )\n\u001B[0;32m     81\u001B[0m \u001B[38;5;28;01mif\u001B[39;00m func\u001B[38;5;241m.\u001B[39m\u001B[38;5;18m__class__\u001B[39m\u001B[38;5;241m.\u001B[39m\u001B[38;5;18m__name__\u001B[39m \u001B[38;5;241m==\u001B[39m ClassMemberTypes\u001B[38;5;241m.\u001B[39mCLASS_METHOD:\n\u001B[0;32m     82\u001B[0m     arguments \u001B[38;5;241m=\u001B[39m (instance_class, ) \u001B[38;5;241m+\u001B[39m \u001B[38;5;28mtuple\u001B[39m(arguments_without_instance)\n",
      "\u001B[1;31mInaccessibleDueToItsProtectionLevelException\u001B[0m: Point3.test_private2() is inaccessible due to its protection level"
     ]
    }
   ],
   "execution_count": 39
  },
  {
   "metadata": {
    "ExecuteTime": {
     "end_time": "2024-10-16T12:50:27.621481Z",
     "start_time": "2024-10-16T12:50:27.615907Z"
    }
   },
   "cell_type": "code",
   "source": [
    "from accessify import private, protected\n",
    "class Point3:\n",
    "    def prot(self, a, b):\n",
    "        self._a = a\n",
    "        self._b = b\n",
    "\n",
    "    # Защита accessity\n",
    "    @private\n",
    "    @classmethod\n",
    "    def check_value(cls, x):\n",
    "        return type(x) in (int, float)\n",
    "\n",
    "    def set_coord(self, x, y):\n",
    "        self.__x = self.__y = 0\n",
    "        if self.__check_value(x) and self.__check_value(y):\n",
    "            self.__x = x\n",
    "            self.__y = y\n",
    "        else:\n",
    "            raise ValueError('Координаты должны быть числами')\n",
    "\n",
    "    def get_coord(self):\n",
    "        return self.__x, self.__y"
   ],
   "id": "c2695466f16f26b2",
   "outputs": [],
   "execution_count": 52
  },
  {
   "metadata": {
    "ExecuteTime": {
     "end_time": "2024-10-16T12:50:28.721188Z",
     "start_time": "2024-10-16T12:50:28.715896Z"
    }
   },
   "cell_type": "code",
   "source": "pt3 = Point3()",
   "id": "ec97e70ef12c75be",
   "outputs": [],
   "execution_count": 53
  },
  {
   "metadata": {
    "ExecuteTime": {
     "end_time": "2024-10-16T12:50:29.272898Z",
     "start_time": "2024-10-16T12:50:29.245872Z"
    }
   },
   "cell_type": "code",
   "source": "pt3.check_value(5)",
   "id": "aa6cd0c17f59a997",
   "outputs": [
    {
     "ename": "InaccessibleDueToItsProtectionLevelException",
     "evalue": "Point3.check_value() is inaccessible due to its protection level",
     "output_type": "error",
     "traceback": [
      "\u001B[1;31m---------------------------------------------------------------------------\u001B[0m",
      "\u001B[1;31mInaccessibleDueToItsProtectionLevelException\u001B[0mTraceback (most recent call last)",
      "Cell \u001B[1;32mIn[54], line 1\u001B[0m\n\u001B[1;32m----> 1\u001B[0m \u001B[43mpt3\u001B[49m\u001B[38;5;241;43m.\u001B[39;49m\u001B[43mcheck_value\u001B[49m\u001B[43m(\u001B[49m\u001B[38;5;241;43m5\u001B[39;49m\u001B[43m)\u001B[49m\n",
      "File \u001B[1;32mD:\\Stud\\OOP_Stepik\\.venv\\Lib\\site-packages\\accessify\\access.py:75\u001B[0m, in \u001B[0;36mprivate.<locals>.private_wrapper\u001B[1;34m(*args, **kwargs)\u001B[0m\n\u001B[0;32m     72\u001B[0m     method_caller_class \u001B[38;5;241m=\u001B[39m get_method_class_by_frame(frame\u001B[38;5;241m=\u001B[39mmethod_caller_frame)\n\u001B[0;32m     74\u001B[0m     \u001B[38;5;28;01mif\u001B[39;00m instance_class \u001B[38;5;129;01mis\u001B[39;00m \u001B[38;5;129;01mnot\u001B[39;00m method_caller_class:\n\u001B[1;32m---> 75\u001B[0m         \u001B[38;5;28;01mraise\u001B[39;00m InaccessibleDueToItsProtectionLevelException(\n\u001B[0;32m     76\u001B[0m             INACCESSIBLE_DUE_TO_ITS_PROTECTION_LEVEL_EXCEPTION_MESSAGE\u001B[38;5;241m.\u001B[39mformat(\n\u001B[0;32m     77\u001B[0m                 class_name\u001B[38;5;241m=\u001B[39minstance_class\u001B[38;5;241m.\u001B[39m\u001B[38;5;18m__name__\u001B[39m, class_method_name\u001B[38;5;241m=\u001B[39mmethod\u001B[38;5;241m.\u001B[39m\u001B[38;5;18m__name__\u001B[39m,\n\u001B[0;32m     78\u001B[0m             ),\n\u001B[0;32m     79\u001B[0m         )\n\u001B[0;32m     81\u001B[0m \u001B[38;5;28;01mif\u001B[39;00m func\u001B[38;5;241m.\u001B[39m\u001B[38;5;18m__class__\u001B[39m\u001B[38;5;241m.\u001B[39m\u001B[38;5;18m__name__\u001B[39m \u001B[38;5;241m==\u001B[39m ClassMemberTypes\u001B[38;5;241m.\u001B[39mCLASS_METHOD:\n\u001B[0;32m     82\u001B[0m     arguments \u001B[38;5;241m=\u001B[39m (instance_class, ) \u001B[38;5;241m+\u001B[39m \u001B[38;5;28mtuple\u001B[39m(arguments_without_instance)\n",
      "\u001B[1;31mInaccessibleDueToItsProtectionLevelException\u001B[0m: Point3.check_value() is inaccessible due to its protection level"
     ]
    }
   ],
   "execution_count": 54
  },
  {
   "metadata": {
    "ExecuteTime": {
     "end_time": "2024-10-16T12:51:15.083382Z",
     "start_time": "2024-10-16T12:51:15.071829Z"
    }
   },
   "cell_type": "code",
   "source": "print(pt3._Point__x)",
   "id": "76f526ab8b9f8a9c",
   "outputs": [
    {
     "ename": "AttributeError",
     "evalue": "'Point3' object has no attribute '_Point__x'",
     "output_type": "error",
     "traceback": [
      "\u001B[1;31m---------------------------------------------------------------------------\u001B[0m",
      "\u001B[1;31mAttributeError\u001B[0m                            Traceback (most recent call last)",
      "Cell \u001B[1;32mIn[55], line 1\u001B[0m\n\u001B[1;32m----> 1\u001B[0m \u001B[38;5;28mprint\u001B[39m(\u001B[43mpt3\u001B[49m\u001B[38;5;241;43m.\u001B[39;49m\u001B[43m_Point__x\u001B[49m)\n",
      "\u001B[1;31mAttributeError\u001B[0m: 'Point3' object has no attribute '_Point__x'"
     ]
    }
   ],
   "execution_count": 55
  },
  {
   "metadata": {},
   "cell_type": "code",
   "outputs": [],
   "execution_count": null,
   "source": "",
   "id": "880c91d43d2162f7"
  }
 ],
 "metadata": {
  "kernelspec": {
   "display_name": "Python 3",
   "language": "python",
   "name": "python3"
  },
  "language_info": {
   "codemirror_mode": {
    "name": "ipython",
    "version": 2
   },
   "file_extension": ".py",
   "mimetype": "text/x-python",
   "name": "python",
   "nbconvert_exporter": "python",
   "pygments_lexer": "ipython2",
   "version": "2.7.6"
  }
 },
 "nbformat": 4,
 "nbformat_minor": 5
}
