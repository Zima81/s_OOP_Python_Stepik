{
 "cells": [
  {
   "cell_type": "code",
   "id": "initial_id",
   "metadata": {
    "collapsed": true,
    "ExecuteTime": {
     "end_time": "2024-10-16T08:31:46.944486Z",
     "start_time": "2024-10-16T08:31:46.937735Z"
    }
   },
   "source": [
    "class Point:\n",
    "    def prot(self, a, b):\n",
    "        self._a = a\n",
    "        self._b = b\n",
    "    \n",
    "    def set_coord(self, x, y):\n",
    "        self.__x = x\n",
    "        self.__y = y\n",
    "\n",
    "    def get_coord(self):\n",
    "        return self.__x, self.__y"
   ],
   "execution_count": 5,
   "outputs": []
  },
  {
   "metadata": {
    "ExecuteTime": {
     "end_time": "2024-10-16T08:31:48.968732Z",
     "start_time": "2024-10-16T08:31:48.962615Z"
    }
   },
   "cell_type": "code",
   "source": "pt = Point()",
   "id": "9382ceff6035a5c3",
   "execution_count": 6,
   "outputs": []
  },
  {
   "metadata": {
    "ExecuteTime": {
     "end_time": "2024-10-16T08:31:50.110749Z",
     "start_time": "2024-10-16T08:31:50.102615Z"
    }
   },
   "cell_type": "code",
   "source": "pt.set_coord(10, 20)",
   "id": "c901c7d0cd676f3a",
   "execution_count": 7,
   "outputs": []
  },
  {
   "metadata": {
    "ExecuteTime": {
     "end_time": "2024-10-16T08:32:00.201247Z",
     "start_time": "2024-10-16T08:32:00.193025Z"
    }
   },
   "cell_type": "code",
   "source": "pt.prot(1, 2)",
   "id": "48aba03a68c3e216",
   "execution_count": 8,
   "outputs": []
  },
  {
   "metadata": {
    "ExecuteTime": {
     "end_time": "2024-10-16T08:32:19.409498Z",
     "start_time": "2024-10-16T08:32:19.403551Z"
    }
   },
   "cell_type": "code",
   "source": "pt._a = 1000",
   "id": "861f57b434a382cd",
   "execution_count": 10,
   "outputs": []
  },
  {
   "metadata": {
    "ExecuteTime": {
     "end_time": "2024-10-16T08:33:24.780663Z",
     "start_time": "2024-10-16T08:33:24.765327Z"
    }
   },
   "cell_type": "code",
   "source": "from accessify import private, protected",
   "id": "d53dd23d4fcd6656",
   "execution_count": 15,
   "outputs": []
  },
  {
   "metadata": {
    "ExecuteTime": {
     "end_time": "2024-10-16T11:40:41.290714Z",
     "start_time": "2024-10-16T11:40:41.282207Z"
    }
   },
   "cell_type": "code",
   "source": [
    "class Point:\n",
    "    def prot(self, a, b):\n",
    "        self._a = a\n",
    "        self._b = b\n",
    "    \n",
    "    @classmethod        \n",
    "    def __check_value(cls, x):\n",
    "        return type(x) in (int, float)            \n",
    "    \n",
    "    def set_coord(self, x, y):\n",
    "        self.__x = self.__y = 0\n",
    "        if self.__check_value(x) and self.__check_value(y):\n",
    "            self.__x = x\n",
    "            self.__y = y\n",
    "        else:\n",
    "            raise ValueError('Координаты должны быть числами')\n",
    "\n",
    "    def get_coord(self):\n",
    "        return self.__x, self.__y"
   ],
   "id": "f63fd672858de83e",
   "execution_count": 18,
   "outputs": []
  },
  {
   "metadata": {
    "ExecuteTime": {
     "end_time": "2024-10-16T11:40:42.498865Z",
     "start_time": "2024-10-16T11:40:42.492166Z"
    }
   },
   "cell_type": "code",
   "source": "pt = Point()",
   "id": "43335d3ea1f6f9b3",
   "execution_count": 19,
   "outputs": []
  },
  {
   "metadata": {
    "ExecuteTime": {
     "end_time": "2024-10-16T11:41:06.972492Z",
     "start_time": "2024-10-16T11:41:06.961663Z"
    }
   },
   "cell_type": "code",
   "source": "pt.set_coord(1, 2)",
   "id": "aaae4a32b66cadb3",
   "execution_count": 21,
   "outputs": []
  },
  {
   "metadata": {
    "ExecuteTime": {
     "end_time": "2024-10-16T11:41:24.725011Z",
     "start_time": "2024-10-16T11:41:24.721337Z"
    }
   },
   "cell_type": "code",
   "source": "print(dir(pt)",
   "id": "47c0bc3402b3d89c",
   "execution_count": 23,
   "outputs": []
  },
  {
   "metadata": {
    "ExecuteTime": {
     "end_time": "2024-10-16T11:41:38.107351Z",
     "start_time": "2024-10-16T11:41:38.101084Z"
    }
   },
   "cell_type": "code",
   "source": "pt._Point__x",
   "id": "a0c382782290876a",
   "execution_count": 24,
   "outputs": []
  },
  {
   "metadata": {
    "ExecuteTime": {
     "end_time": "2024-10-16T12:21:03.290285Z",
     "start_time": "2024-10-16T12:21:03.284766Z"
    }
   },
   "cell_type": "code",
   "source": "from accessify import private, protected",
   "id": "13ed86b94beed10f",
   "execution_count": 1,
   "outputs": []
  },
  {
   "metadata": {
    "ExecuteTime": {
     "end_time": "2024-10-16T12:47:29.420614Z",
     "start_time": "2024-10-16T12:47:29.412464Z"
    }
   },
   "cell_type": "code",
   "source": [
    "class Point3:\n",
    "    def metod(self, x):\n",
    "        self.x = x\n",
    "    \n",
    "    \n",
    "    def test_private(self, x):\n",
    "        self.__x = x        \n",
    "    \n",
    "    @private\n",
    "    def test_private2(self, x):\n",
    "        self.__x = x "
   ],
   "id": "9de98f8aa58b1311",
   "execution_count": 32,
   "outputs": []
  },
  {
   "metadata": {
    "ExecuteTime": {
     "end_time": "2024-10-16T12:47:30.022465Z",
     "start_time": "2024-10-16T12:47:30.017450Z"
    }
   },
   "cell_type": "code",
   "source": "pt = Point3()",
   "id": "91fc9bee37c6a7f2",
   "execution_count": 33,
   "outputs": []
  },
  {
   "metadata": {
    "ExecuteTime": {
     "end_time": "2024-10-16T12:47:30.392590Z",
     "start_time": "2024-10-16T12:47:30.382429Z"
    }
   },
   "cell_type": "code",
   "source": "pt.metod(3)",
   "id": "3388329efddc78a4",
   "execution_count": 34,
   "outputs": []
  },
  {
   "metadata": {
    "ExecuteTime": {
     "end_time": "2024-10-16T12:47:30.862398Z",
     "start_time": "2024-10-16T12:47:30.842449Z"
    }
   },
   "cell_type": "code",
   "source": "pt.x",
   "id": "1ac15ae01b0f495",
   "execution_count": 35,
   "outputs": []
  },
  {
   "metadata": {
    "ExecuteTime": {
     "end_time": "2024-10-16T12:47:31.246549Z",
     "start_time": "2024-10-16T12:47:31.242427Z"
    }
   },
   "cell_type": "code",
   "source": "pt.test_private(3)",
   "id": "71f58727c23d0bcb",
   "execution_count": 36,
   "outputs": []
  },
  {
   "metadata": {
    "ExecuteTime": {
     "end_time": "2024-10-16T12:47:32.837245Z",
     "start_time": "2024-10-16T12:47:32.832237Z"
    }
   },
   "cell_type": "code",
   "source": "print(dir(pt))",
   "id": "f509705882ec030d",
   "execution_count": 37,
   "outputs": []
  },
  {
   "metadata": {
    "ExecuteTime": {
     "end_time": "2024-10-16T12:47:33.265089Z",
     "start_time": "2024-10-16T12:47:33.257512Z"
    }
   },
   "cell_type": "code",
   "source": "pt._Point3__x",
   "id": "809a2c008834bdfd",
   "execution_count": 38,
   "outputs": []
  },
  {
   "metadata": {
    "ExecuteTime": {
     "end_time": "2024-10-16T12:47:46.239798Z",
     "start_time": "2024-10-16T12:47:46.222542Z"
    }
   },
   "cell_type": "code",
   "source": "pt.test_private2(3)",
   "id": "e49dcd83e40fac17",
   "execution_count": 39,
   "outputs": []
  },
  {
   "metadata": {
    "ExecuteTime": {
     "end_time": "2024-10-16T12:50:27.621481Z",
     "start_time": "2024-10-16T12:50:27.615907Z"
    }
   },
   "cell_type": "code",
   "source": [
    "from accessify import private, protected\n",
    "class Point3:\n",
    "    def prot(self, a, b):\n",
    "        self._a = a\n",
    "        self._b = b\n",
    "\n",
    "    # Защита accessity\n",
    "    @private\n",
    "    @classmethod\n",
    "    def check_value(cls, x):\n",
    "        return type(x) in (int, float)\n",
    "\n",
    "    def set_coord(self, x, y):\n",
    "        self.__x = self.__y = 0\n",
    "        if self.__check_value(x) and self.__check_value(y):\n",
    "            self.__x = x\n",
    "            self.__y = y\n",
    "        else:\n",
    "            raise ValueError('Координаты должны быть числами')\n",
    "\n",
    "    def get_coord(self):\n",
    "        return self.__x, self.__y"
   ],
   "id": "c2695466f16f26b2",
   "execution_count": 52,
   "outputs": []
  },
  {
   "metadata": {
    "ExecuteTime": {
     "end_time": "2024-10-16T12:50:28.721188Z",
     "start_time": "2024-10-16T12:50:28.715896Z"
    }
   },
   "cell_type": "code",
   "source": "pt3 = Point3()",
   "id": "ec97e70ef12c75be",
   "execution_count": 53,
   "outputs": []
  },
  {
   "metadata": {
    "ExecuteTime": {
     "end_time": "2024-10-16T12:50:29.272898Z",
     "start_time": "2024-10-16T12:50:29.245872Z"
    }
   },
   "cell_type": "code",
   "source": "pt3.check_value(5)",
   "id": "aa6cd0c17f59a997",
   "execution_count": 54,
   "outputs": []
  },
  {
   "metadata": {
    "ExecuteTime": {
     "end_time": "2024-10-16T12:51:15.083382Z",
     "start_time": "2024-10-16T12:51:15.071829Z"
    }
   },
   "cell_type": "code",
   "source": "print(pt3._Point__x)",
   "id": "76f526ab8b9f8a9c",
   "execution_count": 55,
   "outputs": []
  },
  {
   "metadata": {},
   "cell_type": "code",
   "execution_count": null,
   "source": "",
   "id": "880c91d43d2162f7",
   "outputs": []
  }
 ],
 "metadata": {
  "kernelspec": {
   "display_name": "Python 3",
   "language": "python",
   "name": "python3"
  },
  "language_info": {
   "codemirror_mode": {
    "name": "ipython",
    "version": 2
   },
   "file_extension": ".py",
   "mimetype": "text/x-python",
   "name": "python",
   "nbconvert_exporter": "python",
   "pygments_lexer": "ipython2",
   "version": "2.7.6"
  }
 },
 "nbformat": 4,
 "nbformat_minor": 5
}
