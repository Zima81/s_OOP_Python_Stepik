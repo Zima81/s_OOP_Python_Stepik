{
 "cells": [
  {
   "metadata": {},
   "cell_type": "markdown",
   "source": [
    "### Подвиг 6. Объявите класс AbstractClass, объекты которого нельзя было бы создавать. При выполнении команды:\n",
    "\n",
    "obj = AbstractClass()\n",
    "\n",
    "переменная obj должна ссылаться на строку с содержимым:\n",
    "\n",
    "\"Ошибка: нельзя создавать объекты абстрактного класса\"\n",
    "\n",
    "P.S. В программе объявить только класс, выводить на экран ничего не нужно."
   ],
   "id": "189523e002e6a0f4"
  },
  {
   "metadata": {
    "ExecuteTime": {
     "end_time": "2024-09-22T17:28:06.100010Z",
     "start_time": "2024-09-22T17:28:06.096387Z"
    }
   },
   "cell_type": "code",
   "source": [
    "class AbstractClass:\n",
    "    def __new__(cls, *args, **kwargs):\n",
    "        return super().__new__(cls)\n",
    "    \n",
    "    def __init__(self):\n",
    "        print(\"Ошибка: нельзя создавать объекты абстрактного класса\")"
   ],
   "id": "71658cd426523b6c",
   "execution_count": 17,
   "outputs": []
  },
  {
   "metadata": {
    "ExecuteTime": {
     "end_time": "2024-09-22T17:30:47.007329Z",
     "start_time": "2024-09-22T17:30:47.003234Z"
    }
   },
   "cell_type": "code",
   "source": [
    "class AbstractClass:        \n",
    "    def __new__(cls, *args, **kwargs):\n",
    "        return \"Ошибка: нельзя создавать объекты абстрактного класса\""
   ],
   "id": "acc001d9b8792a97",
   "execution_count": 21,
   "outputs": []
  },
  {
   "metadata": {
    "ExecuteTime": {
     "end_time": "2024-09-22T17:30:47.832354Z",
     "start_time": "2024-09-22T17:30:47.826519Z"
    }
   },
   "cell_type": "code",
   "source": "obj = AbstractClass()",
   "id": "8bed02d4bcf130c2",
   "execution_count": 22,
   "outputs": []
  },
  {
   "metadata": {},
   "cell_type": "markdown",
   "source": [
    "### Подвиг 7. Объявите класс SingletonFive, с помощью которого можно было бы создавать объекты командой:\n",
    "\n",
    "a = SingletonFive(<наименование>)\n",
    "\n",
    "Здесь <наименование> - это данные, которые сохраняются в локальном свойстве name созданного объекта.\n",
    "\n",
    "Этот класс должен формировать только первые пять объектов. Остальные (шестой, седьмой и т.д.) должны быть ссылкой на последний (пятый) созданный объект.\n",
    "\n",
    "Создайте первые десять объектов класса SingletonFive с помощью следующего фрагмента программы:\n",
    "\n",
    "objs = [SingletonFive(str(n)) for n in range(10)]\n",
    "\n",
    "P.S. В программе на экран ничего выводить не нужно. "
   ],
   "id": "8e30562150aedba3"
  },
  {
   "metadata": {
    "ExecuteTime": {
     "end_time": "2024-09-24T18:35:11.740275Z",
     "start_time": "2024-09-24T18:35:11.736460Z"
    }
   },
   "cell_type": "code",
   "source": [
    "class SingletonFive:\n",
    "    count = 1\n",
    "    __instance = None\n",
    "    def __new__(cls, *args, **kwargs):\n",
    "        if cls.count < 6:\n",
    "            cls.count += 1\n",
    "            cls.__instance = super().__new__(cls)\n",
    "        return cls.__instance\n",
    "    \n",
    "    def __init__(self, name):\n",
    "        self.name = name"
   ],
   "id": "5423d7f2c4ac6868",
   "execution_count": 5,
   "outputs": []
  },
  {
   "metadata": {
    "ExecuteTime": {
     "end_time": "2024-09-24T18:13:34.283361Z",
     "start_time": "2024-09-24T18:13:34.081362Z"
    }
   },
   "cell_type": "code",
   "source": "objs = [SingletonFive(str(n)) for n in range(10)]",
   "id": "b2cd06acc0274668",
   "execution_count": 4,
   "outputs": []
  },
  {
   "metadata": {},
   "cell_type": "markdown",
   "source": [
    "### Подвиг 8. В программе объявлена переменная TYPE_OS и два следующих класса:\n",
    "\n",
    "        TYPE_OS = 1 # 1 - Windows; 2 - Linux\n",
    "\n",
    "        class DialogWindows:\n",
    "            name_class = \"DialogWindows\"        \n",
    "        \n",
    "        class DialogLinux:\n",
    "            name_class = \"DialogLinux\"\n",
    "        \n",
    "Необходимо объявить третий класс с именем Dialog, который бы создавал объекты командой:\n",
    "        \n",
    "        dlg = Dialog(<название>)\n",
    "\n",
    "Здесь <название> - это строка, которая сохраняется в локальном свойстве name объекта dlg.\n",
    "\n",
    "Класс Dialog должен создавать объекты класса DialogWindows, если переменная TYPE_OS = 1 и объекты класса DialogLinux, если переменная TYPE_OS не равна 1. При этом, переменная TYPE_OS может меняться в последующих строчках программы. Имейте это в виду, при объявлении класса Dialog.\n",
    "\n",
    "P.S. В программе на экран ничего выводить не нужно. Только объявить класс Dialog."
   ],
   "id": "abd1967b6a07756d"
  },
  {
   "metadata": {
    "ExecuteTime": {
     "end_time": "2024-09-25T15:56:49.833946Z",
     "start_time": "2024-09-25T15:56:49.829236Z"
    }
   },
   "cell_type": "code",
   "source": [
    "TYPE_OS = 1 # 1 - Windows; 2 - Linux\n",
    "\n",
    "class DialogWindows:\n",
    "    name_class = \"DialogWindows\"\n",
    "\n",
    "class DialogLinux:\n",
    "    name_class = \"DialogLinux\""
   ],
   "id": "aba2b1741a15bb2a",
   "execution_count": 54,
   "outputs": []
  },
  {
   "metadata": {
    "ExecuteTime": {
     "end_time": "2024-09-25T15:59:25.794850Z",
     "start_time": "2024-09-25T15:59:25.791217Z"
    }
   },
   "cell_type": "code",
   "source": [
    "class Dialog:\n",
    "    def __new__(cls, *args, **kwargs):\n",
    "        if TYPE_OS == 1:\n",
    "            pr = super().__new__(DialogWindows)\n",
    "            pr.name = args[0]\n",
    "            return pr \n",
    "        else:\n",
    "            pr = super().__new__(DialogLinux)\n",
    "            pr.name = args[0]\n",
    "            return pr"
   ],
   "id": "8a0a792caceb61aa",
   "execution_count": 57,
   "outputs": []
  },
  {
   "metadata": {
    "ExecuteTime": {
     "end_time": "2024-09-25T15:56:50.723041Z",
     "start_time": "2024-09-25T15:56:50.551Z"
    }
   },
   "cell_type": "code",
   "source": "dlg = Dialog('name')",
   "id": "a5f91b19d97d64c0",
   "execution_count": 56,
   "outputs": []
  },
  {
   "metadata": {},
   "cell_type": "markdown",
   "source": "### Подвиг 9 (на повторение материала). Объявите класс Point для представления точек на плоскости",
   "id": "1632e2d260422c00"
  },
  {
   "metadata": {
    "ExecuteTime": {
     "end_time": "2024-09-30T11:42:26.238315Z",
     "start_time": "2024-09-30T11:42:26.235142Z"
    }
   },
   "cell_type": "code",
   "source": [
    "class Point:\n",
    "    def __init__(self, x, y):\n",
    "        self.x = x\n",
    "        self.y = y    \n",
    "    \n",
    "    def clone(self):\n",
    "        return Point(self.x, self.y)"
   ],
   "id": "92bed1740925dc3f",
   "execution_count": 29,
   "outputs": []
  },
  {
   "metadata": {
    "ExecuteTime": {
     "end_time": "2024-09-30T11:42:26.750391Z",
     "start_time": "2024-09-30T11:42:26.747560Z"
    }
   },
   "cell_type": "code",
   "source": "pt = Point(2, 3)",
   "id": "be0ee7af1049d35d",
   "execution_count": 30,
   "outputs": []
  },
  {
   "metadata": {
    "ExecuteTime": {
     "end_time": "2024-09-30T11:42:27.845058Z",
     "start_time": "2024-09-30T11:42:27.842071Z"
    }
   },
   "cell_type": "code",
   "source": "pt_clone = pt.clone()",
   "id": "f246854b98a8adcb",
   "execution_count": 31,
   "outputs": []
  },
  {
   "metadata": {
    "ExecuteTime": {
     "end_time": "2024-09-30T11:42:29.165368Z",
     "start_time": "2024-09-30T11:42:29.161118Z"
    }
   },
   "cell_type": "code",
   "source": "pt_clone.x",
   "id": "bbaffd0a1bc51a99",
   "execution_count": 32,
   "outputs": []
  },
  {
   "metadata": {},
   "cell_type": "markdown",
   "source": "### Подвиг 10 (на повторение материала). В программе предполагается реализовать парсер (обработчик) строки (string) в определенный выходной формат",
   "id": "29d6b685804b3156"
  },
  {
   "metadata": {
    "ExecuteTime": {
     "end_time": "2024-09-30T12:05:25.264877Z",
     "start_time": "2024-09-30T12:05:25.261318Z"
    }
   },
   "cell_type": "code",
   "source": [
    "class Factory:    \n",
    "    def build_sequence(self):\n",
    "        return list()\n",
    "    def build_number(self, string):\n",
    "        return float(string)"
   ],
   "id": "1933393b3058409a",
   "execution_count": 54,
   "outputs": []
  },
  {
   "metadata": {
    "ExecuteTime": {
     "end_time": "2024-09-30T12:05:25.619530Z",
     "start_time": "2024-09-30T12:05:25.616414Z"
    }
   },
   "cell_type": "code",
   "source": [
    "class Loader:\n",
    "    def parse_format(self, string, factory):\n",
    "        seq = factory.build_sequence()\n",
    "        for sub in string.split(\",\"):\n",
    "            item = factory.build_number(sub)\n",
    "            seq.append(item)   \n",
    "    \n",
    "\n",
    "        return seq"
   ],
   "id": "5c8e4544f5f4c308",
   "execution_count": 55,
   "outputs": []
  },
  {
   "metadata": {
    "ExecuteTime": {
     "end_time": "2024-09-30T12:05:26.203322Z",
     "start_time": "2024-09-30T12:05:26.199306Z"
    }
   },
   "cell_type": "code",
   "source": [
    "ld = Loader()\n",
    "res = ld.parse_format(\"4, 5, -6.5\", Factory())  # [4.0, 5.0, -6.5]"
   ],
   "id": "1802126510466be9",
   "execution_count": 56,
   "outputs": []
  },
  {
   "metadata": {
    "ExecuteTime": {
     "end_time": "2024-09-30T12:05:28.363965Z",
     "start_time": "2024-09-30T12:05:28.358274Z"
    }
   },
   "cell_type": "code",
   "source": "res",
   "id": "9fa9e72441adbb43",
   "execution_count": 57,
   "outputs": []
  },
  {
   "metadata": {},
   "cell_type": "code",
   "execution_count": null,
   "source": "",
   "id": "ec5e427dcec76336",
   "outputs": []
  }
 ],
 "metadata": {
  "kernelspec": {
   "display_name": "Python 3",
   "language": "python",
   "name": "python3"
  },
  "language_info": {
   "codemirror_mode": {
    "name": "ipython",
    "version": 2
   },
   "file_extension": ".py",
   "mimetype": "text/x-python",
   "name": "python",
   "nbconvert_exporter": "python",
   "pygments_lexer": "ipython2",
   "version": "2.7.6"
  }
 },
 "nbformat": 4,
 "nbformat_minor": 5
}
