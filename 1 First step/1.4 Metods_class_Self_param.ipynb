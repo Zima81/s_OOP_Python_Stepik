{
 "cells": [
  {
   "cell_type": "code",
   "id": "initial_id",
   "metadata": {
    "collapsed": true,
    "ExecuteTime": {
     "end_time": "2024-09-02T08:34:58.933812Z",
     "start_time": "2024-09-02T08:34:58.930442Z"
    }
   },
   "source": [
    "class Point:\n",
    "    color = 'red'\n",
    "    circle = 2\n",
    "    \n",
    "    def set_coords():\n",
    "        print('Вызов метода set_coords')"
   ],
   "outputs": [],
   "execution_count": 1
  },
  {
   "metadata": {},
   "cell_type": "markdown",
   "source": "#### 6.",
   "id": "8bca3e75a09fdfb4"
  },
  {
   "metadata": {
    "ExecuteTime": {
     "end_time": "2024-09-02T10:42:41.569810Z",
     "start_time": "2024-09-02T10:42:41.566265Z"
    }
   },
   "cell_type": "code",
   "source": [
    "class MediaPlayer:\n",
    "    def open(self, file):\n",
    "        self.filename = file\n",
    "    \n",
    "    def play(self):\n",
    "        print(\"Воспроизведение \" + str(self.filename))"
   ],
   "id": "57b2e7d440d1b1d0",
   "outputs": [],
   "execution_count": 2
  },
  {
   "metadata": {
    "ExecuteTime": {
     "end_time": "2024-09-02T10:43:03.507580Z",
     "start_time": "2024-09-02T10:43:03.504074Z"
    }
   },
   "cell_type": "code",
   "source": [
    "media1 = MediaPlayer()\n",
    "media2 = MediaPlayer()"
   ],
   "id": "77424eaba03cea7b",
   "outputs": [],
   "execution_count": 3
  },
  {
   "metadata": {
    "ExecuteTime": {
     "end_time": "2024-09-02T10:43:45.919693Z",
     "start_time": "2024-09-02T10:43:45.916429Z"
    }
   },
   "cell_type": "code",
   "source": [
    "media1.open('filemedia1')\n",
    "media2.open('filemedia2')"
   ],
   "id": "6f045fd31347c887",
   "outputs": [],
   "execution_count": 4
  },
  {
   "metadata": {
    "ExecuteTime": {
     "end_time": "2024-09-02T10:44:12.558286Z",
     "start_time": "2024-09-02T10:44:12.556028Z"
    }
   },
   "cell_type": "code",
   "source": "media1.play()",
   "id": "32d2fdaf07bfef88",
   "outputs": [
    {
     "name": "stdout",
     "output_type": "stream",
     "text": [
      "Воспроизведение filemedia1\n"
     ]
    }
   ],
   "execution_count": 5
  },
  {
   "metadata": {
    "ExecuteTime": {
     "end_time": "2024-09-02T10:44:20.688638Z",
     "start_time": "2024-09-02T10:44:20.685272Z"
    }
   },
   "cell_type": "code",
   "source": "media2.play()",
   "id": "d4a318aadf6cf5e9",
   "outputs": [
    {
     "name": "stdout",
     "output_type": "stream",
     "text": [
      "Воспроизведение filemedia2\n"
     ]
    }
   ],
   "execution_count": 6
  },
  {
   "metadata": {},
   "cell_type": "markdown",
   "source": "#### 7.",
   "id": "7d20654b494a9818"
  },
  {
   "metadata": {
    "ExecuteTime": {
     "end_time": "2024-09-02T11:37:04.039388Z",
     "start_time": "2024-09-02T11:37:04.036365Z"
    }
   },
   "cell_type": "code",
   "source": [
    "class Graph:    \n",
    "    def set_data(self,data):\n",
    "        self.data = data\n",
    "    \n",
    "    def draw(self):\n",
    "        LIMIT_Y = [0, 10]\n",
    "        stroka = \"\"\n",
    "        for i in self.data:\n",
    "            if i >= LIMIT_Y[0] and i <= LIMIT_Y[-1]:\n",
    "                stroka += str(i) + \" \"\n",
    "        print(stroka)       "
   ],
   "id": "39e6a6b3a5dabaf2",
   "outputs": [],
   "execution_count": 52
  },
  {
   "metadata": {
    "ExecuteTime": {
     "end_time": "2024-09-02T11:37:04.373154Z",
     "start_time": "2024-09-02T11:37:04.371094Z"
    }
   },
   "cell_type": "code",
   "source": "graph_1 = Graph()",
   "id": "326c11e645535cdd",
   "outputs": [],
   "execution_count": 53
  },
  {
   "metadata": {
    "ExecuteTime": {
     "end_time": "2024-09-02T11:37:04.731142Z",
     "start_time": "2024-09-02T11:37:04.728808Z"
    }
   },
   "cell_type": "code",
   "source": "num = [10, -5, 100, 20, 0, 80, 45, 2, 5, 7]",
   "id": "adf228a838ce0fdf",
   "outputs": [],
   "execution_count": 54
  },
  {
   "metadata": {
    "ExecuteTime": {
     "end_time": "2024-09-02T11:37:05.091354Z",
     "start_time": "2024-09-02T11:37:05.088670Z"
    }
   },
   "cell_type": "code",
   "source": "graph_1.set_data(num)",
   "id": "796b8f03e9ae1c17",
   "outputs": [],
   "execution_count": 55
  },
  {
   "metadata": {
    "ExecuteTime": {
     "end_time": "2024-09-02T11:37:05.429865Z",
     "start_time": "2024-09-02T11:37:05.427243Z"
    }
   },
   "cell_type": "code",
   "source": "graph_1.draw()",
   "id": "65d27d8b4e0485df",
   "outputs": [
    {
     "name": "stdout",
     "output_type": "stream",
     "text": [
      "10 0 2 5 7 \n"
     ]
    }
   ],
   "execution_count": 56
  },
  {
   "metadata": {
    "ExecuteTime": {
     "end_time": "2024-09-02T13:18:56.779475Z",
     "start_time": "2024-09-02T13:18:56.774667Z"
    }
   },
   "cell_type": "code",
   "source": [
    "class Graph:\n",
    "  LIMIT_Y: list = [0, 10]\n",
    "  def set_data(self, data):\n",
    "    self.data = data\n",
    "  def draw(self):\n",
    "    for elem in self.data:\n",
    "      if self.LIMIT_Y[0] <= elem <= self.LIMIT_Y[1]:\n",
    "        print(elem)\n",
    "\n",
    "graph_1 = Graph()\n",
    "graph_1.set_data([10, -5, 100, 20, 0, 80, 45, 2, 5, 7])\n",
    "graph_1.draw()"
   ],
   "id": "6a417a27935e1b84",
   "outputs": [
    {
     "name": "stdout",
     "output_type": "stream",
     "text": [
      "10\n",
      "0\n",
      "2\n",
      "5\n",
      "7\n"
     ]
    }
   ],
   "execution_count": 115
  },
  {
   "metadata": {},
   "cell_type": "markdown",
   "source": "#### 9.",
   "id": "131d9a7b4469a19f"
  },
  {
   "metadata": {
    "ExecuteTime": {
     "end_time": "2024-09-02T13:13:26.193333Z",
     "start_time": "2024-09-02T13:13:26.190505Z"
    }
   },
   "cell_type": "code",
   "source": "import sys",
   "id": "33c508857efa033a",
   "outputs": [],
   "execution_count": 104
  },
  {
   "metadata": {
    "ExecuteTime": {
     "end_time": "2024-09-02T13:13:26.633134Z",
     "start_time": "2024-09-02T13:13:26.630387Z"
    }
   },
   "cell_type": "code",
   "source": [
    "class StreamData:\n",
    "    def create(self, fields, lst_values):\n",
    "        if len(fields) == len(lst_values):\n",
    "            for name, values in zip(fields, lst_values):\n",
    "                setattr(self, name, values)\n",
    "            return True\n",
    "        else:\n",
    "            return False"
   ],
   "id": "c7080950b53d56ac",
   "outputs": [],
   "execution_count": 105
  },
  {
   "metadata": {
    "ExecuteTime": {
     "end_time": "2024-09-02T13:13:53.160932Z",
     "start_time": "2024-09-02T13:13:53.157274Z"
    }
   },
   "cell_type": "code",
   "source": [
    "class StreamReader:\n",
    "    FIELDS = ('id', 'title', 'pages')\n",
    "\n",
    "    def readlines(self):\n",
    "        lst_in = list(map(str.strip, sys.stdin.readlines()))  # считывание списка строк из входного потока\n",
    "        sd = StreamData()\n",
    "        res = sd.create(self.FIELDS, lst_in)\n",
    "        return sd, res"
   ],
   "id": "375c76e3190c2045",
   "outputs": [],
   "execution_count": 111
  },
  {
   "metadata": {
    "ExecuteTime": {
     "end_time": "2024-09-02T13:13:53.543023Z",
     "start_time": "2024-09-02T13:13:53.541059Z"
    }
   },
   "cell_type": "code",
   "source": [
    "sr = StreamReader()\n",
    "data, result = sr.readlines()"
   ],
   "id": "d48d688980e17ce4",
   "outputs": [],
   "execution_count": 112
  },
  {
   "metadata": {
    "ExecuteTime": {
     "end_time": "2024-09-02T13:13:53.927308Z",
     "start_time": "2024-09-02T13:13:53.924865Z"
    }
   },
   "cell_type": "code",
   "source": "result",
   "id": "70dde847649f7ba3",
   "outputs": [
    {
     "data": {
      "text/plain": [
       "False"
      ]
     },
     "execution_count": 113,
     "metadata": {},
     "output_type": "execute_result"
    }
   ],
   "execution_count": 113
  },
  {
   "metadata": {
    "ExecuteTime": {
     "end_time": "2024-09-02T13:13:54.962624Z",
     "start_time": "2024-09-02T13:13:54.958883Z"
    }
   },
   "cell_type": "code",
   "source": "result",
   "id": "41c854a1e4439bb5",
   "outputs": [
    {
     "data": {
      "text/plain": [
       "False"
      ]
     },
     "execution_count": 114,
     "metadata": {},
     "output_type": "execute_result"
    }
   ],
   "execution_count": 114
  },
  {
   "metadata": {
    "ExecuteTime": {
     "end_time": "2024-09-02T13:05:25.021407Z",
     "start_time": "2024-09-02T13:05:25.018764Z"
    }
   },
   "cell_type": "code",
   "source": [
    "s1 = ['id', 'name', 'comment']\n",
    "s2 = [4, 'Имя', \"Какой-то текст\"]"
   ],
   "id": "75de5747770f5997",
   "outputs": [],
   "execution_count": 98
  },
  {
   "metadata": {
    "ExecuteTime": {
     "end_time": "2024-09-02T13:06:00.947752Z",
     "start_time": "2024-09-02T13:06:00.944237Z"
    }
   },
   "cell_type": "code",
   "source": [
    "for i1, i2 in zip(s1, s2):\n",
    "    print(i1, \" \", i2)"
   ],
   "id": "d70eaf724401da98",
   "outputs": [
    {
     "name": "stdout",
     "output_type": "stream",
     "text": [
      "id   4\n",
      "name   Имя\n",
      "comment   Какой-то текст\n"
     ]
    }
   ],
   "execution_count": 99
  },
  {
   "metadata": {},
   "cell_type": "code",
   "outputs": [],
   "execution_count": null,
   "source": "",
   "id": "71f1a6bdb66090f1"
  },
  {
   "metadata": {},
   "cell_type": "code",
   "outputs": [],
   "execution_count": null,
   "source": "",
   "id": "258fe2af49a43deb"
  },
  {
   "metadata": {
    "ExecuteTime": {
     "end_time": "2024-09-02T14:57:44.526742Z",
     "start_time": "2024-09-02T14:57:44.523151Z"
    }
   },
   "cell_type": "code",
   "source": [
    "class Second:\n",
    "    def sec_atr(self, x):\n",
    "        self.x = x + 10"
   ],
   "id": "f21dc4ec7e60dc33",
   "outputs": [],
   "execution_count": 122
  },
  {
   "metadata": {
    "ExecuteTime": {
     "end_time": "2024-09-02T14:57:44.836691Z",
     "start_time": "2024-09-02T14:57:44.832665Z"
    }
   },
   "cell_type": "code",
   "source": [
    "class First:    \n",
    "    def fir_atr(self, x):\n",
    "        self.x = x + 1\n",
    "        exempliar = Second()\n",
    "        y = exempliar.sec_atr(self.x)\n",
    "        return y"
   ],
   "id": "454e21555f30a27",
   "outputs": [],
   "execution_count": 123
  },
  {
   "metadata": {
    "ExecuteTime": {
     "end_time": "2024-09-02T13:44:42.011964Z",
     "start_time": "2024-09-02T13:44:42.009319Z"
    }
   },
   "cell_type": "code",
   "source": "pt1 = First()",
   "id": "8b6d30467dba5195",
   "outputs": [],
   "execution_count": 120
  },
  {
   "metadata": {
    "ExecuteTime": {
     "end_time": "2024-09-02T13:45:03.701585Z",
     "start_time": "2024-09-02T13:45:03.699233Z"
    }
   },
   "cell_type": "code",
   "source": "pt1.fir_atr(1)",
   "id": "fd55272862c33451",
   "outputs": [],
   "execution_count": 121
  },
  {
   "metadata": {
    "ExecuteTime": {
     "end_time": "2024-09-03T08:15:48.945207Z",
     "start_time": "2024-09-03T08:15:48.941864Z"
    }
   },
   "cell_type": "code",
   "source": [
    "class First:\n",
    "    fir = 1"
   ],
   "id": "14ca0bb21f4fc6da",
   "outputs": [],
   "execution_count": 19
  },
  {
   "metadata": {
    "ExecuteTime": {
     "end_time": "2024-09-03T08:15:56.935866Z",
     "start_time": "2024-09-03T08:15:56.932996Z"
    }
   },
   "cell_type": "code",
   "source": "First.fir",
   "id": "44656063193911e0",
   "outputs": [
    {
     "data": {
      "text/plain": [
       "1"
      ]
     },
     "execution_count": 20,
     "metadata": {},
     "output_type": "execute_result"
    }
   ],
   "execution_count": 20
  },
  {
   "metadata": {},
   "cell_type": "markdown",
   "source": "#### 10.",
   "id": "356c41e28b10ac29"
  },
  {
   "metadata": {
    "ExecuteTime": {
     "end_time": "2024-09-03T11:27:21.854895Z",
     "start_time": "2024-09-03T11:27:21.851528Z"
    }
   },
   "cell_type": "code",
   "source": [
    "'''\n",
    " id, name, old, salary (записанные через пробел\n",
    "1 Сергей 35 120000\n",
    "2 Федор 23 12000\n",
    "3 Иван 13 1200\n",
    "'''\n",
    "lst_in = [\n",
    "    '1 Сергей 35 120000',\n",
    "    '2 Федор 23 12000',\n",
    "    '3 Иван 13 1200'\n",
    "]"
   ],
   "id": "4f08c90ef11227aa",
   "outputs": [],
   "execution_count": 22
  },
  {
   "metadata": {
    "ExecuteTime": {
     "end_time": "2024-09-03T12:40:24.251494Z",
     "start_time": "2024-09-03T12:40:24.246809Z"
    }
   },
   "cell_type": "code",
   "source": [
    "class DataBase:\n",
    "    lst_data = []\n",
    "    FIELDS = ('id', 'name', 'old', 'salary')\n",
    "    def insert(self, data):\n",
    "        x = 0\n",
    "        for _ in range(len(data)):\n",
    "            dic = {}\n",
    "            for k, v in zip(DataBase.FIELDS, data[x].split(' ')):\n",
    "                dic[k] = v\n",
    "            x += 1\n",
    "            DataBase.lst_data.append(dic)\n",
    "    \n",
    "    def select(self, a, b):\n",
    "        lst_fin = []\n",
    "        n = a\n",
    "        flag = True\n",
    "        while flag:\n",
    "            lst_fin.append(DataBase.lst_data[n])\n",
    "            n += 1\n",
    "            if n > b or n >= len(DataBase.lst_data):\n",
    "                flag = False\n",
    "        return lst_fin\n"
   ],
   "id": "7fad39597ef5f315",
   "outputs": [],
   "execution_count": 90
  },
  {
   "metadata": {
    "ExecuteTime": {
     "end_time": "2024-09-03T12:40:24.691674Z",
     "start_time": "2024-09-03T12:40:24.688949Z"
    }
   },
   "cell_type": "code",
   "source": "pt1 = DataBase()",
   "id": "6afa16cfaa6f539d",
   "outputs": [],
   "execution_count": 91
  },
  {
   "metadata": {
    "ExecuteTime": {
     "end_time": "2024-09-03T12:40:25.042177Z",
     "start_time": "2024-09-03T12:40:25.039337Z"
    }
   },
   "cell_type": "code",
   "source": "pt1.insert(lst_in)",
   "id": "e6994861e1342b86",
   "outputs": [],
   "execution_count": 92
  },
  {
   "metadata": {
    "ExecuteTime": {
     "end_time": "2024-09-03T12:40:25.592550Z",
     "start_time": "2024-09-03T12:40:25.589176Z"
    }
   },
   "cell_type": "code",
   "source": "print(pt1.select(1, 2))",
   "id": "2c0d03172581b6eb",
   "outputs": [
    {
     "name": "stdout",
     "output_type": "stream",
     "text": [
      "[{'id': '2', 'name': 'Федор', 'old': '23', 'salary': '12000'}, {'id': '3', 'name': 'Иван', 'old': '13', 'salary': '1200'}]\n"
     ]
    }
   ],
   "execution_count": 93
  },
  {
   "metadata": {},
   "cell_type": "code",
   "outputs": [],
   "execution_count": null,
   "source": "",
   "id": "8cd2f04960fa9d13"
  }
 ],
 "metadata": {
  "kernelspec": {
   "display_name": "Python 3",
   "language": "python",
   "name": "python3"
  },
  "language_info": {
   "codemirror_mode": {
    "name": "ipython",
    "version": 2
   },
   "file_extension": ".py",
   "mimetype": "text/x-python",
   "name": "python",
   "nbconvert_exporter": "python",
   "pygments_lexer": "ipython2",
   "version": "2.7.6"
  }
 },
 "nbformat": 4,
 "nbformat_minor": 5
}
