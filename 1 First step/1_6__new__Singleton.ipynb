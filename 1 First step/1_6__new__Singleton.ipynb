{
 "cells": [
  {
   "metadata": {},
   "cell_type": "markdown",
   "source": [
    "### Подвиг 6. Объявите класс AbstractClass, объекты которого нельзя было бы создавать. При выполнении команды:\n",
    "\n",
    "obj = AbstractClass()\n",
    "\n",
    "переменная obj должна ссылаться на строку с содержимым:\n",
    "\n",
    "\"Ошибка: нельзя создавать объекты абстрактного класса\"\n",
    "\n",
    "P.S. В программе объявить только класс, выводить на экран ничего не нужно."
   ],
   "id": "189523e002e6a0f4"
  },
  {
   "metadata": {
    "ExecuteTime": {
     "end_time": "2024-09-22T17:28:06.100010Z",
     "start_time": "2024-09-22T17:28:06.096387Z"
    }
   },
   "cell_type": "code",
   "source": [
    "class AbstractClass:\n",
    "    def __new__(cls, *args, **kwargs):\n",
    "        return super().__new__(cls)\n",
    "    \n",
    "    def __init__(self):\n",
    "        print(\"Ошибка: нельзя создавать объекты абстрактного класса\")"
   ],
   "id": "71658cd426523b6c",
   "outputs": [],
   "execution_count": 17
  },
  {
   "metadata": {
    "ExecuteTime": {
     "end_time": "2024-09-22T17:30:47.007329Z",
     "start_time": "2024-09-22T17:30:47.003234Z"
    }
   },
   "cell_type": "code",
   "source": [
    "class AbstractClass:        \n",
    "    def __new__(cls, *args, **kwargs):\n",
    "        return \"Ошибка: нельзя создавать объекты абстрактного класса\""
   ],
   "id": "acc001d9b8792a97",
   "outputs": [],
   "execution_count": 21
  },
  {
   "metadata": {
    "ExecuteTime": {
     "end_time": "2024-09-22T17:30:47.832354Z",
     "start_time": "2024-09-22T17:30:47.826519Z"
    }
   },
   "cell_type": "code",
   "source": "obj = AbstractClass()",
   "id": "8bed02d4bcf130c2",
   "outputs": [
    {
     "name": "stdout",
     "output_type": "stream",
     "text": [
      "Ошибка: нельзя создавать объекты абстрактного класса\n"
     ]
    }
   ],
   "execution_count": 22
  },
  {
   "metadata": {},
   "cell_type": "markdown",
   "source": [
    "### Подвиг 7. Объявите класс SingletonFive, с помощью которого можно было бы создавать объекты командой:\n",
    "\n",
    "a = SingletonFive(<наименование>)\n",
    "\n",
    "Здесь <наименование> - это данные, которые сохраняются в локальном свойстве name созданного объекта.\n",
    "\n",
    "Этот класс должен формировать только первые пять объектов. Остальные (шестой, седьмой и т.д.) должны быть ссылкой на последний (пятый) созданный объект.\n",
    "\n",
    "Создайте первые десять объектов класса SingletonFive с помощью следующего фрагмента программы:\n",
    "\n",
    "objs = [SingletonFive(str(n)) for n in range(10)]\n",
    "\n",
    "P.S. В программе на экран ничего выводить не нужно. "
   ],
   "id": "8e30562150aedba3"
  },
  {
   "metadata": {
    "ExecuteTime": {
     "end_time": "2024-09-24T18:35:11.740275Z",
     "start_time": "2024-09-24T18:35:11.736460Z"
    }
   },
   "cell_type": "code",
   "source": [
    "class SingletonFive:\n",
    "    count = 1\n",
    "    __instance = None\n",
    "    def __new__(cls, *args, **kwargs):\n",
    "        if cls.count < 6:\n",
    "            cls.count += 1\n",
    "            cls.__instance = super().__new__(cls)\n",
    "        return cls.__instance\n",
    "    \n",
    "    def __init__(self, name):\n",
    "        self.name = name"
   ],
   "id": "5423d7f2c4ac6868",
   "outputs": [],
   "execution_count": 5
  },
  {
   "metadata": {
    "ExecuteTime": {
     "end_time": "2024-09-24T18:13:34.283361Z",
     "start_time": "2024-09-24T18:13:34.081362Z"
    }
   },
   "cell_type": "code",
   "source": "objs = [SingletonFive(str(n)) for n in range(10)]",
   "id": "b2cd06acc0274668",
   "outputs": [
    {
     "ename": "NameError",
     "evalue": "name 'esfws' is not defined",
     "output_type": "error",
     "traceback": [
      "\u001B[0;31m---------------------------------------------------------------------------\u001B[0m",
      "\u001B[0;31mNameError\u001B[0m                                 Traceback (most recent call last)",
      "Cell \u001B[0;32mIn[4], line 1\u001B[0m\n\u001B[0;32m----> 1\u001B[0m \u001B[43mesfws\u001B[49m\n",
      "\u001B[0;31mNameError\u001B[0m: name 'esfws' is not defined"
     ]
    }
   ],
   "execution_count": 4
  },
  {
   "metadata": {},
   "cell_type": "markdown",
   "source": [
    "### Подвиг 8. В программе объявлена переменная TYPE_OS и два следующих класса:\n",
    "\n",
    "        TYPE_OS = 1 # 1 - Windows; 2 - Linux\n",
    "\n",
    "        class DialogWindows:\n",
    "            name_class = \"DialogWindows\"        \n",
    "        \n",
    "        class DialogLinux:\n",
    "            name_class = \"DialogLinux\"\n",
    "        \n",
    "Необходимо объявить третий класс с именем Dialog, который бы создавал объекты командой:\n",
    "        \n",
    "        dlg = Dialog(<название>)\n",
    "\n",
    "Здесь <название> - это строка, которая сохраняется в локальном свойстве name объекта dlg.\n",
    "\n",
    "Класс Dialog должен создавать объекты класса DialogWindows, если переменная TYPE_OS = 1 и объекты класса DialogLinux, если переменная TYPE_OS не равна 1. При этом, переменная TYPE_OS может меняться в последующих строчках программы. Имейте это в виду, при объявлении класса Dialog.\n",
    "\n",
    "P.S. В программе на экран ничего выводить не нужно. Только объявить класс Dialog."
   ],
   "id": "abd1967b6a07756d"
  },
  {
   "metadata": {
    "ExecuteTime": {
     "end_time": "2024-09-25T15:56:49.833946Z",
     "start_time": "2024-09-25T15:56:49.829236Z"
    }
   },
   "cell_type": "code",
   "source": [
    "TYPE_OS = 1 # 1 - Windows; 2 - Linux\n",
    "\n",
    "class DialogWindows:\n",
    "    name_class = \"DialogWindows\"\n",
    "\n",
    "class DialogLinux:\n",
    "    name_class = \"DialogLinux\""
   ],
   "id": "aba2b1741a15bb2a",
   "outputs": [],
   "execution_count": 54
  },
  {
   "metadata": {
    "ExecuteTime": {
     "end_time": "2024-09-25T15:59:25.794850Z",
     "start_time": "2024-09-25T15:59:25.791217Z"
    }
   },
   "cell_type": "code",
   "source": [
    "class Dialog:\n",
    "    def __new__(cls, *args, **kwargs):\n",
    "        if TYPE_OS == 1:\n",
    "            pr = super().__new__(DialogWindows)\n",
    "            pr.name = args[0]\n",
    "            return pr \n",
    "        else:\n",
    "            pr = super().__new__(DialogLinux)\n",
    "            pr.name = args[0]\n",
    "            return pr"
   ],
   "id": "8a0a792caceb61aa",
   "outputs": [],
   "execution_count": 57
  },
  {
   "metadata": {
    "ExecuteTime": {
     "end_time": "2024-09-25T15:56:50.723041Z",
     "start_time": "2024-09-25T15:56:50.551Z"
    }
   },
   "cell_type": "code",
   "source": "dlg = Dialog('name')",
   "id": "a5f91b19d97d64c0",
   "outputs": [
    {
     "ename": "TypeError",
     "evalue": "DialogWindows() takes no arguments",
     "output_type": "error",
     "traceback": [
      "\u001B[0;31m---------------------------------------------------------------------------\u001B[0m",
      "\u001B[0;31mTypeError\u001B[0m                                 Traceback (most recent call last)",
      "Cell \u001B[0;32mIn[56], line 1\u001B[0m\n\u001B[0;32m----> 1\u001B[0m dlg \u001B[38;5;241m=\u001B[39m \u001B[43mDialog\u001B[49m\u001B[43m(\u001B[49m\u001B[38;5;124;43m'\u001B[39;49m\u001B[38;5;124;43mname\u001B[39;49m\u001B[38;5;124;43m'\u001B[39;49m\u001B[43m)\u001B[49m\n",
      "Cell \u001B[0;32mIn[55], line 4\u001B[0m, in \u001B[0;36mDialog.__new__\u001B[0;34m(cls, *args, **kwargs)\u001B[0m\n\u001B[1;32m      2\u001B[0m \u001B[38;5;28;01mdef\u001B[39;00m \u001B[38;5;21m__new__\u001B[39m(\u001B[38;5;28mcls\u001B[39m, \u001B[38;5;241m*\u001B[39margs, \u001B[38;5;241m*\u001B[39m\u001B[38;5;241m*\u001B[39mkwargs):\n\u001B[1;32m      3\u001B[0m     \u001B[38;5;28;01mif\u001B[39;00m TYPE_OS \u001B[38;5;241m==\u001B[39m \u001B[38;5;241m1\u001B[39m:\n\u001B[0;32m----> 4\u001B[0m         \u001B[38;5;28;01mreturn\u001B[39;00m \u001B[38;5;28;43msuper\u001B[39;49m\u001B[43m(\u001B[49m\u001B[43m)\u001B[49m\u001B[38;5;241;43m.\u001B[39;49m\u001B[38;5;21;43m__new__\u001B[39;49m\u001B[43m(\u001B[49m\u001B[43mDialogWindows\u001B[49m\u001B[43m,\u001B[49m\u001B[43m \u001B[49m\u001B[43margs\u001B[49m\u001B[43m[\u001B[49m\u001B[38;5;241;43m0\u001B[39;49m\u001B[43m]\u001B[49m\u001B[43m)\u001B[49m\n\u001B[1;32m      5\u001B[0m     \u001B[38;5;28;01melse\u001B[39;00m:\n\u001B[1;32m      6\u001B[0m         \u001B[38;5;28;01mreturn\u001B[39;00m \u001B[38;5;28msuper\u001B[39m()\u001B[38;5;241m.\u001B[39m\u001B[38;5;21m__new__\u001B[39m(DialogLinux, args[\u001B[38;5;241m0\u001B[39m])\n",
      "\u001B[0;31mTypeError\u001B[0m: DialogWindows() takes no arguments"
     ]
    }
   ],
   "execution_count": 56
  },
  {
   "metadata": {},
   "cell_type": "code",
   "outputs": [],
   "execution_count": null,
   "source": "",
   "id": "eec599cef1ab3e43"
  }
 ],
 "metadata": {
  "kernelspec": {
   "display_name": "Python 3",
   "language": "python",
   "name": "python3"
  },
  "language_info": {
   "codemirror_mode": {
    "name": "ipython",
    "version": 2
   },
   "file_extension": ".py",
   "mimetype": "text/x-python",
   "name": "python",
   "nbconvert_exporter": "python",
   "pygments_lexer": "ipython2",
   "version": "2.7.6"
  }
 },
 "nbformat": 4,
 "nbformat_minor": 5
}
