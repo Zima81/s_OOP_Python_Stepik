{
 "cells": [
  {
   "cell_type": "code",
   "id": "initial_id",
   "metadata": {
    "collapsed": true,
    "ExecuteTime": {
     "end_time": "2024-09-30T13:20:11.688765Z",
     "start_time": "2024-09-30T13:20:11.685943Z"
    }
   },
   "source": [
    "class Vector:\n",
    "    MIN = 0\n",
    "    MAX = 5\n",
    "    @classmethod\n",
    "    def validate(cls, arg):\n",
    "        if cls.MIN <= arg <= cls.MAX:\n",
    "            return \"Good\"\n",
    "        else:\n",
    "            return \"No Good\"\n",
    "    \n",
    "    def __init__(self, x, y):\n",
    "        self.x = 0\n",
    "        self.y = 0\n",
    "        if self.validate(x) == 'Good' and self.validate(y) == 'Good':\n",
    "            self.x = x\n",
    "            self.y = y\n",
    "        print(self.norm2(self.x, self.y))\n",
    "        \n",
    "    @staticmethod\n",
    "    def norm2(x, y):\n",
    "        return x + y"
   ],
   "outputs": [],
   "execution_count": 13
  },
  {
   "metadata": {
    "ExecuteTime": {
     "end_time": "2024-09-30T13:20:17.425286Z",
     "start_time": "2024-09-30T13:20:17.420764Z"
    }
   },
   "cell_type": "code",
   "source": "pt = Vector(2, 3)",
   "id": "326d54ac316715f5",
   "outputs": [
    {
     "name": "stdout",
     "output_type": "stream",
     "text": [
      "5\n"
     ]
    }
   ],
   "execution_count": 15
  },
  {
   "metadata": {},
   "cell_type": "markdown",
   "source": "### Подвиг 6. В программе предполагается реализовать парсер (обработчик) строки с данными string в определенный выходной формат",
   "id": "6cfae120102f5c33"
  },
  {
   "metadata": {
    "ExecuteTime": {
     "end_time": "2024-09-30T14:12:16.678805Z",
     "start_time": "2024-09-30T14:12:16.674530Z"
    }
   },
   "cell_type": "code",
   "source": [
    "class Factory:\n",
    "    @staticmethod\n",
    "    def build_sequence():\n",
    "        return list()\n",
    "    \n",
    "    @staticmethod\n",
    "    def build_number(string):\n",
    "        return int(string)"
   ],
   "id": "ca841441b953799a",
   "outputs": [],
   "execution_count": 18
  },
  {
   "metadata": {
    "ExecuteTime": {
     "end_time": "2024-09-30T14:12:17.847476Z",
     "start_time": "2024-09-30T14:12:17.844057Z"
    }
   },
   "cell_type": "code",
   "source": [
    "class Loader:\n",
    "    @staticmethod\n",
    "    def parse_format(string, factory):\n",
    "        seq = factory.build_sequence()\n",
    "        for sub in string.split(\",\"):\n",
    "            item = factory.build_number(sub)\n",
    "            seq.append(item)\n",
    "\n",
    "        return seq"
   ],
   "id": "977808c11a353c30",
   "outputs": [],
   "execution_count": 19
  },
  {
   "metadata": {
    "ExecuteTime": {
     "end_time": "2024-09-30T14:12:18.166751Z",
     "start_time": "2024-09-30T14:12:18.163984Z"
    }
   },
   "cell_type": "code",
   "source": "res = Loader.parse_format(\"4, 5, -6\", Factory)  # [4, 5, -6]",
   "id": "2e6d0c7e0782960f",
   "outputs": [],
   "execution_count": 20
  },
  {
   "metadata": {
    "ExecuteTime": {
     "end_time": "2024-09-30T14:12:20.427592Z",
     "start_time": "2024-09-30T14:12:20.423592Z"
    }
   },
   "cell_type": "code",
   "source": "res",
   "id": "9663a8e2b961a293",
   "outputs": [
    {
     "data": {
      "text/plain": [
       "[4, 5, -6]"
      ]
     },
     "execution_count": 21,
     "metadata": {},
     "output_type": "execute_result"
    }
   ],
   "execution_count": 21
  },
  {
   "metadata": {},
   "cell_type": "code",
   "outputs": [],
   "execution_count": null,
   "source": "",
   "id": "9007a41f2a51f546"
  }
 ],
 "metadata": {
  "kernelspec": {
   "display_name": "Python 3",
   "language": "python",
   "name": "python3"
  },
  "language_info": {
   "codemirror_mode": {
    "name": "ipython",
    "version": 2
   },
   "file_extension": ".py",
   "mimetype": "text/x-python",
   "name": "python",
   "nbconvert_exporter": "python",
   "pygments_lexer": "ipython2",
   "version": "2.7.6"
  }
 },
 "nbformat": 4,
 "nbformat_minor": 5
}
