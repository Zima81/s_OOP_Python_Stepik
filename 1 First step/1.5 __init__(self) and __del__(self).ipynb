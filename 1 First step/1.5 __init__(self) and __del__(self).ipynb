{
 "cells": [
  {
   "metadata": {},
   "cell_type": "markdown",
   "source": [
    "### Подвиг 2\n",
    "Объявите класс Money так, чтобы объекты этого класса можно было создавать следующим образом:\n",
    "\n",
    "my_money = Money(100)\n",
    "your_money = Money(1000)\n",
    "\n",
    "Здесь при создании объектов указывается количество денег, которое должно сохраняться в локальном свойстве (атрибуте) money каждого экземпляра класса."
   ],
   "id": "624f4de81897035e"
  },
  {
   "metadata": {},
   "cell_type": "code",
   "outputs": [],
   "execution_count": 3,
   "source": [
    "class Money:\n",
    "    def __init__(self, money):\n",
    "        self.money = money"
   ],
   "id": "f896fd2eb349cb35"
  },
  {
   "metadata": {
    "ExecuteTime": {
     "end_time": "2024-09-07T16:12:06.696005Z",
     "start_time": "2024-09-07T16:12:06.689395Z"
    }
   },
   "cell_type": "code",
   "source": [
    "my_money = Money(100)\n",
    "your_money = Money(1000)"
   ],
   "id": "f44c401be08c0595",
   "outputs": [],
   "execution_count": 4
  },
  {
   "metadata": {
    "ExecuteTime": {
     "end_time": "2024-09-07T16:12:13.552044Z",
     "start_time": "2024-09-07T16:12:13.542217Z"
    }
   },
   "cell_type": "code",
   "source": "my_money.__dict__",
   "id": "4f7020aa5d584f54",
   "outputs": [
    {
     "data": {
      "text/plain": [
       "{'money': 100}"
      ]
     },
     "execution_count": 5,
     "metadata": {},
     "output_type": "execute_result"
    }
   ],
   "execution_count": 5
  },
  {
   "metadata": {
    "ExecuteTime": {
     "end_time": "2024-09-07T16:12:28.434787Z",
     "start_time": "2024-09-07T16:12:28.426168Z"
    }
   },
   "cell_type": "code",
   "source": "your_money.__dict__",
   "id": "7a2272cb8a72de57",
   "outputs": [
    {
     "data": {
      "text/plain": [
       "{'money': 1000}"
      ]
     },
     "execution_count": 6,
     "metadata": {},
     "output_type": "execute_result"
    }
   ],
   "execution_count": 6
  },
  {
   "metadata": {},
   "cell_type": "markdown",
   "source": [
    "### Подвиг 3\n",
    "Объявите класс Point так, чтобы объекты этого класса можно было создавать командами:\n",
    "\n",
    "p1 = Point(10, 20)\n",
    "p2 = Point(12, 5, 'red')\n",
    "\n",
    "Здесь первые два значения - это координаты точки на плоскости (локальные свойства x, y), а третий необязательный аргумент - цвет точки (локальное свойство color). Если цвет не указывается, то он по умолчанию принимает значение black.\n",
    "\n",
    "Создайте тысячу таких объектов с координатами (1, 1), (3, 3), (5, 5), ... то есть, с увеличением на два для каждой новой точки. Каждый объект следует поместить в список points (по порядку). Для второго объекта в списке points укажите цвет 'yellow'.\n",
    "\n",
    "P.S. На экран в программе ничего выводить не нужно."
   ],
   "id": "4d08fcf6e92d7d34"
  },
  {
   "metadata": {
    "ExecuteTime": {
     "end_time": "2024-09-08T17:01:01.838734Z",
     "start_time": "2024-09-08T17:01:01.833364Z"
    }
   },
   "cell_type": "code",
   "source": [
    "class Point:\n",
    "    def __init__(self, x, y, color='black'):\n",
    "        self.x = x\n",
    "        self.y = y\n",
    "        self.color = color"
   ],
   "id": "2d9dfcf845f47c8a",
   "outputs": [],
   "execution_count": 11
  },
  {
   "metadata": {
    "ExecuteTime": {
     "end_time": "2024-09-08T17:18:17.509807Z",
     "start_time": "2024-09-08T17:18:17.502238Z"
    }
   },
   "cell_type": "code",
   "source": [
    "cor = 1\n",
    "points = []\n",
    "fin = range(10)\n",
    "for _ in fin:    \n",
    "    print(f'шаг {_} из {fin[-1]} \\r', end='')\n",
    "    if _ == 1:\n",
    "        tp = Point(cor, cor, 'yellow')\n",
    "        points.append(tp)\n",
    "    else:\n",
    "        tp = Point(cor, cor)\n",
    "        points.append(tp)\n",
    "    cor += 2"
   ],
   "id": "79d96b443f1314b7",
   "outputs": [
    {
     "name": "stdout",
     "output_type": "stream",
     "text": [
      "шаг 9 из 9 \r"
     ]
    }
   ],
   "execution_count": 35
  },
  {
   "metadata": {
    "ExecuteTime": {
     "end_time": "2024-09-08T17:18:36.154071Z",
     "start_time": "2024-09-08T17:18:36.148964Z"
    }
   },
   "cell_type": "code",
   "source": "points[0].__dict__",
   "id": "51890f568c5bce9e",
   "outputs": [
    {
     "data": {
      "text/plain": [
       "{'x': 1, 'y': 1, 'color': 'black'}"
      ]
     },
     "execution_count": 37,
     "metadata": {},
     "output_type": "execute_result"
    }
   ],
   "execution_count": 37
  },
  {
   "metadata": {},
   "cell_type": "markdown",
   "source": [
    "### Подвиг 4\n",
    "Объявите три класса геометрических фигур: Line, Rect, Ellipse. Должна быть возможность создавать объекты каждого класса следующими командами:\n",
    "\n",
    "g1 = Line(a, b, c, d)\n",
    "g2 = Rect(a, b, c, d)\n",
    "g3 = Ellipse(a, b, c, d)\n",
    "\n",
    "Здесь в качестве аргументов a, b, c, d передаются координаты верхнего правого и нижнего левого углов (произвольные числа). В каждом объекте координаты должны сохраняться в локальных свойствах sp (верхний правый угол) и ep (нижний левый) в виде кортежей (a, b) и (c, d) соответственно.\n",
    "\n",
    "Сформируйте 217 объектов этих классов: для каждого текущего объекта класс выбирается случайно (или Line, или Rect, или Ellipse). Координаты также генерируются случайным образом (числовые значения). Все объекты сохраните в списке elements.\n",
    "\n",
    "В списке elements обнулите координаты объектов только для класса Line.\n",
    "\n",
    "P.S. На экран в программе ничего выводить не нужно."
   ],
   "id": "cfbaa2235b180730"
  },
  {
   "metadata": {
    "ExecuteTime": {
     "end_time": "2024-09-10T18:26:47.858195Z",
     "start_time": "2024-09-10T18:26:47.852262Z"
    }
   },
   "cell_type": "code",
   "source": [
    "class Line:\n",
    "    def __init__(self, a, b, c, d):\n",
    "        self.sp = (a, b)\n",
    "        self.ep = (c, d)\n",
    "    \n",
    "    \n",
    "class Rect:\n",
    "    def __init__(self, a, b, c, d):\n",
    "        self.sp = (a, b)\n",
    "        self.ep = (c, d)\n",
    "    \n",
    "    \n",
    "class Ellipse:\n",
    "    def __init__(self, a, b, c, d):\n",
    "        self.sp = (a, b)\n",
    "        self.ep = (c, d)   "
   ],
   "id": "e60997422534cd08",
   "outputs": [],
   "execution_count": 2
  },
  {
   "metadata": {
    "ExecuteTime": {
     "end_time": "2024-09-10T18:26:49.216534Z",
     "start_time": "2024-09-10T18:26:49.212505Z"
    }
   },
   "cell_type": "code",
   "source": "import random",
   "id": "2a729eb652cbb371",
   "outputs": [],
   "execution_count": 3
  },
  {
   "metadata": {
    "ExecuteTime": {
     "end_time": "2024-09-10T18:58:29.265830Z",
     "start_time": "2024-09-10T18:58:29.261Z"
    }
   },
   "cell_type": "code",
   "source": "elements = []",
   "id": "a0d4ca19b64b3a6a",
   "outputs": [],
   "execution_count": 104
  },
  {
   "metadata": {
    "ExecuteTime": {
     "end_time": "2024-09-10T18:58:29.575075Z",
     "start_time": "2024-09-10T18:58:29.569843Z"
    }
   },
   "cell_type": "code",
   "source": "classes = [Line, Rect, Ellipse]",
   "id": "6d4749434867171b",
   "outputs": [],
   "execution_count": 105
  },
  {
   "metadata": {
    "ExecuteTime": {
     "end_time": "2024-09-10T18:58:29.943355Z",
     "start_time": "2024-09-10T18:58:29.939385Z"
    }
   },
   "cell_type": "code",
   "source": [
    "for _ in range(217):\n",
    "    tp = random.choice(classes)(*tuple(random.randint(1, 100) for _ in range(4)))\n",
    "    elements.append(tp)"
   ],
   "id": "7513b96199d5c467",
   "outputs": [],
   "execution_count": 106
  },
  {
   "metadata": {
    "ExecuteTime": {
     "end_time": "2024-09-10T18:58:31.165446Z",
     "start_time": "2024-09-10T18:58:31.159892Z"
    }
   },
   "cell_type": "code",
   "source": [
    "for i in elements:\n",
    "    if type(i) == Line:\n",
    "        setattr(i, \"sp\", (0, 0))\n",
    "        setattr(i, \"ep\", (0, 0))"
   ],
   "id": "1204bf223084bc40",
   "outputs": [],
   "execution_count": 107
  },
  {
   "metadata": {
    "ExecuteTime": {
     "end_time": "2024-09-10T18:58:53.920609Z",
     "start_time": "2024-09-10T18:58:53.912157Z"
    }
   },
   "cell_type": "code",
   "source": "elements[1].__dict__",
   "id": "1634da03e921893",
   "outputs": [
    {
     "data": {
      "text/plain": [
       "{'sp': (0, 0), 'ep': (0, 0)}"
      ]
     },
     "execution_count": 109,
     "metadata": {},
     "output_type": "execute_result"
    }
   ],
   "execution_count": 109
  },
  {
   "metadata": {},
   "cell_type": "markdown",
   "source": [
    "### Подвиг 5. \n",
    "Объявите класс TriangleChecker, объекты которого можно было бы создавать командой:\n",
    "\n",
    "tr = TriangleChecker(a, b, c)\n",
    "\n",
    "Здесь a, b, c - длины сторон треугольника.\n",
    "\n",
    "В классе TriangleChecker необходимо объявить метод is_triangle(), который бы возвращал следующие коды:\n",
    "\n",
    "1 - если хотя бы одна сторона не число (не float или int) или хотя бы одно число меньше или равно нулю;\n",
    "2 - указанные числа a, b, c не могут являться длинами сторон треугольника;\n",
    "3 - стороны a, b, c образуют треугольник.\n",
    "\n",
    "Проверку параметров a, b, c проводить именно в таком порядке.\n",
    "\n",
    "Прочитайте из входного потока строку, содержащую три числа, разделенных пробелами, командой:\n",
    "\n",
    "a, b, c = map(int, input().split())\n",
    "\n",
    "Затем, создайте объект tr класса TriangleChecker и передайте ему прочитанные значения a, b, c. Вызовите метод is_triangle() из объекта tr и выведите результат на экран (код, который она вернет).\n",
    "\n",
    "Sample Input:\n",
    "3 4 5\n",
    "\n",
    "Sample Output:\n",
    "3"
   ],
   "id": "16b2c82fcdb53bfa"
  },
  {
   "metadata": {
    "ExecuteTime": {
     "end_time": "2024-09-11T11:40:51.887399Z",
     "start_time": "2024-09-11T11:40:51.882924Z"
    }
   },
   "cell_type": "code",
   "source": [
    "class TriangleChecker:\n",
    "    def __init__(self, a, b, c):\n",
    "        self.a = a\n",
    "        self.b = b\n",
    "        self.c = c\n",
    "    \n",
    "    def is_triangle(self):\n",
    "        items = [i for i in self.__dict__.values()]  # список значений\n",
    "        if not all(type(item) == int or type(item) == float for item in items) or any(item <= 0 for item in items):\n",
    "            # если хотя бы одна сторона не число (не float или int)\n",
    "            return 1        \n",
    "        elif items[0] + items[1] <= items[2] or items[1] + items[2] <= items[0] or items[2] + items[0] <= items[1]:\n",
    "            return 2\n",
    "        elif items[0] + items[1] > items[2] and items[1] + items[2] > items[0] and items[2] + items[0] > items[1]:\n",
    "            return 3"
   ],
   "id": "1ed6f2df6fa99f93",
   "outputs": [],
   "execution_count": 202
  },
  {
   "metadata": {
    "ExecuteTime": {
     "end_time": "2024-09-11T11:40:52.199017Z",
     "start_time": "2024-09-11T11:40:52.194489Z"
    }
   },
   "cell_type": "code",
   "source": [
    "#a, b, c = map(int, input().split())\n",
    "a, b, c = 1, 2, 3\n",
    "tr = TriangleChecker(a, b, c)\n",
    "print(tr.is_triangle())"
   ],
   "id": "d7cf32760fe1cd16",
   "outputs": [
    {
     "name": "stdout",
     "output_type": "stream",
     "text": [
      "2\n"
     ]
    }
   ],
   "execution_count": 203
  },
  {
   "metadata": {
    "ExecuteTime": {
     "end_time": "2024-09-11T11:39:35.793188Z",
     "start_time": "2024-09-11T11:39:35.789834Z"
    }
   },
   "cell_type": "code",
   "source": [
    "items = [i for i in tr.__dict__.values()]\n",
    "items"
   ],
   "id": "97f0305045aea8a2",
   "outputs": [
    {
     "data": {
      "text/plain": [
       "[1, 2, 3]"
      ]
     },
     "execution_count": 199,
     "metadata": {},
     "output_type": "execute_result"
    }
   ],
   "execution_count": 199
  },
  {
   "metadata": {
    "ExecuteTime": {
     "end_time": "2024-09-11T11:39:55.455423Z",
     "start_time": "2024-09-11T11:39:55.452525Z"
    }
   },
   "cell_type": "code",
   "source": [
    "if items[0] + items[1] < items[2] or items[1] + items[2] < items[0] or items[2] + items[0] < items[1]:\n",
    "    print(2)"
   ],
   "id": "d4f80c87dec9d399",
   "outputs": [],
   "execution_count": 200
  },
  {
   "metadata": {
    "ExecuteTime": {
     "end_time": "2024-09-11T11:40:06.185932Z",
     "start_time": "2024-09-11T11:40:06.182276Z"
    }
   },
   "cell_type": "code",
   "source": "items[0] + items[1] < items[2]",
   "id": "9976ff617274e69c",
   "outputs": [
    {
     "data": {
      "text/plain": [
       "False"
      ]
     },
     "execution_count": 201,
     "metadata": {},
     "output_type": "execute_result"
    }
   ],
   "execution_count": 201
  },
  {
   "metadata": {},
   "cell_type": "code",
   "outputs": [],
   "execution_count": null,
   "source": "items[0] ",
   "id": "82dd47ec3eb8b429"
  }
 ],
 "metadata": {
  "kernelspec": {
   "display_name": "Python 3",
   "language": "python",
   "name": "python3"
  },
  "language_info": {
   "codemirror_mode": {
    "name": "ipython",
    "version": 2
   },
   "file_extension": ".py",
   "mimetype": "text/x-python",
   "name": "python",
   "nbconvert_exporter": "python",
   "pygments_lexer": "ipython2",
   "version": "2.7.6"
  }
 },
 "nbformat": 4,
 "nbformat_minor": 5
}
