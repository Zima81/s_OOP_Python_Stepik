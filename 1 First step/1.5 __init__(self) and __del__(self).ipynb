{
 "cells": [
  {
   "metadata": {},
   "cell_type": "markdown",
   "source": [
    "### Подвиг 2\n",
    "Объявите класс Money так, чтобы объекты этого класса можно было создавать следующим образом:\n",
    "\n",
    "my_money = Money(100)\n",
    "your_money = Money(1000)\n",
    "\n",
    "Здесь при создании объектов указывается количество денег, которое должно сохраняться в локальном свойстве (атрибуте) money каждого экземпляра класса."
   ],
   "id": "624f4de81897035e"
  },
  {
   "metadata": {},
   "cell_type": "code",
   "execution_count": 3,
   "source": [
    "class Money:\n",
    "    def __init__(self, money):\n",
    "        self.money = money"
   ],
   "id": "f896fd2eb349cb35",
   "outputs": []
  },
  {
   "metadata": {
    "ExecuteTime": {
     "end_time": "2024-09-07T16:12:06.696005Z",
     "start_time": "2024-09-07T16:12:06.689395Z"
    }
   },
   "cell_type": "code",
   "source": [
    "my_money = Money(100)\n",
    "your_money = Money(1000)"
   ],
   "id": "f44c401be08c0595",
   "execution_count": 4,
   "outputs": []
  },
  {
   "metadata": {
    "ExecuteTime": {
     "end_time": "2024-09-07T16:12:13.552044Z",
     "start_time": "2024-09-07T16:12:13.542217Z"
    }
   },
   "cell_type": "code",
   "source": "my_money.__dict__",
   "id": "4f7020aa5d584f54",
   "execution_count": 5,
   "outputs": []
  },
  {
   "metadata": {
    "ExecuteTime": {
     "end_time": "2024-09-07T16:12:28.434787Z",
     "start_time": "2024-09-07T16:12:28.426168Z"
    }
   },
   "cell_type": "code",
   "source": "your_money.__dict__",
   "id": "7a2272cb8a72de57",
   "execution_count": 6,
   "outputs": []
  },
  {
   "metadata": {},
   "cell_type": "markdown",
   "source": [
    "### Подвиг 3\n",
    "Объявите класс Point так, чтобы объекты этого класса можно было создавать командами:\n",
    "\n",
    "p1 = Point(10, 20)\n",
    "p2 = Point(12, 5, 'red')\n",
    "\n",
    "Здесь первые два значения - это координаты точки на плоскости (локальные свойства x, y), а третий необязательный аргумент - цвет точки (локальное свойство color). Если цвет не указывается, то он по умолчанию принимает значение black.\n",
    "\n",
    "Создайте тысячу таких объектов с координатами (1, 1), (3, 3), (5, 5), ... то есть, с увеличением на два для каждой новой точки. Каждый объект следует поместить в список points (по порядку). Для второго объекта в списке points укажите цвет 'yellow'.\n",
    "\n",
    "P.S. На экран в программе ничего выводить не нужно."
   ],
   "id": "4d08fcf6e92d7d34"
  },
  {
   "metadata": {
    "ExecuteTime": {
     "end_time": "2024-09-08T17:01:01.838734Z",
     "start_time": "2024-09-08T17:01:01.833364Z"
    }
   },
   "cell_type": "code",
   "source": [
    "class Point:\n",
    "    def __init__(self, x, y, color='black'):\n",
    "        self.x = x\n",
    "        self.y = y\n",
    "        self.color = color"
   ],
   "id": "2d9dfcf845f47c8a",
   "execution_count": 11,
   "outputs": []
  },
  {
   "metadata": {
    "ExecuteTime": {
     "end_time": "2024-09-08T17:18:17.509807Z",
     "start_time": "2024-09-08T17:18:17.502238Z"
    }
   },
   "cell_type": "code",
   "source": [
    "cor = 1\n",
    "points = []\n",
    "fin = range(10)\n",
    "for _ in fin:    \n",
    "    print(f'шаг {_} из {fin[-1]} \\r', end='')\n",
    "    if _ == 1:\n",
    "        tp = Point(cor, cor, 'yellow')\n",
    "        points.append(tp)\n",
    "    else:\n",
    "        tp = Point(cor, cor)\n",
    "        points.append(tp)\n",
    "    cor += 2"
   ],
   "id": "79d96b443f1314b7",
   "execution_count": 35,
   "outputs": []
  },
  {
   "metadata": {
    "ExecuteTime": {
     "end_time": "2024-09-08T17:18:36.154071Z",
     "start_time": "2024-09-08T17:18:36.148964Z"
    }
   },
   "cell_type": "code",
   "source": "points[0].__dict__",
   "id": "51890f568c5bce9e",
   "execution_count": 37,
   "outputs": []
  },
  {
   "metadata": {},
   "cell_type": "markdown",
   "source": [
    "### Подвиг 4\n",
    "Объявите три класса геометрических фигур: Line, Rect, Ellipse. Должна быть возможность создавать объекты каждого класса следующими командами:\n",
    "\n",
    "g1 = Line(a, b, c, d)\n",
    "g2 = Rect(a, b, c, d)\n",
    "g3 = Ellipse(a, b, c, d)\n",
    "\n",
    "Здесь в качестве аргументов a, b, c, d передаются координаты верхнего правого и нижнего левого углов (произвольные числа). В каждом объекте координаты должны сохраняться в локальных свойствах sp (верхний правый угол) и ep (нижний левый) в виде кортежей (a, b) и (c, d) соответственно.\n",
    "\n",
    "Сформируйте 217 объектов этих классов: для каждого текущего объекта класс выбирается случайно (или Line, или Rect, или Ellipse). Координаты также генерируются случайным образом (числовые значения). Все объекты сохраните в списке elements.\n",
    "\n",
    "В списке elements обнулите координаты объектов только для класса Line.\n",
    "\n",
    "P.S. На экран в программе ничего выводить не нужно."
   ],
   "id": "cfbaa2235b180730"
  },
  {
   "metadata": {
    "ExecuteTime": {
     "end_time": "2024-09-10T18:26:47.858195Z",
     "start_time": "2024-09-10T18:26:47.852262Z"
    }
   },
   "cell_type": "code",
   "source": [
    "class Line:\n",
    "    def __init__(self, a, b, c, d):\n",
    "        self.sp = (a, b)\n",
    "        self.ep = (c, d)\n",
    "    \n",
    "    \n",
    "class Rect:\n",
    "    def __init__(self, a, b, c, d):\n",
    "        self.sp = (a, b)\n",
    "        self.ep = (c, d)\n",
    "    \n",
    "    \n",
    "class Ellipse:\n",
    "    def __init__(self, a, b, c, d):\n",
    "        self.sp = (a, b)\n",
    "        self.ep = (c, d)   "
   ],
   "id": "e60997422534cd08",
   "execution_count": 2,
   "outputs": []
  },
  {
   "metadata": {
    "ExecuteTime": {
     "end_time": "2024-09-10T18:26:49.216534Z",
     "start_time": "2024-09-10T18:26:49.212505Z"
    }
   },
   "cell_type": "code",
   "source": "import random",
   "id": "2a729eb652cbb371",
   "execution_count": 3,
   "outputs": []
  },
  {
   "metadata": {
    "ExecuteTime": {
     "end_time": "2024-09-10T18:58:29.265830Z",
     "start_time": "2024-09-10T18:58:29.261Z"
    }
   },
   "cell_type": "code",
   "source": "elements = []",
   "id": "a0d4ca19b64b3a6a",
   "execution_count": 104,
   "outputs": []
  },
  {
   "metadata": {
    "ExecuteTime": {
     "end_time": "2024-09-10T18:58:29.575075Z",
     "start_time": "2024-09-10T18:58:29.569843Z"
    }
   },
   "cell_type": "code",
   "source": "classes = [Line, Rect, Ellipse]",
   "id": "6d4749434867171b",
   "execution_count": 105,
   "outputs": []
  },
  {
   "metadata": {
    "ExecuteTime": {
     "end_time": "2024-09-10T18:58:29.943355Z",
     "start_time": "2024-09-10T18:58:29.939385Z"
    }
   },
   "cell_type": "code",
   "source": [
    "for _ in range(217):\n",
    "    tp = random.choice(classes)(*tuple(random.randint(1, 100) for _ in range(4)))\n",
    "    elements.append(tp)"
   ],
   "id": "7513b96199d5c467",
   "execution_count": 106,
   "outputs": []
  },
  {
   "metadata": {
    "ExecuteTime": {
     "end_time": "2024-09-10T18:58:31.165446Z",
     "start_time": "2024-09-10T18:58:31.159892Z"
    }
   },
   "cell_type": "code",
   "source": [
    "for i in elements:\n",
    "    if type(i) == Line:\n",
    "        setattr(i, \"sp\", (0, 0))\n",
    "        setattr(i, \"ep\", (0, 0))"
   ],
   "id": "1204bf223084bc40",
   "execution_count": 107,
   "outputs": []
  },
  {
   "metadata": {
    "ExecuteTime": {
     "end_time": "2024-09-10T18:58:53.920609Z",
     "start_time": "2024-09-10T18:58:53.912157Z"
    }
   },
   "cell_type": "code",
   "source": "elements[1].__dict__",
   "id": "1634da03e921893",
   "execution_count": 109,
   "outputs": []
  },
  {
   "metadata": {},
   "cell_type": "markdown",
   "source": [
    "### Подвиг 5. \n",
    "Объявите класс TriangleChecker, объекты которого можно было бы создавать командой:\n",
    "\n",
    "tr = TriangleChecker(a, b, c)\n",
    "\n",
    "Здесь a, b, c - длины сторон треугольника.\n",
    "\n",
    "В классе TriangleChecker необходимо объявить метод is_triangle(), который бы возвращал следующие коды:\n",
    "\n",
    "1 - если хотя бы одна сторона не число (не float или int) или хотя бы одно число меньше или равно нулю;\n",
    "2 - указанные числа a, b, c не могут являться длинами сторон треугольника;\n",
    "3 - стороны a, b, c образуют треугольник.\n",
    "\n",
    "Проверку параметров a, b, c проводить именно в таком порядке.\n",
    "\n",
    "Прочитайте из входного потока строку, содержащую три числа, разделенных пробелами, командой:\n",
    "\n",
    "a, b, c = map(int, input().split())\n",
    "\n",
    "Затем, создайте объект tr класса TriangleChecker и передайте ему прочитанные значения a, b, c. Вызовите метод is_triangle() из объекта tr и выведите результат на экран (код, который она вернет).\n",
    "\n",
    "Sample Input:\n",
    "3 4 5\n",
    "\n",
    "Sample Output:\n",
    "3"
   ],
   "id": "16b2c82fcdb53bfa"
  },
  {
   "metadata": {
    "ExecuteTime": {
     "end_time": "2024-09-11T11:40:51.887399Z",
     "start_time": "2024-09-11T11:40:51.882924Z"
    }
   },
   "cell_type": "code",
   "source": [
    "class TriangleChecker:\n",
    "    def __init__(self, a, b, c):\n",
    "        self.a = a\n",
    "        self.b = b\n",
    "        self.c = c\n",
    "    \n",
    "    def is_triangle(self):\n",
    "        items = [i for i in self.__dict__.values()]  # список значений\n",
    "        if not all(type(item) == int or type(item) == float for item in items) or any(item <= 0 for item in items):\n",
    "            # если хотя бы одна сторона не число (не float или int)\n",
    "            return 1        \n",
    "        elif items[0] + items[1] <= items[2] or items[1] + items[2] <= items[0] or items[2] + items[0] <= items[1]:\n",
    "            return 2\n",
    "        elif items[0] + items[1] > items[2] and items[1] + items[2] > items[0] and items[2] + items[0] > items[1]:\n",
    "            return 3"
   ],
   "id": "1ed6f2df6fa99f93",
   "execution_count": 202,
   "outputs": []
  },
  {
   "metadata": {
    "ExecuteTime": {
     "end_time": "2024-09-11T11:40:52.199017Z",
     "start_time": "2024-09-11T11:40:52.194489Z"
    }
   },
   "cell_type": "code",
   "source": [
    "#a, b, c = map(int, input().split())\n",
    "a, b, c = 1, 2, 3\n",
    "tr = TriangleChecker(a, b, c)\n",
    "print(tr.is_triangle())"
   ],
   "id": "d7cf32760fe1cd16",
   "execution_count": 203,
   "outputs": []
  },
  {
   "metadata": {},
   "cell_type": "markdown",
   "source": [
    "### Подвиг 6. Объявите класс Graph, объекты которого можно было бы создавать с помощью команды:\n",
    "\n",
    "gr_1 = Graph(data)\n",
    "\n",
    "где data - список из числовых данных (данные для графика). При создании каждого экземпляра класса должны формироваться следующие локальные свойства:\n",
    "\n",
    "data - ссылка на список из числовых данных (у каждого объекта должен быть свой список с данными, нужно создавать копию переданного списка);\n",
    "is_show - булево значение (True/False) для показа (True) и сокрытия (False) данных графика (по умолчанию True);\n",
    "\n",
    "В этом классе объявите следующие методы:\n",
    "\n",
    "set_data(self, data) - для передачи нового списка данных в текущий график;\n",
    "show_table(self) - для отображения данных в виде строки из списка чисел (числа следуют через пробел);\n",
    "show_graph(self) - для отображения данных в виде графика (метод выводит в консоль сообщение: \"Графическое отображение данных: <строка из чисел следующих через пробел>\");\n",
    "show_bar(self) - для отображения данных в виде столбчатой диаграммы (метод выводит в консоль сообщение: \"Столбчатая диаграмма: <строка из чисел следующих через пробел>\");\n",
    "set_show(self, fl_show) - метод для изменения локального свойства is_show на переданное значение fl_show.\n",
    "\n",
    "Если локальное свойство is_show равно False, то методы show_table(), show_graph() и show_bar() должны выводить сообщение:\n",
    "\n",
    "\"Отображение данных закрыто\"\n",
    "\n",
    "Прочитайте из входного потока числовые данные с помощью команды:\n",
    "\n",
    "data_graph = list(map(int, input().split()))\n",
    "\n",
    "Создайте объект gr класса Graph с набором прочитанных данных, вызовите метод show_bar(), затем метод set_show() со значением fl_show = False и вызовите метод show_table(). На экране должны отобразиться две соответствующие строки.\n",
    "\n",
    "Sample Input:\n",
    "8 11 10 -32 0 7 18\n",
    "\n",
    "Sample Output:\n",
    "Столбчатая диаграмма: 8 11 10 -32 0 7 18\n",
    "Отображение данных закрыто"
   ],
   "id": "decbcb0d7cdcbb5d"
  },
  {
   "metadata": {
    "ExecuteTime": {
     "end_time": "2024-09-16T06:51:35.315594Z",
     "start_time": "2024-09-16T06:51:35.309999Z"
    }
   },
   "cell_type": "code",
   "source": [
    "class Graph:\n",
    "    def __init__(self, data, is_show = True):\n",
    "        self.data = data.copy()\n",
    "        self.is_show = is_show\n",
    "        \n",
    "    def set_data(self, data):\n",
    "        \"\"\" Для передачи нового списка данных в текущий график \"\"\"\n",
    "        self.data = data        \n",
    "    \n",
    "    def show_table(self):\n",
    "        \"\"\" Для отображения данных в виде строки из списка чисел (числа следуют через пробел) \"\"\"        \n",
    "        if not self.is_show:\n",
    "            print('Отображение данных закрыто')\n",
    "        else:\n",
    "            print(*self.data)\n",
    "    \n",
    "    def show_graph(self):\n",
    "        \"\"\" Для отображения данных в виде графика (метод выводит в консоль сообщение: \n",
    "        \"Графическое отображение данных: <строка из чисел следующих через пробел>\") \"\"\"\n",
    "        if not self.is_show:\n",
    "            print('Отображение данных закрыто')\n",
    "        else:\n",
    "            list_data = \" \".join(map(str, self.data))\n",
    "            print(f'Графическое отображение данных: {list_data}')\n",
    "    \n",
    "    def show_bar(self):\n",
    "        \"\"\" Для отображения данных в виде столбчатой диаграммы (метод выводит в консоль сообщение: \n",
    "        \"Столбчатая диаграмма: <строка из чисел следующих через пробел>\") \"\"\"\n",
    "        if not self.is_show:\n",
    "            print('Отображение данных закрыто')    \n",
    "        else:\n",
    "            list_data = \" \".join(map(str, self.data))\n",
    "            print(f'Столбчатая диаграмма: {list_data}')\n",
    "    \n",
    "    def set_show(self, fl_show):\n",
    "        \"\"\" Метод для изменения локального свойства is_show на переданное значение fl_show \"\"\"\n",
    "        self.is_show = fl_show"
   ],
   "id": "291ebe731e7547d2",
   "execution_count": 1,
   "outputs": []
  },
  {
   "metadata": {
    "ExecuteTime": {
     "end_time": "2024-09-16T06:55:01.861134Z",
     "start_time": "2024-09-16T06:54:59.368809Z"
    }
   },
   "cell_type": "code",
   "source": [
    "# 8 11 10 -32 0 7 18\n",
    "data_graph = list(map(int, input().split()))\n",
    "if not data_graph:\n",
    "    data_graph = [8, 11, 10, -32, 0, 7, 18]"
   ],
   "id": "27018a96863d678c",
   "execution_count": 10,
   "outputs": []
  },
  {
   "metadata": {
    "ExecuteTime": {
     "end_time": "2024-09-16T06:55:03.110786Z",
     "start_time": "2024-09-16T06:55:03.107176Z"
    }
   },
   "cell_type": "code",
   "source": [
    "gr = Graph(data_graph)\n",
    "gr.show_bar()"
   ],
   "id": "c0e16c0f666d6995",
   "execution_count": 11,
   "outputs": []
  },
  {
   "metadata": {
    "ExecuteTime": {
     "end_time": "2024-09-16T06:55:03.423267Z",
     "start_time": "2024-09-16T06:55:03.419258Z"
    }
   },
   "cell_type": "code",
   "source": [
    "gr.set_show(fl_show=False)\n",
    "gr.show_table()"
   ],
   "id": "a2692d388410eb8a",
   "execution_count": 12,
   "outputs": []
  },
  {
   "metadata": {},
   "cell_type": "markdown",
   "source": [
    "### Подвиг 7. Объявите в программе следующие несколько классов:\n",
    "\n",
    "CPU - класс для описания процессоров;\n",
    "Memory - класс для описания памяти;\n",
    "MotherBoard - класс для описания материнских плат.\n",
    "\n",
    "Обеспечить возможность создания объектов каждого класса командами:\n",
    "\n",
    "cpu = CPU(наименование, тактовая частота)\n",
    "mem = Memory(наименование, размер памяти)\n",
    "mb = MotherBoard(наименование, процессор, память1, память2, ..., памятьN)\n",
    "\n",
    "Обратите внимание при создании объекта класса MotherBoard можно передавать несколько объектов класса Memory, максимум N - по числу слотов памяти на материнской плате (N = 4).\n",
    "\n",
    "Объекты классов должны иметь следующие локальные свойства: \n",
    "\n",
    "для класса CPU: name - наименование; fr - тактовая частота;\n",
    "для класса Memory: name - наименование; volume - объем памяти;\n",
    "для класса MotherBoard: name - наименование; cpu - ссылка на объект класса CPU; total_mem_slots = 4 - общее число слотов памяти (атрибут прописывается с этим значением и не меняется); mem_slots - список из объектов класса Memory (максимум total_mem_slots = 4 штук по максимальному числу слотов памяти).\n",
    "\n",
    "Класс MotherBoard должен иметь метод get_config(self) для возвращения текущей конфигурации компонентов на материнской плате в виде следующего списка из четырех строк:\n",
    "\n",
    "['Материнская плата: <наименование>',\n",
    "'Центральный процессор: <наименование>, <тактовая частота>',\n",
    "'Слотов памяти: <общее число слотов памяти>',\n",
    "'Память: <наименование_1> - <объем_1>; <наименование_2> - <объем_2>; ...; <наименование_N> - <объем_N>']\n",
    "\n",
    "Создайте объект mb класса MotherBoard с одним CPU (объект класса CPU) и двумя слотами памяти (объекты класса Memory).\n",
    "\n",
    "P.S. Отображать на экране ничего не нужно, только создать объект по указанным требованиям."
   ],
   "id": "d5861b43abdd0cc0"
  },
  {
   "metadata": {
    "ExecuteTime": {
     "end_time": "2024-09-16T09:37:24.842996Z",
     "start_time": "2024-09-16T09:37:24.837451Z"
    }
   },
   "cell_type": "code",
   "source": [
    "class CPU:\n",
    "    def __init__(self, name, fr):\n",
    "        self.name = name\n",
    "        self.fr = fr\n",
    "\n",
    "class Memory:\n",
    "    def __init__(self, name, volume):\n",
    "        self.name = name\n",
    "        self.volume = volume\n",
    "\n",
    "class MotherBoard:\n",
    "    def __init__(self, name, cpu, mem_slots=Memory):\n",
    "        self.name = name\n",
    "        self.cpu = cpu\n",
    "        self.total_mem_slots = 4\n",
    "        self.mem_slots = mem_slots\n",
    "        \n",
    "    def get_config(self):\n",
    "        list_config = [f'Материнская плата: {self.name}',\n",
    "                       f'Центральный процессор: {self.cpu.name}, {self.cpu.fr}',\n",
    "                       f'Слотов памяти: {self.total_mem_slots}',\n",
    "                       f\"Память: {'; '.join([f'{i.name} - {i.volume}' for i in self.mem_slots])}\"]\n",
    "        return list_config "
   ],
   "id": "a7317b057439300",
   "execution_count": 58,
   "outputs": []
  },
  {
   "metadata": {
    "ExecuteTime": {
     "end_time": "2024-09-16T09:37:44.876555Z",
     "start_time": "2024-09-16T09:37:44.872396Z"
    }
   },
   "cell_type": "code",
   "source": [
    "cpu = CPU('asus', 1333)\n",
    "mem1, mem2 = Memory('Kingstone', 4000), Memory('Kingstone', 4000)\n",
    "mb = MotherBoard('Asus', cpu, [mem1, mem2])\n",
    "print(mb.get_config())"
   ],
   "id": "6660e717ff3f18f0",
   "execution_count": 59,
   "outputs": []
  },
  {
   "metadata": {},
   "cell_type": "markdown",
   "source": [
    "### Подвиг 8. Объявите в программе класс Cart (корзина), объекты которого создаются командой:\n",
    "\n",
    "cart = Cart()\n",
    "\n",
    "Каждый объект класса Cart должен иметь локальное свойство goods - список объектов для покупки (объекты классов Table, TV, Notebook и Cup). Изначально этот список должен быть пустым.\n",
    "\n",
    "В классе Cart объявить методы:\n",
    "\n",
    "add(self, gd) - добавление в корзину товара, представленного объектом gd;\n",
    "remove(self, indx) - удаление из корзины товара по индексу indx;\n",
    "get_list(self) - получение из корзины товаров в виде списка из строк:\n",
    "\n",
    "['<наименовние_1>: <цена_1>',\n",
    "'<наименовние_2>: <цена_2>',\n",
    "...\n",
    "'<наименовние_N>: <цена_N>']\n",
    "\n",
    "Объявите в программе следующие классы для описания товаров:\n",
    "\n",
    "Table - столы;\n",
    "TV - телевизоры;\n",
    "Notebook - ноутбуки;\n",
    "Cup - кружки.\n",
    "\n",
    "Объекты этих классов должны создаваться командой:\n",
    "\n",
    "gd = ИмяКласса(name, price)\n",
    "\n",
    "Каждый объект классов товаров должен содержать локальные свойства:\n",
    "\n",
    "name - наименование;\n",
    "price - цена.\n",
    "\n",
    "Создайте в программе объект cart класса Cart. Добавьте в него два телевизора (TV), один стол (Table), два ноутбука (Notebook) и одну кружку (Cup). Названия и цены придумайте сами. \n",
    "\n",
    "P.S. Отображать на экране ничего не нужно, только создать объекты по указанным требованиям."
   ],
   "id": "f1eeacadb6d9b129"
  },
  {
   "metadata": {
    "ExecuteTime": {
     "end_time": "2024-09-16T12:59:05.132989Z",
     "start_time": "2024-09-16T12:59:05.129054Z"
    }
   },
   "cell_type": "code",
   "source": [
    "class Cart:\n",
    "    goods = []\n",
    "    def add(self, gd):        \n",
    "        self.goods.append(gd)\n",
    "    \n",
    "    def remove(self, indx):\n",
    "        self.goods.pop(indx)\n",
    "        \n",
    "    def get_list(self):\n",
    "        return [f\"{i.name}: {i.price}\" for i in self.goods]"
   ],
   "id": "549d7b0f42d3649f",
   "execution_count": 39,
   "outputs": []
  },
  {
   "metadata": {},
   "cell_type": "code",
   "execution_count": 40,
   "source": [
    "class Table:\n",
    "    def __init__(self, name, price):\n",
    "        self.name = name\n",
    "        self.price = price\n",
    "\n",
    "class TV:\n",
    "    def __init__(self, name, price):\n",
    "        self.name = name\n",
    "        self.price = price\n",
    "\n",
    "class Notebook:\n",
    "    def __init__(self, name, price):\n",
    "        self.name = name\n",
    "        self.price = price\n",
    "\n",
    "class Cup:\n",
    "    def __init__(self, name, price):\n",
    "        self.name = name\n",
    "        self.price = price"
   ],
   "id": "79cf1fce30d9d74a",
   "outputs": []
  },
  {
   "metadata": {},
   "cell_type": "code",
   "execution_count": 47,
   "source": [
    "cart = Cart()\n",
    "tv1 = TV(\"samsung\", 1111)\n",
    "tv2 = TV(\"LG\", 1234)\n",
    "table = Table(\"ikea\", 2345)\n",
    "n1= Notebook(\"msi\", 5433)\n",
    "n2 = Notebook(\"apple\", 542)\n",
    "c = Cup(\"keepcup\", 43)"
   ],
   "id": "9e43b0cd1e2e96a8",
   "outputs": []
  },
  {
   "metadata": {},
   "cell_type": "code",
   "execution_count": 48,
   "source": [
    "cart.add(tv1)\n",
    "cart.add(tv2)\n",
    "cart.add(table)\n",
    "cart.add(n1)\n",
    "cart.add(n2)\n",
    "cart.add(c)"
   ],
   "id": "b7cd63a10c442bb8",
   "outputs": []
  },
  {
   "metadata": {},
   "cell_type": "markdown",
   "source": [
    "### Подвиг 9. Вам необходимо реализовать односвязный список (не список языка Python, объекты в списке не хранить, аформировать связанную структуру, показанную на рисунке) из объектов класса ListObject:\n",
    "###### picture (https://ucarecdn.com/a4e74a9d-633b-41a2-ab5e-c39be1d915a5/)\n",
    "Для этого объявите в программе класс ListObject, объекты которого создаются командой:\n",
    "\n",
    "obj = ListObject(data)\n",
    "\n",
    "Каждый объект класса ListObject должен содержать локальные свойства:\n",
    "\n",
    "next_obj - ссылка на следующий присоединенный объект (если следующего объекта нет, то next_obj = None);\n",
    "data - данные объекта в виде строки.\n",
    "\n",
    "В самом классе ListObject должен быть объявлен метод:\n",
    "\n",
    "link(self, obj) - для присоединения объекта obj такого же класса к текущему объекту self (то есть, атрибут next_obj объекта self должен ссылаться на obj).\n",
    "\n",
    "Прочитайте список строк из входного потока командой:\n",
    "\n",
    "lst_in = list(map(str.strip, sys.stdin.readlines()))\n",
    "\n",
    "Затем сформируйте односвязный список, в объектах которых (в атрибуте data) хранятся строки из списка lst_in (первая строка в первом объекте, вторая - во втором и  т.д.). На первый добавленный объект класса ListObject должна ссылаться переменная head_obj.\n",
    "\n",
    "P.S. В программе что-либо выводить на экран не нужно.\n",
    "\n",
    "Sample Input:\n",
    "\n",
    "1. Первые шаги в ООП\n",
    "1.1 Как правильно проходить этот курс\n",
    "1.2 Концепция ООП простыми словами\n",
    "1.3 Классы и объекты. Атрибуты классов и объектов\n",
    "1.4 Методы классов. Параметр self\n",
    "1.5 Инициализатор init и финализатор del\n",
    "1.6 Магический метод new. Пример паттерна Singleton\n",
    "1.7 Методы класса (classmethod) и статические методы (staticmethod)\n",
    "\n",
    "Sample Output: "
   ],
   "id": "7df0a6f2cd26f359"
  },
  {
   "metadata": {
    "ExecuteTime": {
     "end_time": "2024-09-20T13:32:41.639887Z",
     "start_time": "2024-09-20T13:32:41.636450Z"
    }
   },
   "cell_type": "code",
   "source": [
    "import sys\n",
    "\n",
    "class ListObject:\n",
    "    def __init__(self, data):\n",
    "        self.data = str(data)\n",
    "        self.next_obj = None        \n",
    "    \n",
    "    def link(self, obj):\n",
    "        self.next_obj = obj"
   ],
   "id": "58a518aec2a56635",
   "execution_count": 52,
   "outputs": []
  },
  {
   "metadata": {
    "ExecuteTime": {
     "end_time": "2024-09-20T14:16:03.638427Z",
     "start_time": "2024-09-20T14:16:03.635950Z"
    }
   },
   "cell_type": "code",
   "source": "lst_in = ['A', 'B', 'C']",
   "id": "4fc57c33c0c9d7d1",
   "execution_count": 59,
   "outputs": []
  },
  {
   "metadata": {
    "ExecuteTime": {
     "end_time": "2024-09-20T14:16:04.957951Z",
     "start_time": "2024-09-20T14:16:04.953281Z"
    }
   },
   "cell_type": "code",
   "source": [
    "head_obj = None\n",
    "prev_obj = None"
   ],
   "id": "3fdba1fa217ba885",
   "execution_count": 60,
   "outputs": []
  },
  {
   "metadata": {},
   "cell_type": "code",
   "execution_count": null,
   "source": [
    "tot = len(lst_in)\n",
    "for ind in range(tot):\n",
    "    nod = ListObject(lst_in[ind])\n",
    "    if head_obj is None:\n",
    "        head_obj = nod\n",
    "    else:\n",
    "        prev_obj = prev_obj.link(nod)\n",
    "    prev_obj = nod"
   ],
   "id": "dbd377169c3c026e",
   "outputs": []
  },
  {
   "metadata": {},
   "cell_type": "code",
   "execution_count": null,
   "source": "",
   "id": "1a3b59826741f191",
   "outputs": []
  },
  {
   "metadata": {},
   "cell_type": "code",
   "execution_count": null,
   "source": "",
   "id": "4d8c7759e70bc4ac",
   "outputs": []
  },
  {
   "metadata": {},
   "cell_type": "code",
   "execution_count": null,
   "source": "",
   "id": "fe2255c024dfa0b8",
   "outputs": []
  }
 ],
 "metadata": {
  "kernelspec": {
   "display_name": "Python 3",
   "language": "python",
   "name": "python3"
  },
  "language_info": {
   "codemirror_mode": {
    "name": "ipython",
    "version": 2
   },
   "file_extension": ".py",
   "mimetype": "text/x-python",
   "name": "python",
   "nbconvert_exporter": "python",
   "pygments_lexer": "ipython2",
   "version": "2.7.6"
  }
 },
 "nbformat": 4,
 "nbformat_minor": 5
}
