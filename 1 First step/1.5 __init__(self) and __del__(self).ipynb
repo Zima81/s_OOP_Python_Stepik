{
 "cells": [
  {
   "metadata": {},
   "cell_type": "markdown",
   "source": "### 1.5 Инициализатор \\_\\_init__ и финализатор \\_\\_del__",
   "id": "d47b994599b67089"
  },
  {
   "metadata": {},
   "cell_type": "code",
   "outputs": [],
   "execution_count": 2,
   "source": [
    "# out __init__\n",
    "class Point1:\n",
    "    def set(self, x, y):\n",
    "        self.x = x\n",
    "        self.y = y"
   ],
   "id": "initial_id"
  },
  {
   "metadata": {
    "ExecuteTime": {
     "end_time": "2024-09-06T14:11:23.903556Z",
     "start_time": "2024-09-06T14:11:23.900116Z"
    }
   },
   "cell_type": "code",
   "source": [
    "pt1 = Point1()\n",
    "pt1.set(1, 2)\n",
    "print(pt1.__dict__)"
   ],
   "id": "a8d98cb814e0fad1",
   "outputs": [
    {
     "name": "stdout",
     "output_type": "stream",
     "text": [
      "{'x': 1, 'y': 2}\n"
     ]
    }
   ],
   "execution_count": 3
  },
  {
   "metadata": {
    "ExecuteTime": {
     "end_time": "2024-09-06T14:14:33.218403Z",
     "start_time": "2024-09-06T14:14:33.215076Z"
    }
   },
   "cell_type": "code",
   "source": [
    "# with __init__\n",
    "class Point2:\n",
    "    def __init__(self, x=0, y=0):  # используются значения по умолчанию\n",
    "        self.x = x\n",
    "        self.y = y"
   ],
   "id": "8a5744e9e7321aee",
   "outputs": [],
   "execution_count": 4
  },
  {
   "metadata": {
    "ExecuteTime": {
     "end_time": "2024-09-06T14:15:10.787660Z",
     "start_time": "2024-09-06T14:15:10.782959Z"
    }
   },
   "cell_type": "code",
   "source": [
    "pt2 = Point2(1, 2)\n",
    "print(pt2.__dict__)"
   ],
   "id": "cd9e0122deb14703",
   "outputs": [
    {
     "name": "stdout",
     "output_type": "stream",
     "text": [
      "{'x': 1, 'y': 2}\n"
     ]
    }
   ],
   "execution_count": 5
  },
  {
   "metadata": {
    "ExecuteTime": {
     "end_time": "2024-09-06T14:17:21.269502Z",
     "start_time": "2024-09-06T14:17:21.265905Z"
    }
   },
   "cell_type": "code",
   "source": [
    "# with __del__\n",
    "\n",
    "class Point3:\n",
    "    \n",
    "    def __init__(self, x=0, y=0):  # используются значения по умолчанию\n",
    "        print(f'создание экземпляра {self}')\n",
    "        self.x = x\n",
    "        self.y = y\n",
    "        \n",
    "    def __del__(self):\n",
    "        print(f'удаление экземпляра {self}')"
   ],
   "id": "4a008bdb4bc2a448",
   "outputs": [],
   "execution_count": 6
  },
  {
   "metadata": {
    "ExecuteTime": {
     "end_time": "2024-09-06T14:17:34.121171Z",
     "start_time": "2024-09-06T14:17:34.118387Z"
    }
   },
   "cell_type": "code",
   "source": "pt3 = Point3(1, 2)",
   "id": "5bacc27f0a5c0c0f",
   "outputs": [
    {
     "name": "stdout",
     "output_type": "stream",
     "text": [
      "создание экземпляра <__main__.Point3 object at 0x0000024861383950>\n"
     ]
    }
   ],
   "execution_count": 7
  },
  {
   "metadata": {
    "ExecuteTime": {
     "end_time": "2024-09-06T14:17:58.601046Z",
     "start_time": "2024-09-06T14:17:58.598342Z"
    }
   },
   "cell_type": "code",
   "source": "pt3 = 2",
   "id": "8909447b7c56b143",
   "outputs": [
    {
     "name": "stdout",
     "output_type": "stream",
     "text": [
      "удаление экземпляра <__main__.Point3 object at 0x0000024861383950>\n"
     ]
    }
   ],
   "execution_count": 8
  },
  {
   "metadata": {},
   "cell_type": "code",
   "outputs": [],
   "execution_count": null,
   "source": "",
   "id": "99cde32292efa097"
  }
 ],
 "metadata": {
  "kernelspec": {
   "display_name": "Python 3",
   "language": "python",
   "name": "python3"
  },
  "language_info": {
   "codemirror_mode": {
    "name": "ipython",
    "version": 2
   },
   "file_extension": ".py",
   "mimetype": "text/x-python",
   "name": "python",
   "nbconvert_exporter": "python",
   "pygments_lexer": "ipython2",
   "version": "2.7.6"
  }
 },
 "nbformat": 4,
 "nbformat_minor": 5
}
