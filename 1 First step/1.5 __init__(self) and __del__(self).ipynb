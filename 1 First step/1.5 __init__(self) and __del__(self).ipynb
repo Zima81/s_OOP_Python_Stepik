{
 "cells": [
  {
   "metadata": {},
   "cell_type": "markdown",
   "source": [
    "### 3\n",
    "Объявите класс Money так, чтобы объекты этого класса можно было создавать следующим образом:\n",
    "\n",
    "my_money = Money(100)\n",
    "your_money = Money(1000)\n",
    "\n",
    "Здесь при создании объектов указывается количество денег, которое должно сохраняться в локальном свойстве (атрибуте) money каждого экземпляра класса."
   ],
   "id": "624f4de81897035e"
  },
  {
   "metadata": {},
   "cell_type": "code",
   "outputs": [],
   "execution_count": 3,
   "source": [
    "class Money:\n",
    "    def __init__(self, money):\n",
    "        self.money = money"
   ],
   "id": "f896fd2eb349cb35"
  },
  {
   "metadata": {
    "ExecuteTime": {
     "end_time": "2024-09-07T16:12:06.696005Z",
     "start_time": "2024-09-07T16:12:06.689395Z"
    }
   },
   "cell_type": "code",
   "source": [
    "my_money = Money(100)\n",
    "your_money = Money(1000)"
   ],
   "id": "f44c401be08c0595",
   "outputs": [],
   "execution_count": 4
  },
  {
   "metadata": {
    "ExecuteTime": {
     "end_time": "2024-09-07T16:12:13.552044Z",
     "start_time": "2024-09-07T16:12:13.542217Z"
    }
   },
   "cell_type": "code",
   "source": "my_money.__dict__",
   "id": "4f7020aa5d584f54",
   "outputs": [
    {
     "data": {
      "text/plain": [
       "{'money': 100}"
      ]
     },
     "execution_count": 5,
     "metadata": {},
     "output_type": "execute_result"
    }
   ],
   "execution_count": 5
  },
  {
   "metadata": {
    "ExecuteTime": {
     "end_time": "2024-09-07T16:12:28.434787Z",
     "start_time": "2024-09-07T16:12:28.426168Z"
    }
   },
   "cell_type": "code",
   "source": "your_money.__dict__",
   "id": "7a2272cb8a72de57",
   "outputs": [
    {
     "data": {
      "text/plain": [
       "{'money': 1000}"
      ]
     },
     "execution_count": 6,
     "metadata": {},
     "output_type": "execute_result"
    }
   ],
   "execution_count": 6
  },
  {
   "metadata": {},
   "cell_type": "markdown",
   "source": [
    "### 4\n",
    "Объявите класс Point так, чтобы объекты этого класса можно было создавать командами:\n",
    "\n",
    "p1 = Point(10, 20)\n",
    "p2 = Point(12, 5, 'red')\n",
    "\n",
    "Здесь первые два значения - это координаты точки на плоскости (локальные свойства x, y), а третий необязательный аргумент - цвет точки (локальное свойство color). Если цвет не указывается, то он по умолчанию принимает значение black.\n",
    "\n",
    "Создайте тысячу таких объектов с координатами (1, 1), (3, 3), (5, 5), ... то есть, с увеличением на два для каждой новой точки. Каждый объект следует поместить в список points (по порядку). Для второго объекта в списке points укажите цвет 'yellow'.\n",
    "\n",
    "P.S. На экран в программе ничего выводить не нужно."
   ],
   "id": "4d08fcf6e92d7d34"
  },
  {
   "metadata": {
    "ExecuteTime": {
     "end_time": "2024-09-08T17:01:01.838734Z",
     "start_time": "2024-09-08T17:01:01.833364Z"
    }
   },
   "cell_type": "code",
   "source": [
    "class Point:\n",
    "    def __init__(self, x, y, color='black'):\n",
    "        self.x = x\n",
    "        self.y = y\n",
    "        self.color = color"
   ],
   "id": "2d9dfcf845f47c8a",
   "outputs": [],
   "execution_count": 11
  },
  {
   "metadata": {
    "ExecuteTime": {
     "end_time": "2024-09-08T17:18:17.509807Z",
     "start_time": "2024-09-08T17:18:17.502238Z"
    }
   },
   "cell_type": "code",
   "source": [
    "cor = 1\n",
    "points = []\n",
    "fin = range(10)\n",
    "for _ in fin:    \n",
    "    print(f'шаг {_} из {fin[-1]} \\r', end='')\n",
    "    if _ == 1:\n",
    "        tp = Point(cor, cor, 'yellow')\n",
    "        points.append(tp)\n",
    "    else:\n",
    "        tp = Point(cor, cor)\n",
    "        points.append(tp)\n",
    "    cor += 2"
   ],
   "id": "79d96b443f1314b7",
   "outputs": [
    {
     "name": "stdout",
     "output_type": "stream",
     "text": [
      "шаг 9 из 9 \r"
     ]
    }
   ],
   "execution_count": 35
  },
  {
   "metadata": {
    "ExecuteTime": {
     "end_time": "2024-09-08T17:18:36.154071Z",
     "start_time": "2024-09-08T17:18:36.148964Z"
    }
   },
   "cell_type": "code",
   "source": "points[0].__dict__",
   "id": "51890f568c5bce9e",
   "outputs": [
    {
     "data": {
      "text/plain": [
       "{'x': 1, 'y': 1, 'color': 'black'}"
      ]
     },
     "execution_count": 37,
     "metadata": {},
     "output_type": "execute_result"
    }
   ],
   "execution_count": 37
  },
  {
   "metadata": {},
   "cell_type": "markdown",
   "source": [
    "### 5\n",
    "Объявите три класса геометрических фигур: Line, Rect, Ellipse. Должна быть возможность создавать объекты каждого класса следующими командами:\n",
    "\n",
    "g1 = Line(a, b, c, d)\n",
    "g2 = Rect(a, b, c, d)\n",
    "g3 = Ellipse(a, b, c, d)\n",
    "\n",
    "Здесь в качестве аргументов a, b, c, d передаются координаты верхнего правого и нижнего левого углов (произвольные числа). В каждом объекте координаты должны сохраняться в локальных свойствах sp (верхний правый угол) и ep (нижний левый) в виде кортежей (a, b) и (c, d) соответственно.\n",
    "\n",
    "Сформируйте 217 объектов этих классов: для каждого текущего объекта класс выбирается случайно (или Line, или Rect, или Ellipse). Координаты также генерируются случайным образом (числовые значения). Все объекты сохраните в списке elements.\n",
    "\n",
    "В списке elements обнулите координаты объектов только для класса Line.\n",
    "\n",
    "P.S. На экран в программе ничего выводить не нужно."
   ],
   "id": "cfbaa2235b180730"
  },
  {
   "metadata": {
    "ExecuteTime": {
     "end_time": "2024-09-08T17:50:57.822679Z",
     "start_time": "2024-09-08T17:50:57.815223Z"
    }
   },
   "cell_type": "code",
   "source": [
    "class Line:\n",
    "    def __init__(self, a, b, c, d):\n",
    "        self.sp = (a, b)\n",
    "        self.ep = (c, d)\n",
    "    \n",
    "    \n",
    "class Rect:\n",
    "    def __init__(self, a, b, c, d):\n",
    "        self.sp = (a, b)\n",
    "        self.ep = (c, d)\n",
    "    \n",
    "    \n",
    "class Ellipse:\n",
    "    def __init__(self, a, b, c, d):\n",
    "        self.sp = (a, b)\n",
    "        self.ep = (c, d)   "
   ],
   "id": "e60997422534cd08",
   "outputs": [],
   "execution_count": 39
  },
  {
   "metadata": {
    "ExecuteTime": {
     "end_time": "2024-09-08T17:52:12.379251Z",
     "start_time": "2024-09-08T17:52:12.375148Z"
    }
   },
   "cell_type": "code",
   "source": "import random",
   "id": "2a729eb652cbb371",
   "outputs": [],
   "execution_count": 40
  },
  {
   "metadata": {
    "ExecuteTime": {
     "end_time": "2024-09-08T17:52:17.096490Z",
     "start_time": "2024-09-08T17:52:17.092664Z"
    }
   },
   "cell_type": "code",
   "source": "elements = []",
   "id": "a0d4ca19b64b3a6a",
   "outputs": [],
   "execution_count": 41
  },
  {
   "metadata": {
    "ExecuteTime": {
     "end_time": "2024-09-08T17:54:17.811663Z",
     "start_time": "2024-09-08T17:54:17.808356Z"
    }
   },
   "cell_type": "code",
   "source": [
    "for _ in range(10):\n",
    "    ran = random.randint(0, 2)\n",
    "    a, b, c, d = random.randint(0, 100)\n",
    "    if ran == 0:\n",
    "        \n",
    "        pt = Line()"
   ],
   "id": "c3b6d92d84253c8f",
   "outputs": [
    {
     "name": "stdout",
     "output_type": "stream",
     "text": [
      "1\n",
      "0\n",
      "1\n",
      "0\n",
      "0\n",
      "1\n",
      "0\n",
      "0\n",
      "2\n",
      "0\n"
     ]
    }
   ],
   "execution_count": 46
  },
  {
   "metadata": {
    "ExecuteTime": {
     "end_time": "2024-09-08T18:54:38.520351Z",
     "start_time": "2024-09-08T18:54:38.491875Z"
    }
   },
   "cell_type": "code",
   "source": [
    "classes = [Line, Rect, Ellipse]\n",
    "random_int = random.randint(0, 100)\n",
    "r = random.choice(classes)(*(random_int,) * 4)\n",
    "r.__dict__"
   ],
   "id": "751bedebae23cca8",
   "outputs": [
    {
     "ename": "TypeError",
     "evalue": "__main__.Ellipse() argument after * must be an iterable, not int",
     "output_type": "error",
     "traceback": [
      "\u001B[0;31m---------------------------------------------------------------------------\u001B[0m",
      "\u001B[0;31mTypeError\u001B[0m                                 Traceback (most recent call last)",
      "Cell \u001B[0;32mIn[83], line 3\u001B[0m\n\u001B[1;32m      1\u001B[0m classes \u001B[38;5;241m=\u001B[39m [Line, Rect, Ellipse]\n\u001B[1;32m      2\u001B[0m random_int \u001B[38;5;241m=\u001B[39m random\u001B[38;5;241m.\u001B[39mrandint(\u001B[38;5;241m0\u001B[39m, \u001B[38;5;241m100\u001B[39m)\n\u001B[0;32m----> 3\u001B[0m r \u001B[38;5;241m=\u001B[39m \u001B[43mrandom\u001B[49m\u001B[38;5;241;43m.\u001B[39;49m\u001B[43mchoice\u001B[49m\u001B[43m(\u001B[49m\u001B[43mclasses\u001B[49m\u001B[43m)\u001B[49m\u001B[43m(\u001B[49m\u001B[38;5;241;43m*\u001B[39;49m\u001B[43m(\u001B[49m\u001B[43mrandom_int\u001B[49m\u001B[43m)\u001B[49m\u001B[43m \u001B[49m\u001B[38;5;241;43m*\u001B[39;49m\u001B[43m \u001B[49m\u001B[38;5;241;43m4\u001B[39;49m\u001B[43m)\u001B[49m\n\u001B[1;32m      4\u001B[0m r\u001B[38;5;241m.\u001B[39m\u001B[38;5;18m__dict__\u001B[39m\n",
      "\u001B[0;31mTypeError\u001B[0m: __main__.Ellipse() argument after * must be an iterable, not int"
     ]
    }
   ],
   "execution_count": 83
  },
  {
   "metadata": {
    "ExecuteTime": {
     "end_time": "2024-09-08T18:56:27.468669Z",
     "start_time": "2024-09-08T18:56:27.452650Z"
    }
   },
   "cell_type": "code",
   "source": "tp = tuple(1) ",
   "id": "ce4e1a91a8096102",
   "outputs": [
    {
     "ename": "TypeError",
     "evalue": "'int' object is not iterable",
     "output_type": "error",
     "traceback": [
      "\u001B[0;31m---------------------------------------------------------------------------\u001B[0m",
      "\u001B[0;31mTypeError\u001B[0m                                 Traceback (most recent call last)",
      "Cell \u001B[0;32mIn[86], line 1\u001B[0m\n\u001B[0;32m----> 1\u001B[0m tp \u001B[38;5;241m=\u001B[39m \u001B[38;5;28;43mtuple\u001B[39;49m\u001B[43m(\u001B[49m\u001B[38;5;241;43m1\u001B[39;49m\u001B[43m)\u001B[49m \n",
      "\u001B[0;31mTypeError\u001B[0m: 'int' object is not iterable"
     ]
    }
   ],
   "execution_count": 86
  },
  {
   "metadata": {},
   "cell_type": "code",
   "outputs": [],
   "execution_count": null,
   "source": "",
   "id": "7513b96199d5c467"
  }
 ],
 "metadata": {
  "kernelspec": {
   "display_name": "Python 3",
   "language": "python",
   "name": "python3"
  },
  "language_info": {
   "codemirror_mode": {
    "name": "ipython",
    "version": 2
   },
   "file_extension": ".py",
   "mimetype": "text/x-python",
   "name": "python",
   "nbconvert_exporter": "python",
   "pygments_lexer": "ipython2",
   "version": "2.7.6"
  }
 },
 "nbformat": 4,
 "nbformat_minor": 5
}
