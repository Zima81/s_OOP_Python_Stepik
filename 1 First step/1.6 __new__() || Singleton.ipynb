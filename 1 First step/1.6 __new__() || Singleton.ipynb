{
 "cells": [
  {
   "metadata": {},
   "cell_type": "markdown",
   "source": [
    "### Подвиг 6. Объявите класс AbstractClass, объекты которого нельзя было бы создавать. При выполнении команды:\n",
    "\n",
    "obj = AbstractClass()\n",
    "\n",
    "переменная obj должна ссылаться на строку с содержимым:\n",
    "\n",
    "\"Ошибка: нельзя создавать объекты абстрактного класса\"\n",
    "\n",
    "P.S. В программе объявить только класс, выводить на экран ничего не нужно."
   ],
   "id": "189523e002e6a0f4"
  },
  {
   "metadata": {
    "ExecuteTime": {
     "end_time": "2024-09-22T17:28:06.100010Z",
     "start_time": "2024-09-22T17:28:06.096387Z"
    }
   },
   "cell_type": "code",
   "source": [
    "class AbstractClass:\n",
    "    def __new__(cls, *args, **kwargs):\n",
    "        return super().__new__(cls)\n",
    "    \n",
    "    def __init__(self):\n",
    "        print(\"Ошибка: нельзя создавать объекты абстрактного класса\")"
   ],
   "id": "71658cd426523b6c",
   "outputs": [],
   "execution_count": 17
  },
  {
   "metadata": {
    "ExecuteTime": {
     "end_time": "2024-09-22T17:30:47.007329Z",
     "start_time": "2024-09-22T17:30:47.003234Z"
    }
   },
   "cell_type": "code",
   "source": [
    "class AbstractClass:        \n",
    "    def __new__(cls, *args, **kwargs):\n",
    "        return \"Ошибка: нельзя создавать объекты абстрактного класса\""
   ],
   "id": "acc001d9b8792a97",
   "outputs": [],
   "execution_count": 21
  },
  {
   "metadata": {
    "ExecuteTime": {
     "end_time": "2024-09-22T17:30:47.832354Z",
     "start_time": "2024-09-22T17:30:47.826519Z"
    }
   },
   "cell_type": "code",
   "source": "obj = AbstractClass()",
   "id": "8bed02d4bcf130c2",
   "outputs": [
    {
     "name": "stdout",
     "output_type": "stream",
     "text": [
      "Ошибка: нельзя создавать объекты абстрактного класса\n"
     ]
    }
   ],
   "execution_count": 22
  },
  {
   "metadata": {},
   "cell_type": "code",
   "outputs": [],
   "execution_count": null,
   "source": "",
   "id": "c107d386b9a28a61"
  }
 ],
 "metadata": {
  "kernelspec": {
   "display_name": "Python 3",
   "language": "python",
   "name": "python3"
  },
  "language_info": {
   "codemirror_mode": {
    "name": "ipython",
    "version": 2
   },
   "file_extension": ".py",
   "mimetype": "text/x-python",
   "name": "python",
   "nbconvert_exporter": "python",
   "pygments_lexer": "ipython2",
   "version": "2.7.6"
  }
 },
 "nbformat": 4,
 "nbformat_minor": 5
}
