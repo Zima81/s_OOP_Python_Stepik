{
 "cells": [
  {
   "cell_type": "code",
   "id": "initial_id",
   "metadata": {
    "collapsed": true,
    "ExecuteTime": {
     "end_time": "2024-10-01T08:22:10.225970Z",
     "start_time": "2024-10-01T08:22:10.222454Z"
    }
   },
   "source": [
    "class Vector:\n",
    "    MIN = 0\n",
    "    MAX = 5\n",
    "    @classmethod\n",
    "    def validate(cls, arg):\n",
    "        if cls.MIN <= arg <= cls.MAX:\n",
    "            return \"Good\"\n",
    "        else:\n",
    "            return \"No Good\"\n",
    "    \n",
    "    def __init__(self, x, y):\n",
    "        self.x = 0\n",
    "        self.y = 0\n",
    "        if self.validate(x) == 'Good' and self.validate(y) == 'Good':\n",
    "      # if Vector.validate(x) == 'Good' and Vector.validate(y) == 'Good':  # Через имя класса НЕ ПИШУТ (имя меняют)\n",
    "            self.x = x\n",
    "            self.y = y\n",
    "        print(self.norm2(self.x, self.y))\n",
    "        \n",
    "    @staticmethod\n",
    "    def norm2(x, y):\n",
    "        return x + y"
   ],
   "outputs": [],
   "execution_count": 8
  },
  {
   "metadata": {
    "ExecuteTime": {
     "end_time": "2024-10-01T08:22:32.114303Z",
     "start_time": "2024-10-01T08:22:32.109899Z"
    }
   },
   "cell_type": "code",
   "source": "pt = Vector(2, 3)",
   "id": "326d54ac316715f5",
   "outputs": [
    {
     "name": "stdout",
     "output_type": "stream",
     "text": [
      "5\n"
     ]
    }
   ],
   "execution_count": 10
  },
  {
   "metadata": {
    "ExecuteTime": {
     "end_time": "2024-10-01T08:30:06.268677Z",
     "start_time": "2024-10-01T08:30:06.265145Z"
    }
   },
   "cell_type": "code",
   "source": "pt.validate(3)",
   "id": "873ea7c6ff35f687",
   "outputs": [
    {
     "data": {
      "text/plain": [
       "'Good'"
      ]
     },
     "execution_count": 17,
     "metadata": {},
     "output_type": "execute_result"
    }
   ],
   "execution_count": 17
  },
  {
   "metadata": {},
   "cell_type": "markdown",
   "source": "### Подвиг 6. В программе предполагается реализовать парсер (обработчик) строки с данными string в определенный выходной формат",
   "id": "6cfae120102f5c33"
  },
  {
   "metadata": {
    "ExecuteTime": {
     "end_time": "2024-09-30T14:12:16.678805Z",
     "start_time": "2024-09-30T14:12:16.674530Z"
    }
   },
   "cell_type": "code",
   "source": [
    "class Factory:\n",
    "    @staticmethod\n",
    "    def build_sequence():\n",
    "        return list()\n",
    "    \n",
    "    @staticmethod\n",
    "    def build_number(string):\n",
    "        return int(string)"
   ],
   "id": "ca841441b953799a",
   "outputs": [],
   "execution_count": 18
  },
  {
   "metadata": {
    "ExecuteTime": {
     "end_time": "2024-09-30T14:12:17.847476Z",
     "start_time": "2024-09-30T14:12:17.844057Z"
    }
   },
   "cell_type": "code",
   "source": [
    "class Loader:\n",
    "    @staticmethod\n",
    "    def parse_format(string, factory):\n",
    "        seq = factory.build_sequence()\n",
    "        for sub in string.split(\",\"):\n",
    "            item = factory.build_number(sub)\n",
    "            seq.append(item)\n",
    "\n",
    "        return seq"
   ],
   "id": "977808c11a353c30",
   "outputs": [],
   "execution_count": 19
  },
  {
   "metadata": {
    "ExecuteTime": {
     "end_time": "2024-09-30T14:12:18.166751Z",
     "start_time": "2024-09-30T14:12:18.163984Z"
    }
   },
   "cell_type": "code",
   "source": "res = Loader.parse_format(\"4, 5, -6\", Factory)  # [4, 5, -6]",
   "id": "2e6d0c7e0782960f",
   "outputs": [],
   "execution_count": 20
  },
  {
   "metadata": {
    "ExecuteTime": {
     "end_time": "2024-09-30T14:12:20.427592Z",
     "start_time": "2024-09-30T14:12:20.423592Z"
    }
   },
   "cell_type": "code",
   "source": "res",
   "id": "9663a8e2b961a293",
   "outputs": [
    {
     "data": {
      "text/plain": [
       "[4, 5, -6]"
      ]
     },
     "execution_count": 21,
     "metadata": {},
     "output_type": "execute_result"
    }
   ],
   "execution_count": 21
  },
  {
   "metadata": {},
   "cell_type": "markdown",
   "source": [
    "### Подвиг 7. Форма ввода логин/пароль\n",
    "https://stepik.org/lesson/701978/step/9?unit=702079"
   ],
   "id": "a1b1d1f1eabbb623"
  },
  {
   "metadata": {
    "ExecuteTime": {
     "end_time": "2024-10-01T11:55:42.768254Z",
     "start_time": "2024-10-01T11:55:42.765010Z"
    }
   },
   "cell_type": "code",
   "source": [
    "import re\n",
    "from string import ascii_lowercase, digits"
   ],
   "id": "b682a9072451b97d",
   "outputs": [],
   "execution_count": 145
  },
  {
   "metadata": {
    "ExecuteTime": {
     "end_time": "2024-10-01T11:58:54.179530Z",
     "start_time": "2024-10-01T11:58:54.175036Z"
    }
   },
   "cell_type": "code",
   "source": [
    "class TextInput:\n",
    "    CHARS = \"абвгдеёжзийклмнопрстуфхцчшщьыъэюя \" + ascii_lowercase\n",
    "    CHARS_CORRECT = CHARS + CHARS.upper() + digits\n",
    "    \n",
    "    @classmethod\n",
    "    def check_name(cls, name):\n",
    "        if 3 <= len(name) <= 50 and all([i in cls.CHARS_CORRECT for i in name]):\n",
    "            pass\n",
    "        else:\n",
    "            raise ValueError(\"некорректное поле name\")\n",
    "    \n",
    "    def __init__(self, name, size=10):\n",
    "        self.check_name(name)\n",
    "        self.name = name\n",
    "        self.size = size\n",
    "    \n",
    "    def get_html(self):\n",
    "        return f\"<p class='login'>{self.name}: <input type='text' size={self.size} />\""
   ],
   "id": "1d01436127f79c7e",
   "outputs": [],
   "execution_count": 154
  },
  {
   "metadata": {
    "ExecuteTime": {
     "end_time": "2024-10-01T11:58:54.866968Z",
     "start_time": "2024-10-01T11:58:54.861320Z"
    }
   },
   "cell_type": "code",
   "source": [
    "class PasswordInput:\n",
    "    CHARS = \"абвгдеёжзийклмнопрстуфхцчшщьыъэюя \" + ascii_lowercase\n",
    "    CHARS_CORRECT = CHARS + CHARS.upper() + digits\n",
    "    \n",
    "    @classmethod\n",
    "    def check_name(cls, name):\n",
    "        if 3 <= len(name) <= 50 and all([i in cls.CHARS_CORRECT for i in name]):\n",
    "            pass\n",
    "        else:\n",
    "            raise ValueError(\"некорректное поле name\")        \n",
    "        \n",
    "    def __init__(self, name, size=10):\n",
    "        self.check_name(name)\n",
    "        self.name = name\n",
    "        self.size = size\n",
    "        \n",
    "    def get_html(self):    \n",
    "        return f\"<p class='password'>{self.name}: <input type='text' size={self.size} />\""
   ],
   "id": "1337abaaefb14046",
   "outputs": [],
   "execution_count": 155
  },
  {
   "metadata": {
    "ExecuteTime": {
     "end_time": "2024-10-01T11:58:55.552080Z",
     "start_time": "2024-10-01T11:58:55.548072Z"
    }
   },
   "cell_type": "code",
   "source": [
    "class FormLogin:\n",
    "    def __init__(self, lgn, psw):\n",
    "        self.login = lgn\n",
    "        self.password = psw\n",
    "\n",
    "    def render_template(self):\n",
    "        return \"\\n\".join(['<form action=\"#\">', self.login.get_html(), self.password.get_html(), '</form>'])"
   ],
   "id": "e40307833cc111e8",
   "outputs": [],
   "execution_count": 156
  },
  {
   "metadata": {
    "ExecuteTime": {
     "end_time": "2024-10-01T11:58:56.032771Z",
     "start_time": "2024-10-01T11:58:56.028618Z"
    }
   },
   "cell_type": "code",
   "source": [
    "login = FormLogin(TextInput(\"Логин\"), PasswordInput(\"Пароль\"))\n",
    "html = login.render_template()"
   ],
   "id": "d4da235e0b30821a",
   "outputs": [],
   "execution_count": 157
  },
  {
   "metadata": {},
   "cell_type": "code",
   "outputs": [],
   "execution_count": 158,
   "source": "pt1 = TextInput(\"Логин\")",
   "id": "2bbff002947a64d6"
  },
  {
   "metadata": {},
   "cell_type": "markdown",
   "source": [
    "#### Подвиг 8. Проверка корректности информации на пластиковых картах\n",
    "https://stepik.org/lesson/701978/step/10?unit=702079"
   ],
   "id": "929607e5fcd57213"
  },
  {
   "metadata": {
    "ExecuteTime": {
     "end_time": "2024-10-01T13:21:01.566626Z",
     "start_time": "2024-10-01T13:21:01.563483Z"
    }
   },
   "cell_type": "code",
   "source": [
    "from string import ascii_lowercase, digits\n",
    "import re"
   ],
   "id": "a06d04fe677dcaee",
   "outputs": [],
   "execution_count": 191
  },
  {
   "metadata": {
    "ExecuteTime": {
     "end_time": "2024-10-01T13:27:33.405374Z",
     "start_time": "2024-10-01T13:27:33.401836Z"
    }
   },
   "cell_type": "code",
   "source": [
    "class CardCheck:\n",
    "    CHARS_FOR_NAME = ascii_lowercase.upper() + digits\n",
    "    @staticmethod\n",
    "    def check_card_number(number):\n",
    "        return bool(re.match(r'\\d{4}-\\d{4}-\\d{4}-\\d{4}', number))\n",
    "    \n",
    "    @staticmethod\n",
    "    def check_name(name):\n",
    "        return bool(re.match(r'[A-Z] [A-Z]', name))"
   ],
   "id": "cebd6b59ec2ce63d",
   "outputs": [],
   "execution_count": 203
  },
  {
   "metadata": {
    "ExecuteTime": {
     "end_time": "2024-10-01T13:21:03.205964Z",
     "start_time": "2024-10-01T13:21:03.203056Z"
    }
   },
   "cell_type": "code",
   "source": [
    "is_number = CardCheck.check_card_number(\"1234-5678-9012-0000\")\n",
    "is_name = CardCheck.check_name(\"SERGEI BALAKIRE1V\")"
   ],
   "id": "3f48de684d820869",
   "outputs": [],
   "execution_count": 193
  },
  {
   "metadata": {
    "ExecuteTime": {
     "end_time": "2024-10-01T13:08:31.406308Z",
     "start_time": "2024-10-01T13:08:31.403654Z"
    }
   },
   "cell_type": "code",
   "source": "CHARS_FOR_NAME = ascii_lowercase.upper() + digits",
   "id": "104806cbb6d9981c",
   "outputs": [],
   "execution_count": 163
  },
  {
   "metadata": {
    "ExecuteTime": {
     "end_time": "2024-10-01T13:08:35.943235Z",
     "start_time": "2024-10-01T13:08:35.940205Z"
    }
   },
   "cell_type": "code",
   "source": "CHARS_FOR_NAME",
   "id": "ddacb90b4447e4c",
   "outputs": [
    {
     "data": {
      "text/plain": [
       "'ABCDEFGHIJKLMNOPQRSTUVWXYZ0123456789'"
      ]
     },
     "execution_count": 164,
     "metadata": {},
     "output_type": "execute_result"
    }
   ],
   "execution_count": 164
  },
  {
   "metadata": {
    "ExecuteTime": {
     "end_time": "2024-10-01T13:25:19.797668Z",
     "start_time": "2024-10-01T13:25:19.794355Z"
    }
   },
   "cell_type": "code",
   "source": "stri = \"12394-5678-9012-0000\"",
   "id": "171046045871802a",
   "outputs": [],
   "execution_count": 198
  },
  {
   "metadata": {
    "ExecuteTime": {
     "end_time": "2024-10-01T13:11:36.650584Z",
     "start_time": "2024-10-01T13:11:36.647878Z"
    }
   },
   "cell_type": "code",
   "source": "import re",
   "id": "c4d0fe48712a900c",
   "outputs": [],
   "execution_count": 167
  },
  {
   "metadata": {
    "ExecuteTime": {
     "end_time": "2024-10-01T13:39:00.671522Z",
     "start_time": "2024-10-01T13:39:00.666294Z"
    }
   },
   "cell_type": "code",
   "source": "bool(re.fullmatch(r\"\\d{4}-\\d{4}-\\d{4}-\\d{4}\", \"1244-5678-9012-0000-5643\"))",
   "id": "d72bb79b0b461109",
   "outputs": [
    {
     "data": {
      "text/plain": [
       "False"
      ]
     },
     "execution_count": 213,
     "metadata": {},
     "output_type": "execute_result"
    }
   ],
   "execution_count": 213
  },
  {
   "metadata": {
    "ExecuteTime": {
     "end_time": "2024-10-01T13:27:35.951330Z",
     "start_time": "2024-10-01T13:27:35.946895Z"
    }
   },
   "cell_type": "code",
   "source": "print(CardCheck.check_name(\"SERGEI BALAKIREV\"))",
   "id": "46911668306b1a37",
   "outputs": [
    {
     "name": "stdout",
     "output_type": "stream",
     "text": [
      "False\n"
     ]
    }
   ],
   "execution_count": 204
  },
  {
   "metadata": {
    "ExecuteTime": {
     "end_time": "2024-10-01T13:49:04.561856Z",
     "start_time": "2024-10-01T13:49:04.557160Z"
    }
   },
   "cell_type": "code",
   "source": "bool(re.fullmatch(r'[A-Z]+ [A-Z]+', \"SERGEI BALAKIREV \"))",
   "id": "26f4d50f010a34cb",
   "outputs": [
    {
     "data": {
      "text/plain": [
       "False"
      ]
     },
     "execution_count": 227,
     "metadata": {},
     "output_type": "execute_result"
    }
   ],
   "execution_count": 227
  },
  {
   "metadata": {},
   "cell_type": "markdown",
   "source": [
    "#### Подвиг 9. Объявите в программе класс Video с двумя методами\n",
    "https://stepik.org/lesson/701978/step/11?unit=702079 <br> "
   ],
   "id": "8fa2650b79302150"
  },
  {
   "metadata": {
    "ExecuteTime": {
     "end_time": "2024-10-04T07:45:26.494652Z",
     "start_time": "2024-10-04T07:45:26.490628Z"
    }
   },
   "cell_type": "code",
   "source": [
    "class Video:\n",
    "    def create(self, name):\n",
    "        self.name = name\n",
    "    \n",
    "    def play(self):\n",
    "        print(f'воспроизведение видео {self.name}')"
   ],
   "id": "d26bc4849793c6d4",
   "outputs": [],
   "execution_count": 61
  },
  {
   "metadata": {
    "ExecuteTime": {
     "end_time": "2024-10-04T07:45:26.739937Z",
     "start_time": "2024-10-04T07:45:26.735119Z"
    }
   },
   "cell_type": "code",
   "source": [
    "class YouTube:\n",
    "    videos = []\n",
    "    @classmethod\n",
    "    def add_video(cls, video):\n",
    "        cls.videos.append(video) \n",
    "    \n",
    "    @classmethod\n",
    "    def play(cls, video_indx):\n",
    "        cls.videos[video_indx].play()"
   ],
   "id": "a35ed1b966409b72",
   "outputs": [],
   "execution_count": 62
  },
  {
   "metadata": {
    "ExecuteTime": {
     "end_time": "2024-10-04T07:45:26.948051Z",
     "start_time": "2024-10-04T07:45:26.944398Z"
    }
   },
   "cell_type": "code",
   "source": [
    "v1 = Video()\n",
    "v2 = Video()"
   ],
   "id": "9341e4dc0de3ce37",
   "outputs": [],
   "execution_count": 63
  },
  {
   "metadata": {
    "ExecuteTime": {
     "end_time": "2024-10-04T07:45:27.204628Z",
     "start_time": "2024-10-04T07:45:27.201671Z"
    }
   },
   "cell_type": "code",
   "source": [
    "v1.create('Python')\n",
    "v2.create('Python ООП')"
   ],
   "id": "ea1a3c973a92de62",
   "outputs": [],
   "execution_count": 64
  },
  {
   "metadata": {
    "ExecuteTime": {
     "end_time": "2024-10-04T07:45:27.480567Z",
     "start_time": "2024-10-04T07:45:27.477529Z"
    }
   },
   "cell_type": "code",
   "source": [
    "YouTube.add_video(v1)\n",
    "YouTube.add_video(v2)"
   ],
   "id": "a831f4b330ada556",
   "outputs": [],
   "execution_count": 65
  },
  {
   "metadata": {
    "ExecuteTime": {
     "end_time": "2024-10-04T07:45:27.762047Z",
     "start_time": "2024-10-04T07:45:27.757859Z"
    }
   },
   "cell_type": "code",
   "source": "YouTube.play(0)",
   "id": "ee55c8565d037ec6",
   "outputs": [
    {
     "name": "stdout",
     "output_type": "stream",
     "text": [
      "воспроизведение видео Python\n"
     ]
    }
   ],
   "execution_count": 66
  },
  {
   "metadata": {
    "ExecuteTime": {
     "end_time": "2024-10-04T07:45:28.085862Z",
     "start_time": "2024-10-04T07:45:28.081760Z"
    }
   },
   "cell_type": "code",
   "source": "YouTube.play(1)",
   "id": "dc5a1153beef0387",
   "outputs": [
    {
     "name": "stdout",
     "output_type": "stream",
     "text": [
      "воспроизведение видео Python ООП\n"
     ]
    }
   ],
   "execution_count": 67
  },
  {
   "metadata": {},
   "cell_type": "markdown",
   "source": [
    "### Подвиг 10 (на повторение). Объявите класс AppStore - интернет-магазин приложений для устройств под iOS. В этом классе должны быть реализованы следующие методы\n",
    "https://stepik.org/lesson/701978/step/12?unit=702079"
   ],
   "id": "3e6cc8b4ba3dc77d"
  },
  {
   "metadata": {
    "ExecuteTime": {
     "end_time": "2024-10-04T13:08:42.665011Z",
     "start_time": "2024-10-04T13:08:42.660922Z"
    }
   },
   "cell_type": "code",
   "source": [
    "class AppStore:\n",
    "    app_db = list()\n",
    "    def add_application(self, app):     \n",
    "        AppStore.app_db.append(app)\n",
    "    \n",
    "    def remove_application(self, app):        \n",
    "        AppStore.app_db.remove(app)\n",
    "    \n",
    "    def block_application(self, app):        \n",
    "        index = AppStore.app_db.index(app)\n",
    "        AppStore.app_db[index].blocked = True\n",
    "    \n",
    "    def total_apps(self):\n",
    "        return len(AppStore.app_db)"
   ],
   "id": "96afae708cc6b32b",
   "outputs": [],
   "execution_count": 48
  },
  {
   "metadata": {
    "ExecuteTime": {
     "end_time": "2024-10-04T13:08:43.022989Z",
     "start_time": "2024-10-04T13:08:43.020559Z"
    }
   },
   "cell_type": "code",
   "source": [
    "class Application:\n",
    "    def __init__(self, name, blocked=False):\n",
    "        self.name = name\n",
    "        self.blocked = blocked"
   ],
   "id": "8e0639785cff2171",
   "outputs": [],
   "execution_count": 49
  },
  {
   "metadata": {
    "ExecuteTime": {
     "end_time": "2024-10-04T13:08:43.477171Z",
     "start_time": "2024-10-04T13:08:43.474431Z"
    }
   },
   "cell_type": "code",
   "source": [
    "store = AppStore()\n",
    "app_youtube = Application(\"Youtube\")\n",
    "app_twich = Application(\"Twich\")"
   ],
   "id": "42ca4a221a0fe121",
   "outputs": [],
   "execution_count": 50
  },
  {
   "metadata": {
    "ExecuteTime": {
     "end_time": "2024-10-04T13:08:44.854751Z",
     "start_time": "2024-10-04T13:08:44.851137Z"
    }
   },
   "cell_type": "code",
   "source": [
    "store.add_application(app_youtube)\n",
    "store.add_application(app_twich)"
   ],
   "id": "5bec788fc17e1c79",
   "outputs": [],
   "execution_count": 51
  },
  {
   "metadata": {
    "ExecuteTime": {
     "end_time": "2024-10-04T13:09:03.026659Z",
     "start_time": "2024-10-04T13:09:03.023871Z"
    }
   },
   "cell_type": "code",
   "source": "store.remove_application(app_youtube)",
   "id": "2ee385d40b3262b3",
   "outputs": [],
   "execution_count": 52
  },
  {
   "metadata": {
    "ExecuteTime": {
     "end_time": "2024-10-04T13:09:36.414162Z",
     "start_time": "2024-10-04T13:09:36.411014Z"
    }
   },
   "cell_type": "code",
   "source": "store.block_application(app_twich)",
   "id": "da12e806335f79eb",
   "outputs": [],
   "execution_count": 53
  },
  {
   "metadata": {
    "ExecuteTime": {
     "end_time": "2024-10-04T13:10:20.121741Z",
     "start_time": "2024-10-04T13:10:20.117590Z"
    }
   },
   "cell_type": "code",
   "source": "store.total_apps()",
   "id": "59772307bb0ca41b",
   "outputs": [
    {
     "data": {
      "text/plain": [
       "1"
      ]
     },
     "execution_count": 56,
     "metadata": {},
     "output_type": "execute_result"
    }
   ],
   "execution_count": 56
  },
  {
   "metadata": {},
   "cell_type": "code",
   "outputs": [],
   "execution_count": null,
   "source": "",
   "id": "f99064616db2bcf4"
  }
 ],
 "metadata": {
  "kernelspec": {
   "display_name": "Python 3",
   "language": "python",
   "name": "python3"
  },
  "language_info": {
   "codemirror_mode": {
    "name": "ipython",
    "version": 2
   },
   "file_extension": ".py",
   "mimetype": "text/x-python",
   "name": "python",
   "nbconvert_exporter": "python",
   "pygments_lexer": "ipython2",
   "version": "2.7.6"
  }
 },
 "nbformat": 4,
 "nbformat_minor": 5
}
