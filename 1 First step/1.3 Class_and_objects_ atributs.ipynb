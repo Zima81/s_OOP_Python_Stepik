{
 "cells": [
  {
   "metadata": {
    "ExecuteTime": {
     "end_time": "2024-08-30T08:26:30.029875Z",
     "start_time": "2024-08-30T08:26:30.026935Z"
    }
   },
   "cell_type": "code",
   "source": [
    "class Notes:    \n",
    "    uid = 1005435\n",
    "    title = \"Шутка\"\n",
    "    author = \"И.С. Бах\"\n",
    "    pages = 2"
   ],
   "id": "25fc2fe2984c4e8c",
   "execution_count": 2,
   "outputs": []
  },
  {
   "metadata": {
    "ExecuteTime": {
     "end_time": "2024-08-30T08:27:43.992459Z",
     "start_time": "2024-08-30T08:27:43.989127Z"
    }
   },
   "cell_type": "code",
   "source": "print(getattr(Notes, 'author'))",
   "id": "4e506f14078d2fca",
   "execution_count": 4,
   "outputs": []
  },
  {
   "metadata": {
    "ExecuteTime": {
     "end_time": "2024-08-30T08:33:27.011875Z",
     "start_time": "2024-08-30T08:33:27.001158Z"
    }
   },
   "cell_type": "code",
   "source": [
    "class Dictionary:\n",
    "    rus = \"Питон\"\n",
    "    eng = \"Python\""
   ],
   "id": "35011488d01dabfe",
   "execution_count": 1,
   "outputs": []
  },
  {
   "metadata": {
    "ExecuteTime": {
     "end_time": "2024-08-30T08:34:18.997415Z",
     "start_time": "2024-08-30T08:34:18.994522Z"
    }
   },
   "cell_type": "code",
   "source": "print(getattr(Dictionary, 'rus_word', False))",
   "id": "db2e9255770ee83",
   "execution_count": 4,
   "outputs": []
  },
  {
   "metadata": {
    "ExecuteTime": {
     "end_time": "2024-08-30T08:41:16.907335Z",
     "start_time": "2024-08-30T08:41:16.904766Z"
    }
   },
   "cell_type": "code",
   "source": [
    "class TravelBlog:\n",
    "    total_blogs = 0"
   ],
   "id": "a3c43bca2961583c",
   "execution_count": 5,
   "outputs": []
  },
  {
   "metadata": {
    "ExecuteTime": {
     "end_time": "2024-08-30T08:41:34.438923Z",
     "start_time": "2024-08-30T08:41:34.436656Z"
    }
   },
   "cell_type": "code",
   "source": "tb1 = TravelBlog()",
   "id": "57c2d7d4ef1c7a95",
   "execution_count": 6,
   "outputs": []
  },
  {
   "metadata": {
    "ExecuteTime": {
     "end_time": "2024-08-30T08:46:22.843386Z",
     "start_time": "2024-08-30T08:46:22.840756Z"
    }
   },
   "cell_type": "code",
   "source": [
    "tb1.name = 'Франция'\n",
    "tb1.days = 6"
   ],
   "id": "b615c631041a9066",
   "execution_count": 7,
   "outputs": []
  },
  {
   "metadata": {
    "ExecuteTime": {
     "end_time": "2024-08-30T08:46:35.835395Z",
     "start_time": "2024-08-30T08:46:35.832682Z"
    }
   },
   "cell_type": "code",
   "source": "TravelBlog.total_blogs += 1",
   "id": "88cc5316b7e141d3",
   "execution_count": 8,
   "outputs": []
  },
  {
   "metadata": {
    "ExecuteTime": {
     "end_time": "2024-08-30T08:47:53.954998Z",
     "start_time": "2024-08-30T08:47:53.952237Z"
    }
   },
   "cell_type": "code",
   "source": "tb2 = TravelBlog()",
   "id": "9d88ddea65fb5af1",
   "execution_count": 9,
   "outputs": []
  },
  {
   "metadata": {
    "ExecuteTime": {
     "end_time": "2024-08-30T08:48:28.381776Z",
     "start_time": "2024-08-30T08:48:28.379157Z"
    }
   },
   "cell_type": "code",
   "source": [
    "tb2.name = 'Италия'\n",
    "tb2.days = 5"
   ],
   "id": "f5f0baf3be7341ea",
   "execution_count": 10,
   "outputs": []
  },
  {
   "metadata": {
    "ExecuteTime": {
     "end_time": "2024-08-30T08:48:41.267738Z",
     "start_time": "2024-08-30T08:48:41.265098Z"
    }
   },
   "cell_type": "code",
   "source": "TravelBlog.total_blogs += 1",
   "id": "73bf84df78f36b11",
   "execution_count": 11,
   "outputs": []
  },
  {
   "metadata": {
    "ExecuteTime": {
     "end_time": "2024-08-30T09:44:23.334633Z",
     "start_time": "2024-08-30T09:44:23.331085Z"
    }
   },
   "cell_type": "code",
   "source": [
    "class Figure:\n",
    "    type_fig = 'ellipse'\n",
    "    color = 'red'"
   ],
   "id": "f5094a5f08e9d03a",
   "execution_count": 76,
   "outputs": []
  },
  {
   "metadata": {
    "ExecuteTime": {
     "end_time": "2024-08-30T09:44:23.635749Z",
     "start_time": "2024-08-30T09:44:23.633035Z"
    }
   },
   "cell_type": "code",
   "source": "fig1 = Figure()",
   "id": "4a397cd71163852d",
   "execution_count": 77,
   "outputs": []
  },
  {
   "metadata": {
    "ExecuteTime": {
     "end_time": "2024-08-30T09:44:23.965293Z",
     "start_time": "2024-08-30T09:44:23.961600Z"
    }
   },
   "cell_type": "code",
   "source": [
    "fig1.start_pt = (10, 5)\n",
    "fig1.end_pt = (100, 20)\n",
    "fig1.color = 'blue'"
   ],
   "id": "ddb9441b9d4b649f",
   "execution_count": 78,
   "outputs": []
  },
  {
   "metadata": {
    "ExecuteTime": {
     "end_time": "2024-08-30T09:44:24.435523Z",
     "start_time": "2024-08-30T09:44:24.432045Z"
    }
   },
   "cell_type": "code",
   "source": "delattr(fig1, 'color')",
   "id": "64504ee207db57c3",
   "execution_count": 79,
   "outputs": []
  },
  {
   "metadata": {
    "ExecuteTime": {
     "end_time": "2024-08-30T09:44:25.034514Z",
     "start_time": "2024-08-30T09:44:25.030969Z"
    }
   },
   "cell_type": "code",
   "source": "print(*fig1.__dict__.keys())",
   "id": "5b4e16b1fb801a37",
   "execution_count": 80,
   "outputs": []
  },
  {
   "metadata": {
    "ExecuteTime": {
     "end_time": "2024-08-30T09:53:30.714216Z",
     "start_time": "2024-08-30T09:53:30.710521Z"
    }
   },
   "cell_type": "code",
   "source": [
    "class Person:\n",
    "    name = 'Сергей Балакирев'\n",
    "    job = 'Программист'\n",
    "    city = 'Москва'"
   ],
   "id": "abb3467f8dad41d9",
   "execution_count": 82,
   "outputs": []
  },
  {
   "metadata": {
    "ExecuteTime": {
     "end_time": "2024-08-30T09:53:38.854395Z",
     "start_time": "2024-08-30T09:53:38.851715Z"
    }
   },
   "cell_type": "code",
   "source": "p1 = Person()",
   "id": "697a7a6750a1ac22",
   "execution_count": 83,
   "outputs": []
  },
  {
   "metadata": {
    "ExecuteTime": {
     "end_time": "2024-08-30T12:03:17.142199Z",
     "start_time": "2024-08-30T12:03:17.138595Z"
    }
   },
   "cell_type": "code",
   "source": "p1.job = 'life'",
   "id": "70b1e9f337749c31",
   "execution_count": 104,
   "outputs": []
  },
  {
   "metadata": {
    "ExecuteTime": {
     "end_time": "2024-08-30T12:13:16.258012Z",
     "start_time": "2024-08-30T12:13:16.252977Z"
    }
   },
   "cell_type": "code",
   "source": "Person.__dict__",
   "id": "170a266b4d9bf05e",
   "execution_count": 108,
   "outputs": []
  },
  {
   "metadata": {
    "ExecuteTime": {
     "end_time": "2024-08-30T12:23:09.665698Z",
     "start_time": "2024-08-30T12:23:09.662806Z"
    }
   },
   "cell_type": "code",
   "source": "print('job' in p1.__dict__)",
   "id": "7614ef4fb3709777",
   "execution_count": 116,
   "outputs": []
  },
  {
   "metadata": {
    "ExecuteTime": {
     "end_time": "2024-08-30T12:22:38.881912Z",
     "start_time": "2024-08-30T12:22:38.877141Z"
    }
   },
   "cell_type": "code",
   "source": "dir(p1)",
   "id": "38f94d64cc4f19d7",
   "execution_count": 115,
   "outputs": []
  },
  {
   "metadata": {
    "ExecuteTime": {
     "end_time": "2024-08-30T12:25:00.401198Z",
     "start_time": "2024-08-30T12:25:00.396675Z"
    }
   },
   "cell_type": "code",
   "source": "hasattr(p1.__dict__, 'job')",
   "id": "c91082a277a031e5",
   "execution_count": 118,
   "outputs": []
  },
  {
   "metadata": {
    "ExecuteTime": {
     "end_time": "2024-08-30T12:35:21.913307Z",
     "start_time": "2024-08-30T12:35:21.910456Z"
    }
   },
   "cell_type": "code",
   "source": [
    "try:\n",
    "    p1.__dict__['job']\n",
    "    print(True)\n",
    "except Exception:\n",
    "    print(False)"
   ],
   "id": "eb56ca029b41e73",
   "execution_count": 143,
   "outputs": []
  },
  {
   "metadata": {
    "ExecuteTime": {
     "end_time": "2024-08-30T12:33:13.258822Z",
     "start_time": "2024-08-30T12:33:13.253637Z"
    }
   },
   "cell_type": "code",
   "source": " Person.__dict__.keys()",
   "id": "ae36923c5a6107bd",
   "execution_count": 135,
   "outputs": []
  },
  {
   "metadata": {
    "ExecuteTime": {
     "end_time": "2024-08-30T12:33:31.219265Z",
     "start_time": "2024-08-30T12:33:31.215955Z"
    }
   },
   "cell_type": "code",
   "source": "a = {'one': 1, 'two': 2, 'three': 3}",
   "id": "6d873aacb85a16c8",
   "execution_count": 137,
   "outputs": []
  },
  {
   "metadata": {
    "ExecuteTime": {
     "end_time": "2024-08-30T12:37:16.285470Z",
     "start_time": "2024-08-30T12:37:16.282999Z"
    }
   },
   "cell_type": "code",
   "source": "p1.job = 'Dev'",
   "id": "bafdf4b852ed63c7",
   "execution_count": 146,
   "outputs": []
  },
  {
   "metadata": {
    "ExecuteTime": {
     "end_time": "2024-08-30T12:37:16.653673Z",
     "start_time": "2024-08-30T12:37:16.651284Z"
    }
   },
   "cell_type": "code",
   "source": "p1.__dict__.get('job', False)",
   "id": "b2ba18a5eb1476b4",
   "execution_count": 147,
   "outputs": []
  },
  {
   "metadata": {
    "ExecuteTime": {
     "end_time": "2024-08-30T12:53:05.707850Z",
     "start_time": "2024-08-30T12:53:05.703082Z"
    }
   },
   "cell_type": "code",
   "source": "vars(p1)",
   "id": "73bec84110ec43d3",
   "execution_count": 148,
   "outputs": []
  },
  {
   "metadata": {
    "ExecuteTime": {
     "end_time": "2024-08-30T12:54:03.623511Z",
     "start_time": "2024-08-30T12:54:03.619391Z"
    }
   },
   "cell_type": "code",
   "source": "p1.__dict__",
   "id": "c29dd7f434d6fa9b",
   "execution_count": 149,
   "outputs": []
  },
  {
   "metadata": {
    "ExecuteTime": {
     "end_time": "2024-08-30T12:54:22.251538Z",
     "start_time": "2024-08-30T12:54:22.249101Z"
    }
   },
   "cell_type": "code",
   "source": "p1.__dir__()",
   "id": "b2c5dea192d43687",
   "execution_count": 150,
   "outputs": []
  },
  {
   "metadata": {},
   "cell_type": "code",
   "execution_count": null,
   "source": "",
   "id": "2bd75d8dde89238e",
   "outputs": []
  }
 ],
 "metadata": {
  "kernelspec": {
   "display_name": "Python 3",
   "language": "python",
   "name": "python3"
  },
  "language_info": {
   "codemirror_mode": {
    "name": "ipython",
    "version": 2
   },
   "file_extension": ".py",
   "mimetype": "text/x-python",
   "name": "python",
   "nbconvert_exporter": "python",
   "pygments_lexer": "ipython2",
   "version": "2.7.6"
  }
 },
 "nbformat": 4,
 "nbformat_minor": 5
}
