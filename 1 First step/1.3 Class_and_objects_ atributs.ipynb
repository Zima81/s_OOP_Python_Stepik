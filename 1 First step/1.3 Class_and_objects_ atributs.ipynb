{
 "cells": [
  {
   "metadata": {
    "ExecuteTime": {
     "end_time": "2024-08-30T08:26:30.029875Z",
     "start_time": "2024-08-30T08:26:30.026935Z"
    }
   },
   "cell_type": "code",
   "source": [
    "class Notes:    \n",
    "    uid = 1005435\n",
    "    title = \"Шутка\"\n",
    "    author = \"И.С. Бах\"\n",
    "    pages = 2"
   ],
   "id": "25fc2fe2984c4e8c",
   "outputs": [],
   "execution_count": 2
  },
  {
   "metadata": {
    "ExecuteTime": {
     "end_time": "2024-08-30T08:27:43.992459Z",
     "start_time": "2024-08-30T08:27:43.989127Z"
    }
   },
   "cell_type": "code",
   "source": "print(getattr(Notes, 'author'))",
   "id": "4e506f14078d2fca",
   "outputs": [
    {
     "name": "stdout",
     "output_type": "stream",
     "text": [
      "И.С. Бах\n"
     ]
    }
   ],
   "execution_count": 4
  },
  {
   "metadata": {
    "ExecuteTime": {
     "end_time": "2024-08-30T08:33:27.011875Z",
     "start_time": "2024-08-30T08:33:27.001158Z"
    }
   },
   "cell_type": "code",
   "source": [
    "class Dictionary:\n",
    "    rus = \"Питон\"\n",
    "    eng = \"Python\""
   ],
   "id": "35011488d01dabfe",
   "outputs": [],
   "execution_count": 1
  },
  {
   "metadata": {
    "ExecuteTime": {
     "end_time": "2024-08-30T08:34:18.997415Z",
     "start_time": "2024-08-30T08:34:18.994522Z"
    }
   },
   "cell_type": "code",
   "source": "print(getattr(Dictionary, 'rus_word', False))",
   "id": "db2e9255770ee83",
   "outputs": [
    {
     "name": "stdout",
     "output_type": "stream",
     "text": [
      "False\n"
     ]
    }
   ],
   "execution_count": 4
  },
  {
   "metadata": {
    "ExecuteTime": {
     "end_time": "2024-08-30T08:41:16.907335Z",
     "start_time": "2024-08-30T08:41:16.904766Z"
    }
   },
   "cell_type": "code",
   "source": [
    "class TravelBlog:\n",
    "    total_blogs = 0"
   ],
   "id": "a3c43bca2961583c",
   "outputs": [],
   "execution_count": 5
  },
  {
   "metadata": {
    "ExecuteTime": {
     "end_time": "2024-08-30T08:41:34.438923Z",
     "start_time": "2024-08-30T08:41:34.436656Z"
    }
   },
   "cell_type": "code",
   "source": "tb1 = TravelBlog()",
   "id": "57c2d7d4ef1c7a95",
   "outputs": [],
   "execution_count": 6
  },
  {
   "metadata": {
    "ExecuteTime": {
     "end_time": "2024-08-30T08:46:22.843386Z",
     "start_time": "2024-08-30T08:46:22.840756Z"
    }
   },
   "cell_type": "code",
   "source": [
    "tb1.name = 'Франция'\n",
    "tb1.days = 6"
   ],
   "id": "b615c631041a9066",
   "outputs": [],
   "execution_count": 7
  },
  {
   "metadata": {
    "ExecuteTime": {
     "end_time": "2024-08-30T08:46:35.835395Z",
     "start_time": "2024-08-30T08:46:35.832682Z"
    }
   },
   "cell_type": "code",
   "source": "TravelBlog.total_blogs += 1",
   "id": "88cc5316b7e141d3",
   "outputs": [],
   "execution_count": 8
  },
  {
   "metadata": {
    "ExecuteTime": {
     "end_time": "2024-08-30T08:47:53.954998Z",
     "start_time": "2024-08-30T08:47:53.952237Z"
    }
   },
   "cell_type": "code",
   "source": "tb2 = TravelBlog()",
   "id": "9d88ddea65fb5af1",
   "outputs": [],
   "execution_count": 9
  },
  {
   "metadata": {
    "ExecuteTime": {
     "end_time": "2024-08-30T08:48:28.381776Z",
     "start_time": "2024-08-30T08:48:28.379157Z"
    }
   },
   "cell_type": "code",
   "source": [
    "tb2.name = 'Италия'\n",
    "tb2.days = 5"
   ],
   "id": "f5f0baf3be7341ea",
   "outputs": [],
   "execution_count": 10
  },
  {
   "metadata": {
    "ExecuteTime": {
     "end_time": "2024-08-30T08:48:41.267738Z",
     "start_time": "2024-08-30T08:48:41.265098Z"
    }
   },
   "cell_type": "code",
   "source": "TravelBlog.total_blogs += 1",
   "id": "73bf84df78f36b11",
   "outputs": [],
   "execution_count": 11
  },
  {
   "metadata": {
    "ExecuteTime": {
     "end_time": "2024-08-30T09:44:23.334633Z",
     "start_time": "2024-08-30T09:44:23.331085Z"
    }
   },
   "cell_type": "code",
   "source": [
    "class Figure:\n",
    "    type_fig = 'ellipse'\n",
    "    color = 'red'"
   ],
   "id": "f5094a5f08e9d03a",
   "outputs": [],
   "execution_count": 76
  },
  {
   "metadata": {
    "ExecuteTime": {
     "end_time": "2024-08-30T09:44:23.635749Z",
     "start_time": "2024-08-30T09:44:23.633035Z"
    }
   },
   "cell_type": "code",
   "source": "fig1 = Figure()",
   "id": "4a397cd71163852d",
   "outputs": [],
   "execution_count": 77
  },
  {
   "metadata": {
    "ExecuteTime": {
     "end_time": "2024-08-30T09:44:23.965293Z",
     "start_time": "2024-08-30T09:44:23.961600Z"
    }
   },
   "cell_type": "code",
   "source": [
    "fig1.start_pt = (10, 5)\n",
    "fig1.end_pt = (100, 20)\n",
    "fig1.color = 'blue'"
   ],
   "id": "ddb9441b9d4b649f",
   "outputs": [],
   "execution_count": 78
  },
  {
   "metadata": {
    "ExecuteTime": {
     "end_time": "2024-08-30T09:44:24.435523Z",
     "start_time": "2024-08-30T09:44:24.432045Z"
    }
   },
   "cell_type": "code",
   "source": "delattr(fig1, 'color')",
   "id": "64504ee207db57c3",
   "outputs": [],
   "execution_count": 79
  },
  {
   "metadata": {
    "ExecuteTime": {
     "end_time": "2024-08-30T09:44:25.034514Z",
     "start_time": "2024-08-30T09:44:25.030969Z"
    }
   },
   "cell_type": "code",
   "source": "print(*fig1.__dict__.keys())",
   "id": "5b4e16b1fb801a37",
   "outputs": [
    {
     "name": "stdout",
     "output_type": "stream",
     "text": [
      "start_pt end_pt\n"
     ]
    }
   ],
   "execution_count": 80
  },
  {
   "metadata": {
    "ExecuteTime": {
     "end_time": "2024-08-30T09:53:30.714216Z",
     "start_time": "2024-08-30T09:53:30.710521Z"
    }
   },
   "cell_type": "code",
   "source": [
    "class Person:\n",
    "    name = 'Сергей Балакирев'\n",
    "    job = 'Программист'\n",
    "    city = 'Москва'"
   ],
   "id": "abb3467f8dad41d9",
   "outputs": [],
   "execution_count": 82
  },
  {
   "metadata": {
    "ExecuteTime": {
     "end_time": "2024-08-30T09:53:38.854395Z",
     "start_time": "2024-08-30T09:53:38.851715Z"
    }
   },
   "cell_type": "code",
   "source": "p1 = Person()",
   "id": "697a7a6750a1ac22",
   "outputs": [],
   "execution_count": 83
  },
  {
   "metadata": {
    "ExecuteTime": {
     "end_time": "2024-08-30T12:03:17.142199Z",
     "start_time": "2024-08-30T12:03:17.138595Z"
    }
   },
   "cell_type": "code",
   "source": "p1.job = 'life'",
   "id": "70b1e9f337749c31",
   "outputs": [],
   "execution_count": 104
  },
  {
   "metadata": {
    "ExecuteTime": {
     "end_time": "2024-08-30T12:13:16.258012Z",
     "start_time": "2024-08-30T12:13:16.252977Z"
    }
   },
   "cell_type": "code",
   "source": "Person.__dict__",
   "id": "170a266b4d9bf05e",
   "outputs": [
    {
     "data": {
      "text/plain": [
       "mappingproxy({'__module__': '__main__',\n",
       "              'name': 'Сергей Балакирев',\n",
       "              'job': 'Программист',\n",
       "              'city': 'Москва',\n",
       "              '__dict__': <attribute '__dict__' of 'Person' objects>,\n",
       "              '__weakref__': <attribute '__weakref__' of 'Person' objects>,\n",
       "              '__doc__': None})"
      ]
     },
     "execution_count": 108,
     "metadata": {},
     "output_type": "execute_result"
    }
   ],
   "execution_count": 108
  },
  {
   "metadata": {
    "ExecuteTime": {
     "end_time": "2024-08-30T12:23:09.665698Z",
     "start_time": "2024-08-30T12:23:09.662806Z"
    }
   },
   "cell_type": "code",
   "source": "print('job' in p1.__dict__)",
   "id": "7614ef4fb3709777",
   "outputs": [
    {
     "name": "stdout",
     "output_type": "stream",
     "text": [
      "False\n"
     ]
    }
   ],
   "execution_count": 116
  },
  {
   "metadata": {
    "ExecuteTime": {
     "end_time": "2024-08-30T12:22:38.881912Z",
     "start_time": "2024-08-30T12:22:38.877141Z"
    }
   },
   "cell_type": "code",
   "source": "dir(p1)",
   "id": "38f94d64cc4f19d7",
   "outputs": [
    {
     "data": {
      "text/plain": [
       "['__class__',\n",
       " '__delattr__',\n",
       " '__dict__',\n",
       " '__dir__',\n",
       " '__doc__',\n",
       " '__eq__',\n",
       " '__format__',\n",
       " '__ge__',\n",
       " '__getattribute__',\n",
       " '__getstate__',\n",
       " '__gt__',\n",
       " '__hash__',\n",
       " '__init__',\n",
       " '__init_subclass__',\n",
       " '__le__',\n",
       " '__lt__',\n",
       " '__module__',\n",
       " '__ne__',\n",
       " '__new__',\n",
       " '__reduce__',\n",
       " '__reduce_ex__',\n",
       " '__repr__',\n",
       " '__setattr__',\n",
       " '__sizeof__',\n",
       " '__str__',\n",
       " '__subclasshook__',\n",
       " '__weakref__',\n",
       " 'city',\n",
       " 'job',\n",
       " 'name']"
      ]
     },
     "execution_count": 115,
     "metadata": {},
     "output_type": "execute_result"
    }
   ],
   "execution_count": 115
  },
  {
   "metadata": {
    "ExecuteTime": {
     "end_time": "2024-08-30T12:25:00.401198Z",
     "start_time": "2024-08-30T12:25:00.396675Z"
    }
   },
   "cell_type": "code",
   "source": "hasattr(p1.__dict__, 'job')",
   "id": "c91082a277a031e5",
   "outputs": [
    {
     "data": {
      "text/plain": [
       "False"
      ]
     },
     "execution_count": 118,
     "metadata": {},
     "output_type": "execute_result"
    }
   ],
   "execution_count": 118
  },
  {
   "metadata": {
    "ExecuteTime": {
     "end_time": "2024-08-30T12:35:21.913307Z",
     "start_time": "2024-08-30T12:35:21.910456Z"
    }
   },
   "cell_type": "code",
   "source": [
    "try:\n",
    "    p1.__dict__['job']\n",
    "    print(True)\n",
    "except Exception:\n",
    "    print(False)"
   ],
   "id": "eb56ca029b41e73",
   "outputs": [
    {
     "name": "stdout",
     "output_type": "stream",
     "text": [
      "False\n"
     ]
    }
   ],
   "execution_count": 143
  },
  {
   "metadata": {
    "ExecuteTime": {
     "end_time": "2024-08-30T12:33:13.258822Z",
     "start_time": "2024-08-30T12:33:13.253637Z"
    }
   },
   "cell_type": "code",
   "source": " Person.__dict__.keys()",
   "id": "ae36923c5a6107bd",
   "outputs": [
    {
     "data": {
      "text/plain": [
       "dict_keys(['__module__', 'name', 'job', 'city', '__dict__', '__weakref__', '__doc__'])"
      ]
     },
     "execution_count": 135,
     "metadata": {},
     "output_type": "execute_result"
    }
   ],
   "execution_count": 135
  },
  {
   "metadata": {
    "ExecuteTime": {
     "end_time": "2024-08-30T12:33:31.219265Z",
     "start_time": "2024-08-30T12:33:31.215955Z"
    }
   },
   "cell_type": "code",
   "source": "a = {'one': 1, 'two': 2, 'three': 3}",
   "id": "6d873aacb85a16c8",
   "outputs": [],
   "execution_count": 137
  },
  {
   "metadata": {
    "ExecuteTime": {
     "end_time": "2024-08-30T12:37:16.285470Z",
     "start_time": "2024-08-30T12:37:16.282999Z"
    }
   },
   "cell_type": "code",
   "source": "p1.job = 'Dev'",
   "id": "bafdf4b852ed63c7",
   "outputs": [],
   "execution_count": 146
  },
  {
   "metadata": {
    "ExecuteTime": {
     "end_time": "2024-08-30T12:37:16.653673Z",
     "start_time": "2024-08-30T12:37:16.651284Z"
    }
   },
   "cell_type": "code",
   "source": "p1.__dict__.get('job', False)",
   "id": "b2ba18a5eb1476b4",
   "outputs": [
    {
     "data": {
      "text/plain": [
       "'Dev'"
      ]
     },
     "execution_count": 147,
     "metadata": {},
     "output_type": "execute_result"
    }
   ],
   "execution_count": 147
  },
  {
   "metadata": {
    "ExecuteTime": {
     "end_time": "2024-08-30T12:53:05.707850Z",
     "start_time": "2024-08-30T12:53:05.703082Z"
    }
   },
   "cell_type": "code",
   "source": "vars(p1)",
   "id": "73bec84110ec43d3",
   "outputs": [
    {
     "data": {
      "text/plain": [
       "{'job': 'Dev'}"
      ]
     },
     "execution_count": 148,
     "metadata": {},
     "output_type": "execute_result"
    }
   ],
   "execution_count": 148
  },
  {
   "metadata": {
    "ExecuteTime": {
     "end_time": "2024-08-30T12:54:03.623511Z",
     "start_time": "2024-08-30T12:54:03.619391Z"
    }
   },
   "cell_type": "code",
   "source": "p1.__dict__",
   "id": "c29dd7f434d6fa9b",
   "outputs": [
    {
     "data": {
      "text/plain": [
       "{'job': 'Dev'}"
      ]
     },
     "execution_count": 149,
     "metadata": {},
     "output_type": "execute_result"
    }
   ],
   "execution_count": 149
  },
  {
   "metadata": {
    "ExecuteTime": {
     "end_time": "2024-08-30T12:54:22.251538Z",
     "start_time": "2024-08-30T12:54:22.249101Z"
    }
   },
   "cell_type": "code",
   "source": "p1.__dir__()",
   "id": "b2c5dea192d43687",
   "outputs": [
    {
     "data": {
      "text/plain": [
       "['job',\n",
       " '__module__',\n",
       " 'name',\n",
       " 'city',\n",
       " '__dict__',\n",
       " '__weakref__',\n",
       " '__doc__',\n",
       " '__new__',\n",
       " '__repr__',\n",
       " '__hash__',\n",
       " '__str__',\n",
       " '__getattribute__',\n",
       " '__setattr__',\n",
       " '__delattr__',\n",
       " '__lt__',\n",
       " '__le__',\n",
       " '__eq__',\n",
       " '__ne__',\n",
       " '__gt__',\n",
       " '__ge__',\n",
       " '__init__',\n",
       " '__reduce_ex__',\n",
       " '__reduce__',\n",
       " '__getstate__',\n",
       " '__subclasshook__',\n",
       " '__init_subclass__',\n",
       " '__format__',\n",
       " '__sizeof__',\n",
       " '__dir__',\n",
       " '__class__']"
      ]
     },
     "execution_count": 150,
     "metadata": {},
     "output_type": "execute_result"
    }
   ],
   "execution_count": 150
  },
  {
   "metadata": {},
   "cell_type": "code",
   "outputs": [],
   "execution_count": null,
   "source": "",
   "id": "2bd75d8dde89238e"
  }
 ],
 "metadata": {
  "kernelspec": {
   "display_name": "Python 3",
   "language": "python",
   "name": "python3"
  },
  "language_info": {
   "codemirror_mode": {
    "name": "ipython",
    "version": 2
   },
   "file_extension": ".py",
   "mimetype": "text/x-python",
   "name": "python",
   "nbconvert_exporter": "python",
   "pygments_lexer": "ipython2",
   "version": "2.7.6"
  }
 },
 "nbformat": 4,
 "nbformat_minor": 5
}
