{
 "cells": [
  {
   "metadata": {
    "ExecuteTime": {
     "end_time": "2024-10-11T14:18:22.087240Z",
     "start_time": "2024-10-11T14:18:22.083770Z"
    }
   },
   "cell_type": "code",
   "source": [
    "class Data:\n",
    "    def __init__(self, data, ip):\n",
    "        self.data = data  # передаваемые данные (строка)\n",
    "        self.ip = ip  # IP-адрес назначения"
   ],
   "id": "initial_id",
   "outputs": [],
   "execution_count": 371
  },
  {
   "metadata": {
    "ExecuteTime": {
     "end_time": "2024-10-11T14:18:22.294183Z",
     "start_time": "2024-10-11T14:18:22.290184Z"
    }
   },
   "cell_type": "code",
   "source": [
    "class Server:    \n",
    "    unic_ip = 1  # уникальные адрес сервера\n",
    "    def __init__(self):\n",
    "        self.ip = Server.unic_ip\n",
    "        self.buffer = list()\n",
    "        Server.unic_ip += 1  # каждый раз при обращении обновляет\n",
    "                                \n",
    "    def send_data(self, paket):        \n",
    "        Router.buffer.append(paket)\n",
    "\n",
    "    def get_data(self):\n",
    "        get_buffer = self.buffer\n",
    "        self.buffer = list()\n",
    "        return get_buffer\n",
    "    \n",
    "    def get_ip(self):\n",
    "        return self.ip"
   ],
   "id": "53100750692a62d7",
   "outputs": [],
   "execution_count": 372
  },
  {
   "metadata": {
    "ExecuteTime": {
     "end_time": "2024-10-11T14:18:22.526365Z",
     "start_time": "2024-10-11T14:18:22.521602Z"
    }
   },
   "cell_type": "code",
   "source": [
    "class Router:\n",
    "    connect = dict()  # Присоеденённые сервера. Может быть только 1    \n",
    "    @classmethod\n",
    "    def link(cls, server):        \n",
    "        \"\"\"Для присоединения сервера server (объекта класса Server) к роутеру\"\"\"\n",
    "        if server in cls.connect:\n",
    "            pass\n",
    "        else:\n",
    "            cls.connect[server] = server.ip\n",
    "            \n",
    "    @classmethod\n",
    "    def unlink(cls, server):\n",
    "        del cls.connect[server]\n",
    "    \n",
    "    buffer = list()  # Список экз.класса Data полученных от Server\n",
    "    @classmethod\n",
    "    def send_data(cls):\n",
    "        keys_list = list(cls.connect.keys())\n",
    "        values_list = list(cls.connect.values())\n",
    "        for i in Router.buffer:            \n",
    "            index_key = values_list.index(i.ip)\n",
    "            server = keys_list[index_key]\n",
    "            server.buffer.append(i.data)\n",
    "        cls.buffer = list()"
   ],
   "id": "e99a519ff0eb505b",
   "outputs": [],
   "execution_count": 373
  },
  {
   "metadata": {
    "ExecuteTime": {
     "end_time": "2024-10-11T14:18:22.867808Z",
     "start_time": "2024-10-11T14:18:22.865263Z"
    }
   },
   "cell_type": "code",
   "source": [
    "router = Router()\n",
    "sv_from = Server()\n",
    "sv_from2 = Server()\n",
    "router.link(sv_from)\n",
    "router.link(sv_from2)\n",
    "router.link(Server())\n",
    "router.link(Server())\n",
    "sv_to = Server()\n",
    "router.link(sv_to)\n",
    "sv_from.send_data(Data(\"Hello\", sv_to.get_ip()))\n",
    "sv_from2.send_data(Data(\"Hello\", sv_to.get_ip()))\n",
    "sv_to.send_data(Data(\"Hi\", sv_from.get_ip()))\n",
    "router.send_data()\n",
    "msg_lst_from = sv_from.get_data()\n",
    "msg_lst_to = sv_to.get_data()"
   ],
   "id": "7222ed39f2e1a49e",
   "outputs": [],
   "execution_count": 374
  },
  {
   "metadata": {},
   "cell_type": "code",
   "outputs": [],
   "execution_count": null,
   "source": "",
   "id": "88fe5e679ff2dfc"
  }
 ],
 "metadata": {
  "kernelspec": {
   "display_name": "Python 3",
   "language": "python",
   "name": "python3"
  },
  "language_info": {
   "codemirror_mode": {
    "name": "ipython",
    "version": 2
   },
   "file_extension": ".py",
   "mimetype": "text/x-python",
   "name": "python",
   "nbconvert_exporter": "python",
   "pygments_lexer": "ipython2",
   "version": "2.7.6"
  }
 },
 "nbformat": 4,
 "nbformat_minor": 5
}
